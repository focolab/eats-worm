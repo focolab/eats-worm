{
 "cells": [
  {
   "attachments": {},
   "cell_type": "markdown",
   "metadata": {},
   "source": [
    "### Open namepsace and get exetnsions for multichannel volumetric data"
   ]
  },
  {
   "cell_type": "code",
   "execution_count": 24,
   "metadata": {},
   "outputs": [],
   "source": [
    "import os\n",
    "from pynwb import load_namespaces, get_class\n",
    "from pynwb.file import MultiContainerInterface, NWBContainer\n",
    "import skimage.io as skio\n",
    "from collections.abc import Iterable\n",
    "import numpy as np\n",
    "from pynwb import register_class\n",
    "from hdmf.utils import docval, get_docval, popargs\n",
    "from pynwb.ophys import ImageSeries \n",
    "from pynwb.core import NWBDataInterface\n",
    "from hdmf.common import DynamicTable\n",
    "from hdmf.utils import docval, popargs, get_docval, get_data_shape, popargs_to_dict\n",
    "from pynwb.file import Device\n",
    "import pandas as pd\n",
    "import numpy as np\n",
    "from pynwb import NWBFile, TimeSeries, NWBHDF5IO\n",
    "from pynwb.epoch import TimeIntervals\n",
    "from pynwb.file import Subject\n",
    "from pynwb.behavior import SpatialSeries, Position\n",
    "from pynwb.image import ImageSeries\n",
    "from pynwb.ophys import OnePhotonSeries, OpticalChannel, ImageSegmentation, Fluorescence, CorrectedImageStack, MotionCorrection, RoiResponseSeries\n",
    "from datetime import datetime\n",
    "from dateutil import tz\n",
    "import pandas as pd\n",
    "import scipy.io as sio\n",
    "from datetime import datetime, timedelta\n",
    "import tifffile\n",
    "\n",
    "# Set path of the namespace.yaml file to the expected install location\n",
    "MultiChannelVol_specpath = os.path.join(\n",
    "    os.getcwd(),\n",
    "    'spec',\n",
    "    'ndx-multichannel-volume.namespace.yaml'\n",
    ")\n",
    "# Load the namespace\n",
    "load_namespaces(MultiChannelVol_specpath)\n",
    "\n",
    "# TODO: import your classes here or define your class using get_class to make\n",
    "# them accessible at the package level\n",
    "#MultiChannelVolume = get_class('MultiChannelVolume', 'ndx-multichannel-volume')\n",
    "#ImagingVolume = get_class('ImagingVolume', 'ndx-multichannel-volume')\n",
    "CElegansSubject = get_class('CElegansSubject', 'ndx-multichannel-volume')\n",
    "OpticalChannelReferences = get_class('OpticalChannelReferences', 'ndx-multichannel-volume')\n",
    "OpticalChannelPlus = get_class('OpticalChannelPlus', 'ndx-multichannel-volume')\n",
    "#VolumeSegmentation = get_class('VolumeSegmentation', 'ndx-multichannel-volume')"
   ]
  },
  {
   "cell_type": "code",
   "execution_count": 25,
   "metadata": {},
   "outputs": [],
   "source": [
    "datapath = os.path.join('/Users', 'danielsprague', 'FOCO_lab', 'data')"
   ]
  },
  {
   "attachments": {},
   "cell_type": "markdown",
   "metadata": {},
   "source": [
    "### Define additional functionality for classes"
   ]
  },
  {
   "cell_type": "code",
   "execution_count": 26,
   "metadata": {},
   "outputs": [
    {
     "data": {
      "text/plain": [
       "'\\n@register_class(\\'OpticalChannelPlus\\', \\'ndx-multichannel-volume\\')\\nclass OpticalChannelPlus(OpticalChannel):\\n    \"\"\"An optical channel used to record from an imaging plane.\"\"\"\\n\\n    __nwbfields__ = (\\'excitation_lambda\\',\\n                     \\'emission_lambda\\',\\n                     \\'emission_range\\',\\n                     \\'excitation_range\\')\\n\\n    @docval(*get_docval(OpticalChannel.__init__),\\n            {\\'name\\': \\'excitation_lambda\\', \\'type\\': float, \\'doc\\': \\'Excitation wavelength for channel, in nm\\'}, # required\\n            {\\'name\\': \\'emission_range\\', \\'type\\': (\\'data\\', \\'array_data\\'), \\'doc\\': \\'boundaries of emission wavelength for channel, in nm\\'},\\n            {\\'name\\': \\'excitation_range\\', \\'type\\': (\\'data\\', \\'array_data\\'), \\'doc\\': \\'boundaries of excitation wavelength for channel, in nm\\'})  # required\\n    def __init__(self, **kwargs):\\n        excitation_lambda, emission_range, excitation_range, emission_lambda = popargs(\"excitation_lambda\", \"emission_range\", \"excitation_range\", kwargs)\\n        super().__init__(**kwargs)\\n        self.emission_range = emission_range\\n        self.excitation_range = excitation_range\\n        self.excitation_lambda = excitation_lambda\\n'"
      ]
     },
     "execution_count": 26,
     "metadata": {},
     "output_type": "execute_result"
    }
   ],
   "source": [
    "'''\n",
    "@register_class('OpticalChannelPlus', 'ndx-multichannel-volume')\n",
    "class OpticalChannelPlus(OpticalChannel):\n",
    "    \"\"\"An optical channel used to record from an imaging plane.\"\"\"\n",
    "\n",
    "    __nwbfields__ = ('excitation_lambda',\n",
    "                     'emission_lambda',\n",
    "                     'emission_range',\n",
    "                     'excitation_range')\n",
    "\n",
    "    @docval(*get_docval(OpticalChannel.__init__),\n",
    "            {'name': 'excitation_lambda', 'type': float, 'doc': 'Excitation wavelength for channel, in nm'}, # required\n",
    "            {'name': 'emission_range', 'type': ('data', 'array_data'), 'doc': 'boundaries of emission wavelength for channel, in nm'},\n",
    "            {'name': 'excitation_range', 'type': ('data', 'array_data'), 'doc': 'boundaries of excitation wavelength for channel, in nm'})  # required\n",
    "    def __init__(self, **kwargs):\n",
    "        excitation_lambda, emission_range, excitation_range, emission_lambda = popargs(\"excitation_lambda\", \"emission_range\", \"excitation_range\", kwargs)\n",
    "        super().__init__(**kwargs)\n",
    "        self.emission_range = emission_range\n",
    "        self.excitation_range = excitation_range\n",
    "        self.excitation_lambda = excitation_lambda\n",
    "'''"
   ]
  },
  {
   "cell_type": "code",
   "execution_count": 27,
   "metadata": {},
   "outputs": [],
   "source": [
    "@register_class('ImagingVolume', 'ndx-multichannel-volume')\n",
    "class ImagingVolume(NWBDataInterface):\n",
    "    \"\"\"An imaging plane and its metadata.\"\"\"\n",
    "\n",
    "    __nwbfields__ = ({'name': 'optical_channel_plus', 'child': True},\n",
    "                     'Order_optical_channels',\n",
    "                     'description',\n",
    "                     'device',\n",
    "                     'location',\n",
    "                     'conversion',\n",
    "                     'origin_coords',\n",
    "                     'origin_coords_units',\n",
    "                     'grid_spacing',\n",
    "                     'grid_spacing_units',\n",
    "                     'reference_frame',\n",
    "                     )\n",
    "\n",
    "    @docval(*get_docval(NWBDataInterface.__init__, 'name'),  # required\n",
    "            {'name': 'optical_channel_plus', 'type': ('data', 'array_data', OpticalChannelPlus),  # required\n",
    "             'doc': 'One of possibly many groups storing channel-specific data.'},\n",
    "            {'name': 'Order_optical_channels', 'type':OpticalChannelReferences, 'doc':'Order of the optical channels in the data'},\n",
    "            {'name': 'description', 'type': str, 'doc': 'Description of this ImagingVolume.'},  # required\n",
    "            {'name': 'device', 'type': Device, 'doc': 'the device that was used to record'},  # required\n",
    "            {'name': 'location', 'type': str, 'doc': 'Location of image plane.'},  # required\n",
    "            {'name': 'reference_frame', 'type': str,\n",
    "             'doc': 'Describes position and reference frame of manifold based on position of first element '\n",
    "                    'in manifold.',\n",
    "             'default': None},\n",
    "            {'name': 'origin_coords', 'type': 'array_data',\n",
    "             'doc': 'Physical location of the first element of the imaging plane (0, 0) for 2-D data or (0, 0, 0) for '\n",
    "                    '3-D data. See also reference_frame for what the physical location is relative to (e.g., bregma).',\n",
    "             'default': None},\n",
    "            {'name': 'origin_coords_unit', 'type': str,\n",
    "             'doc': \"Measurement units for origin_coords. The default value is 'meters'.\",\n",
    "             'default': 'meters'},\n",
    "            {'name': 'grid_spacing', 'type': 'array_data',\n",
    "             'doc': \"Space between pixels in (x, y) or voxels in (x, y, z) directions, in the specified unit. Assumes \"\n",
    "                    \"imaging plane is a regular grid. See also reference_frame to interpret the grid.\",\n",
    "             'default': None},\n",
    "            {'name': 'grid_spacing_unit', 'type': str,\n",
    "             'doc': \"Measurement units for grid_spacing. The default value is 'meters'.\",\n",
    "             'default': 'meters'})\n",
    "    def __init__(self, **kwargs):\n",
    "        keys_to_set = ('optical_channel_plus',\n",
    "                       'Order_optical_channels',\n",
    "                       'description',\n",
    "                       'device',\n",
    "                       'location',\n",
    "                       'reference_frame',\n",
    "                       'origin_coords',\n",
    "                       'origin_coords_unit',\n",
    "                       'grid_spacing',\n",
    "                       'grid_spacing_unit')\n",
    "        args_to_set = popargs_to_dict(keys_to_set, kwargs)\n",
    "        super().__init__(**kwargs)\n",
    "\n",
    "        if not isinstance(args_to_set['optical_channel_plus'], list):\n",
    "            args_to_set['optical_channel_plus'] = [args_to_set['optical_channel_plus']]\n",
    "\n",
    "        for key, val in args_to_set.items():\n",
    "            setattr(self, key, val)"
   ]
  },
  {
   "cell_type": "code",
   "execution_count": 28,
   "metadata": {},
   "outputs": [],
   "source": [
    "@register_class('VolumeSegmentation', 'ndx-multichannel-volume')\n",
    "class VolumeSegmentation(DynamicTable):\n",
    "    \"\"\"\n",
    "    Stores pixels in an image that represent different regions of interest (ROIs)\n",
    "    or masks. All segmentation for a given imaging volume is stored together, with\n",
    "    storage for multiple imaging planes (masks) supported. Each ROI is stored in its\n",
    "    own subgroup, with the ROI group containing both a 3D mask and a list of pixels\n",
    "    that make up this mask. Segments can also be used for masking neuropil. If segmentation\n",
    "    is allowed to change with time, a new imaging plane (or module) is required and\n",
    "    ROI names should remain consistent between them.\n",
    "    \"\"\"\n",
    "\n",
    "    __fields__ = ('imaging_volume','name')\n",
    "\n",
    "    __columns__ = (\n",
    "        {'name': 'image_mask', 'description': 'Image masks for each ROI'},\n",
    "        {'name': 'voxel_mask', 'description': 'Voxel masks for each ROI', 'index': True},\n",
    "        {'name': 'color_voxel_mask', 'description': 'Color voxel masks for each ROI', 'index':True}\n",
    "    )\n",
    "\n",
    "    @docval({'name': 'description', 'type': str,  # required\n",
    "             'doc': 'Description of image plane, recording wavelength, depth, etc.'},\n",
    "            {'name': 'imaging_volume', 'type': ImagingVolume,  # required\n",
    "             'doc': 'the ImagingVolume this ROI applies to'},\n",
    "            {'name': 'name', 'type': str, 'doc': 'name of VolumeSegmentation.', 'default': None},\n",
    "            *get_docval(DynamicTable.__init__, 'id', 'columns', 'colnames'))\n",
    "    def __init__(self, **kwargs):\n",
    "        imaging_volume = popargs('imaging_volume', kwargs)\n",
    "        if kwargs['name'] is None:\n",
    "            kwargs['name'] = imaging_volume.name\n",
    "        super().__init__(**kwargs)\n",
    "        self.imaging_volume = imaging_volume\n",
    "\n",
    "    @docval({'name': 'voxel_mask', 'type': 'array_data', 'default': None,\n",
    "             'doc': 'voxel mask for 3D ROIs: [(x1, y1, z1, weight1, ID), (x2, y2, z2, weight2, ID), ...]',\n",
    "             'shape': (None, 5)},\n",
    "             {'name': 'color_voxel_mask', 'type': 'array_data', 'default': None,\n",
    "             'doc': 'voxel mask for 3D ROIs with color information',\n",
    "             'shape': (None, 9)},\n",
    "            {'name': 'image_mask', 'type': 'array_data', 'default': None,\n",
    "             'doc': 'image with the same size of image where positive values mark this ROI',\n",
    "             'shape': [[None]*3]},\n",
    "            {'name': 'id', 'type': int, 'doc': 'the ID for the ROI', 'default': None},\n",
    "            allow_extra=True)\n",
    "    def add_roi(self, **kwargs):\n",
    "        \"\"\"Add a Region Of Interest (ROI) data to this\"\"\"\n",
    "        voxel_mask, color_voxel_mask, image_mask = popargs('voxel_mask', 'color_voxel_mask', 'image_mask', kwargs)\n",
    "        if image_mask is None and voxel_mask is None and color_voxel_mask is None:\n",
    "            raise ValueError(\"Must provide 'image_mask' and/or 'voxel_mask' and/or 'color_voxel_mask'\")\n",
    "        rkwargs = dict(kwargs)\n",
    "        if image_mask is not None:\n",
    "            rkwargs['image_mask'] = image_mask\n",
    "        if voxel_mask is not None:\n",
    "            rkwargs['voxel_mask'] = voxel_mask\n",
    "        if color_voxel_mask is not None:\n",
    "            rkwargs['color_voxel_mask'] = color_voxel_mask\n",
    "        return super().add_row(**rkwargs)\n",
    "\n",
    "    @staticmethod\n",
    "    def voxel_to_image(voxel_mask):\n",
    "        \"\"\"Converts a #D pixel_mask of a ROI into an image_mask.\"\"\"\n",
    "        image_matrix = np.zeros(np.shape(voxel_mask))\n",
    "        npmask = np.asarray(voxel_mask)\n",
    "        x_coords = npmask[:, 0].astype(np.int32)\n",
    "        y_coords = npmask[:, 1].astype(np.int32)\n",
    "        z_coords = npmask[:, 2].astype(np.int32)\n",
    "        weights = npmask[:, -1]\n",
    "        image_matrix[y_coords, x_coords, z_coords] = weights\n",
    "        return image_matrix\n",
    "\n",
    "    @staticmethod\n",
    "    def image_to_pixel(image_mask):\n",
    "        \"\"\"Converts an image_mask of a ROI into a pixel_mask\"\"\"\n",
    "        voxel_mask = []\n",
    "        it = np.nditer(image_mask, flags=['multi_index'])\n",
    "        while not it.finished:\n",
    "            weight = it[0][()]\n",
    "            if weight > 0:\n",
    "                x = it.multi_index[0]\n",
    "                y = it.multi_index[1]\n",
    "                z = it.multi_index[2]\n",
    "                voxel_mask.append([x, y, z, weight])\n",
    "            it.iternext()\n",
    "        return voxel_mask\n",
    "\n",
    "    @docval({'name': 'description', 'type': str, 'doc': 'a brief description of what the region is'},\n",
    "            {'name': 'region', 'type': (slice, list, tuple), 'doc': 'the indices of the table', 'default': slice(None)},\n",
    "            {'name': 'name', 'type': str, 'doc': 'the name of the ROITableRegion', 'default': 'rois'})\n",
    "    def create_roi_table_region(self, **kwargs):\n",
    "        return self.create_region(**kwargs)\n",
    "    \n"
   ]
  },
  {
   "cell_type": "code",
   "execution_count": 29,
   "metadata": {},
   "outputs": [],
   "source": [
    "@register_class('MultiChannelVolume', 'ndx-multichannel-volume')\n",
    "class MultiChannelVolume(NWBDataInterface):\n",
    "    \"\"\"An imaging plane and its metadata.\"\"\"\n",
    "\n",
    "    __nwbfields__ = ('resolution',\n",
    "                     'description',\n",
    "                     'RGBW_channels',\n",
    "                     'data',\n",
    "                     'imaging_volume'\n",
    "                     )\n",
    "\n",
    "    @docval(*get_docval(NWBDataInterface.__init__, 'name'),  # required\n",
    "            {'name': 'resolution', 'type': 'array_data', 'doc':'pixel resolution of the image', 'shape':[None]},\n",
    "            {'name': 'imaging_volume', 'type': ImagingVolume, 'doc': 'the Imaging Volume the data was generated from'},\n",
    "            {'name': 'description', 'type': str, 'doc':'description of image'},\n",
    "            {'name': 'RGBW_channels', 'doc': 'which channels in image map to RGBW', 'type': 'array_data', 'shape':[None]},\n",
    "            {'name': 'data', 'doc': 'Volumetric multichannel data', 'type': 'array_data', 'shape':[None]*4},\n",
    "    )\n",
    "    \n",
    "    def __init__(self, **kwargs):\n",
    "        keys_to_set = ('resolution',\n",
    "                       'description',\n",
    "                       'RGBW_channels',\n",
    "                       'data',\n",
    "                       'imaging_volume'\n",
    "                       )\n",
    "        args_to_set = popargs_to_dict(keys_to_set, kwargs)\n",
    "        super().__init__(**kwargs)\n",
    "\n",
    "        for key, val in args_to_set.items():\n",
    "            setattr(self, key, val)"
   ]
  },
  {
   "attachments": {},
   "cell_type": "markdown",
   "metadata": {},
   "source": [
    "### Creating NWB file for NeuroPAL data"
   ]
  },
  {
   "cell_type": "code",
   "execution_count": 30,
   "metadata": {},
   "outputs": [],
   "source": [
    "def gen_file(description, identifier, start_date_time, lab, institution, pubs):\n",
    "\n",
    "    nwbfile = NWBFile(\n",
    "        session_description = description,\n",
    "        identifier = identifier,\n",
    "        session_start_time = start_date_time,\n",
    "        lab = lab,\n",
    "        institution = institution,\n",
    "        related_publications = pubs\n",
    "    )\n",
    "\n",
    "    return nwbfile"
   ]
  },
  {
   "cell_type": "code",
   "execution_count": 31,
   "metadata": {},
   "outputs": [],
   "source": [
    "def create_im_vol(device, channels, location=\"head\", grid_spacing=[0.3208, 0.3208, 0.75], grid_spacing_unit =\"micrometers\", origin_coords=[0,0,0], origin_coords_unit=\"micrometers\", reference_frame=\"Worm head, left=anterior, bottom=ventral\"):\n",
    "    \n",
    "    # channels should be ordered list of tuples (name, description)\n",
    "\n",
    "    OptChannels = []\n",
    "    OptChanRefData = []\n",
    "    for name, wave in channels:\n",
    "        excite = float(wave.split('-')[0])\n",
    "        emiss_mid = float(wave.split('-')[1])\n",
    "        emiss_range = float(wave.split('-')[2][:-1])\n",
    "        OptChan = OpticalChannelPlus(\n",
    "            name = name,\n",
    "            description = wave,\n",
    "            excitation_lambda = excite,\n",
    "            excitation_range = [excite, excite],\n",
    "            emission_range = [emiss_mid-emiss_range/2, emiss_mid+emiss_range/2],\n",
    "            emission_lambda = emiss_mid\n",
    "        )\n",
    "\n",
    "        OptChannels.append(OptChan)\n",
    "        OptChanRefData.append(wave)\n",
    "\n",
    "    OpticalChannelRefs = OpticalChannelReferences(\n",
    "        name = 'OpticalChannelRefs',\n",
    "        data = OptChanRefData\n",
    "    )\n",
    "\n",
    "    imaging_vol = ImagingVolume(\n",
    "        name= 'ImagingVolume',\n",
    "        optical_channel_plus = OptChannels,\n",
    "        Order_optical_channels = OpticalChannelRefs,\n",
    "        description = 'NeuroPAL image of C elegan brain',\n",
    "        device = device,\n",
    "        location = location,\n",
    "        grid_spacing = grid_spacing,\n",
    "        grid_spacing_unit = grid_spacing_unit,\n",
    "        origin_coords = origin_coords,\n",
    "        origin_coords_unit = origin_coords_unit,\n",
    "        reference_frame = reference_frame\n",
    "    )\n",
    "\n",
    "    return imaging_vol, OpticalChannelRefs, OptChannels"
   ]
  },
  {
   "cell_type": "code",
   "execution_count": 32,
   "metadata": {},
   "outputs": [],
   "source": [
    "def create_vol_seg(imaging_vol, blobs):\n",
    "\n",
    "    vs = VolumeSegmentation(\n",
    "        name = 'VolumeSegmentation',\n",
    "        description = 'Neuron centers for multichannel volumetric image',\n",
    "        imaging_volume = imaging_vol\n",
    "    )\n",
    "\n",
    "    csv = pd.read_csv(blobs)\n",
    "\n",
    "    voxel_mask = []\n",
    "\n",
    "    for i, row in csv.iterrows():\n",
    "        x = row['X']\n",
    "        y = row['Y']\n",
    "        z = row['Z']\n",
    "        ID = row['ID']\n",
    "\n",
    "        voxel_mask.append([np.uint(x),np.uint(y),np.uint(z),1,str(ID)])\n",
    "\n",
    "    vs.add_roi(voxel_mask=voxel_mask)\n",
    "\n",
    "    return vs"
   ]
  },
  {
   "cell_type": "code",
   "execution_count": 33,
   "metadata": {},
   "outputs": [],
   "source": [
    "def create_image(data, name, description, imaging_volume, resolution=[0.3208, 0.3208, 0.75], RGBW_channels=[0,1,2,3]):\n",
    "\n",
    "    image = MultiChannelVolume(\n",
    "        name = name,\n",
    "        resolution = resolution,\n",
    "        description = description,\n",
    "        RGBW_channels = RGBW_channels,\n",
    "        data = data,\n",
    "        imaging_volume = imaging_volume\n",
    "    )\n",
    "\n",
    "    return image"
   ]
  },
  {
   "cell_type": "code",
   "execution_count": 34,
   "metadata": {},
   "outputs": [],
   "source": [
    "'''\n",
    "Create NWB file from tif file of raw image, neuroPAL software created mat file and csv files of blob locations\n",
    "'''\n",
    "\n",
    "def create_file_FOCO(folder, reference_frame):\n",
    "\n",
    "\n",
    "    worm = folder.split('/')[1]\n",
    "\n",
    "    path = datapath+'/'+folder\n",
    "\n",
    "    for file in os.listdir(path):\n",
    "        if file[-4:] =='.tif':\n",
    "            imfile = path + '/'+file\n",
    "\n",
    "        elif file[-4:] == '.mat' and file[-6:]!= 'ID.mat':\n",
    "            matfile = path + '/'+file\n",
    "\n",
    "        elif file == 'blobs.csv':\n",
    "            blobs = path +'/'+file\n",
    "\n",
    "    data = np.transpose(skio.imread(imfile), (1,0,2,3))\n",
    "    #data = data.astype('uint16')\n",
    "    mat = sio.loadmat(matfile)\n",
    "\n",
    "    scale = np.asarray(mat['info']['scale'][0][0]).flatten()\n",
    "    prefs = np.asarray(mat['prefs']['RGBW'][0][0]).flatten()-1 #subtract 1 to adjust for matlab indexing from 1\n",
    "    \n",
    "    dt = worm.split('-')\n",
    "    session_start = datetime(int(dt[0]),int(dt[1]),int(dt[2]), tzinfo=tz.gettz(\"US/Pacific\"))\n",
    "    \n",
    "    nwbfile = gen_file('Worm head', worm, session_start, 'Kato lab', 'UCSF', \"\")\n",
    "\n",
    "    nwbfile.subject = CElegansSubject(\n",
    "    subject_id = worm,\n",
    "    #age = \"T2H30M\",\n",
    "    #growth_stage_time = pd.Timedelta(hours=2, minutes=30).isoformat(),\n",
    "    date_of_birth = session_start, #currently just using the session start time to bypass the requirement for date of birth\n",
    "    growth_stage = 'YA',\n",
    "    cultivation_temp = 20.,\n",
    "    description = dt[3]+'-'+dt[4],\n",
    "    species  = \"Caenorhabditis elegans\",\n",
    "    sex = \"O\", #currently just using O for other until support added for other gender specifications\n",
    "    strain = \"OH16230\"\n",
    "    )\n",
    "\n",
    "    device = nwbfile.create_device(\n",
    "    name = \"Microscope\",\n",
    "    description = \"One-photon microscope Weill\",\n",
    "    manufacturer = \"Leica\"\n",
    "    )\n",
    "\n",
    "    channels = [(\"mNeptune 2.5\", \"561-700-75m\"), (\"Tag RFP-T\", \"561-605-70m\"), (\"CyOFP1\", \"488-605-70m\"), (\"GFP-GCaMP\", \"488-525-50m\"), (\"mTagBFP2\", \"405-460-50m\"), (\"mNeptune 2.5 - high excite\", \"639-700-75m\")]\n",
    "    \n",
    "    ImagingVol, OptChannelRefs, OpticalChannelPlus = create_im_vol(device, channels, location= \"head\", grid_spacing= scale, reference_frame=reference_frame)\n",
    "\n",
    "    vs = create_vol_seg(ImagingVol, blobs)\n",
    "\n",
    "    image= create_image(data, 'NeuroPALImageRaw', worm, ImagingVol, resolution=scale, RGBW_channels=[0,2,4,1])\n",
    "\n",
    "    nwbfile.add_acquisition(image)\n",
    "\n",
    "    neuroPAL_module = nwbfile.create_processing_module(\n",
    "        name = 'NeuroPAL',\n",
    "        description = 'neuroPAL image data and metadata',\n",
    "    )    \n",
    "\n",
    "    processed_im_module = nwbfile.create_processing_module(\n",
    "        name = 'ProcessedImage',\n",
    "        description = 'Pre-processed image. Currently median filtered and histogram matched to original neuroPAL images.'\n",
    "    )\n",
    "\n",
    "    proc_imfile = datapath + '/NP_FOCO_hist_med/'+worm+'/hist_med_image.tif'\n",
    "\n",
    "    proc_data = np.transpose(skio.imread(proc_imfile), (0,3,1,2))\n",
    "    #proc_data = proc_data.astype('uint16')\n",
    "\n",
    "    proc_image = create_image(proc_data, 'Hist_match_med_filt', worm, ImagingVol, resolution=scale, RGBW_channels=[0,1,2,3])\n",
    "\n",
    "    neuroPAL_module.add(vs)\n",
    "    neuroPAL_module.add(ImagingVol)\n",
    "    neuroPAL_module.add(OptChannelRefs)\n",
    "    neuroPAL_module.add(OpticalChannelPlus)\n",
    "\n",
    "    processed_im_module.add(proc_image)\n",
    "\n",
    "    io = NWBHDF5IO(datapath+'/nwb/'+worm+'.nwb', mode='w')\n",
    "    io.write(nwbfile)\n",
    "    io.close()\n",
    "\n",
    "\n",
    "    "
   ]
  },
  {
   "cell_type": "code",
   "execution_count": 35,
   "metadata": {},
   "outputs": [
    {
     "name": "stderr",
     "output_type": "stream",
     "text": [
      "/Users/danielsprague/anaconda3/envs/nwb/lib/python3.8/site-packages/hdmf/build/objectmapper.py:260: DtypeConversionWarning: Spec 'ImagingVolume/origin_coords': Value with data type int64 is being converted to data type float64 (min specification: float32).\n",
      "  warnings.warn(full_warning_msg, DtypeConversionWarning)\n",
      "/Users/danielsprague/anaconda3/envs/nwb/lib/python3.8/site-packages/hdmf/build/objectmapper.py:260: DtypeConversionWarning: Spec 'ImagingVolume/origin_coords': Value with data type int64 is being converted to data type float64 (min specification: float32).\n",
      "  warnings.warn(full_warning_msg, DtypeConversionWarning)\n",
      "/Users/danielsprague/anaconda3/envs/nwb/lib/python3.8/site-packages/hdmf/build/objectmapper.py:260: DtypeConversionWarning: Spec 'ImagingVolume/origin_coords': Value with data type int64 is being converted to data type float64 (min specification: float32).\n",
      "  warnings.warn(full_warning_msg, DtypeConversionWarning)\n",
      "/Users/danielsprague/anaconda3/envs/nwb/lib/python3.8/site-packages/hdmf/build/objectmapper.py:260: DtypeConversionWarning: Spec 'ImagingVolume/origin_coords': Value with data type int64 is being converted to data type float64 (min specification: float32).\n",
      "  warnings.warn(full_warning_msg, DtypeConversionWarning)\n",
      "/Users/danielsprague/anaconda3/envs/nwb/lib/python3.8/site-packages/hdmf/build/objectmapper.py:260: DtypeConversionWarning: Spec 'ImagingVolume/origin_coords': Value with data type int64 is being converted to data type float64 (min specification: float32).\n",
      "  warnings.warn(full_warning_msg, DtypeConversionWarning)\n",
      "/Users/danielsprague/anaconda3/envs/nwb/lib/python3.8/site-packages/hdmf/build/objectmapper.py:260: DtypeConversionWarning: Spec 'ImagingVolume/origin_coords': Value with data type int64 is being converted to data type float64 (min specification: float32).\n",
      "  warnings.warn(full_warning_msg, DtypeConversionWarning)\n",
      "/Users/danielsprague/anaconda3/envs/nwb/lib/python3.8/site-packages/hdmf/build/objectmapper.py:260: DtypeConversionWarning: Spec 'ImagingVolume/origin_coords': Value with data type int64 is being converted to data type float64 (min specification: float32).\n",
      "  warnings.warn(full_warning_msg, DtypeConversionWarning)\n",
      "/Users/danielsprague/anaconda3/envs/nwb/lib/python3.8/site-packages/hdmf/build/objectmapper.py:260: DtypeConversionWarning: Spec 'ImagingVolume/origin_coords': Value with data type int64 is being converted to data type float64 (min specification: float32).\n",
      "  warnings.warn(full_warning_msg, DtypeConversionWarning)\n",
      "/Users/danielsprague/anaconda3/envs/nwb/lib/python3.8/site-packages/hdmf/build/objectmapper.py:260: DtypeConversionWarning: Spec 'ImagingVolume/origin_coords': Value with data type int64 is being converted to data type float64 (min specification: float32).\n",
      "  warnings.warn(full_warning_msg, DtypeConversionWarning)\n",
      "/Users/danielsprague/anaconda3/envs/nwb/lib/python3.8/site-packages/hdmf/build/objectmapper.py:260: DtypeConversionWarning: Spec 'ImagingVolume/origin_coords': Value with data type int64 is being converted to data type float64 (min specification: float32).\n",
      "  warnings.warn(full_warning_msg, DtypeConversionWarning)\n"
     ]
    },
    {
     "ename": "",
     "evalue": "",
     "output_type": "error",
     "traceback": [
      "\u001b[1;31mThe Kernel crashed while executing code in the the current cell or a previous cell. Please review the code in the cell(s) to identify a possible cause of the failure. Click <a href='https://aka.ms/vscodeJupyterKernelCrash'>here</a> for more info. View Jupyter <a href='command:jupyter.viewOutput'>log</a> for further details."
     ]
    }
   ],
   "source": [
    "create_file_FOCO('NP_FOCO_cropped/2021-12-03-w00-NP1', reference_frame = 'origin = anterior, dorsal, left')\n",
    "create_file_FOCO('NP_FOCO_cropped/2022-01-22-w04-NP1', reference_frame = 'origin = posterior, dorsal, left')\n",
    "create_file_FOCO('NP_FOCO_cropped/2022-02-11-w03-NP1', reference_frame = 'origin = posterior, dorsal, left')\n",
    "create_file_FOCO('NP_FOCO_cropped/2022-02-12-w00-NP1', reference_frame = 'origin = posterior, ventral, right')\n",
    "create_file_FOCO('NP_FOCO_cropped/2022-02-12-w01-NP1', reference_frame = 'origin = posterior, ventral, right')\n",
    "create_file_FOCO('NP_FOCO_cropped/2022-02-22-w04-NP1', reference_frame = 'origin = anterior, ventral left; slightly rotated')\n",
    "create_file_FOCO('NP_FOCO_cropped/2022-03-05-w00-NP1', reference_frame = 'origin = posterior, ventral, right')\n",
    "create_file_FOCO('NP_FOCO_cropped/2022-04-01-w00-NP1', reference_frame = 'origin = anterior, dorsal, left')\n",
    "create_file_FOCO('NP_FOCO_cropped/2022-04-26-w00-NP1', reference_frame = 'origin = posterior, dorsal, left; slightly rotated')\n",
    "create_file_FOCO('NP_FOCO_cropped/2022-04-26-w01-NP1', reference_frame = 'origin = posterior, ventral, right')"
   ]
  },
  {
   "attachments": {},
   "cell_type": "markdown",
   "metadata": {},
   "source": [
    "### Read NWB files and recreate relevant files"
   ]
  },
  {
   "cell_type": "markdown",
   "metadata": {},
   "source": []
  },
  {
   "cell_type": "code",
   "execution_count": 13,
   "metadata": {},
   "outputs": [],
   "source": [
    "with NWBHDF5IO(datapath+\"/nwb/2022-02-12-w01-NP1.nwb\", mode='r', load_namespaces=True) as io:\n",
    "    read_nwbfile = io.read()\n",
    "    subject = read_nwbfile.subject\n",
    "    image = read_nwbfile.acquisition['NeuroPALImageRaw'].data[:]\n",
    "    resolution = read_nwbfile.acquisition['NeuroPALImageRaw'].resolution[:]\n",
    "    channels = read_nwbfile.acquisition['NeuroPALImageRaw'].RGBW_channels[:]\n",
    "    seg = read_nwbfile.processing['NeuroPAL']['VolumeSegmentation'].voxel_mask[:]\n",
    "    im_vol = read_nwbfile.processing['NeuroPAL']['ImagingVolume']\n",
    "    optchans = read_nwbfile.processing['NeuroPAL']['ImagingVolume'].optical_channel_plus[:]\n",
    "    grid_spacing = im_vol.grid_spacing[:]\n",
    "    chan_refs = read_nwbfile.processing['NeuroPAL']['OpticalChannelRefs'].data[:]\n",
    "    proc_image = read_nwbfile.processing['ProcessedImage']['Hist_match_med_filt'].data[:]\n",
    "\n"
   ]
  },
  {
   "cell_type": "code",
   "execution_count": 14,
   "metadata": {},
   "outputs": [],
   "source": [
    "'''\n",
    "Recreate blobs.csv from vol_seg\n",
    "'''\n",
    "\n",
    "blobs = pd.DataFrame.from_records(seg, columns=['X', 'Y','Z','weight', 'ID'])\n",
    "blobs = blobs.drop(['weight'], axis=1)\n",
    "blobs = blobs.replace('nan', '', regex=True)\n",
    "blobs.to_csv(datapath+'/nwb/test.csv')\n"
   ]
  },
  {
   "cell_type": "code",
   "execution_count": 15,
   "metadata": {},
   "outputs": [
    {
     "name": "stdout",
     "output_type": "stream",
     "text": [
      "(45, 6, 240, 1000)\n"
     ]
    }
   ],
   "source": [
    "'''\n",
    "Recreate original image from acquisition raw image\n",
    "'''\n",
    "print(image.shape)\n",
    "\n",
    "#im = np.transpose(image,(2,3,1,0)) #have to flip some of the axes to align with how FIJI reads tiff images\n",
    "#image = image.astype('uint16')\n",
    "#print(im.dtype)\n",
    "#print(im.shape)\n",
    "\n",
    "tifffile.imwrite(datapath + '/nwb/test.tif', image, imagej = True)"
   ]
  },
  {
   "cell_type": "code",
   "execution_count": 16,
   "metadata": {},
   "outputs": [
    {
     "name": "stdout",
     "output_type": "stream",
     "text": [
      "(45, 4, 240, 1000)\n",
      "uint16\n"
     ]
    }
   ],
   "source": [
    "'''\n",
    "Recreate histogram matched image from processed data\n",
    "'''\n",
    "\n",
    "print(proc_image.shape)\n",
    "\n",
    "#im = np.transpose(proc_image, (3,0,2,1)) #have to flip some of the axes to align with how FIJI reads tiff images\n",
    "#proc_image = proc_image.astype('uint16')\n",
    "print(proc_image.dtype)\n",
    "\n",
    "tifffile.imwrite(datapath + '/nwb/test_proc.tif', proc_image, imagej = True)"
   ]
  },
  {
   "cell_type": "code",
   "execution_count": 28,
   "metadata": {},
   "outputs": [
    {
     "name": "stdout",
     "output_type": "stream",
     "text": [
      "[0.3216 0.3216 0.75  ]\n",
      "[0 2 4 1]\n"
     ]
    }
   ],
   "source": [
    "print(resolution)\n",
    "print(channels)"
   ]
  },
  {
   "cell_type": "code",
   "execution_count": 23,
   "metadata": {},
   "outputs": [
    {
     "name": "stdout",
     "output_type": "stream",
     "text": [
      "(6, 45, 240, 1000)\n",
      "(45, 240, 1000, 4)\n"
     ]
    }
   ],
   "source": [
    "imfile = datapath + '/NP_FOCO_cropped/2022-02-12-w01-NP1/neuropal_1_MMStack_Pos0.ome.tif'\n",
    "proc_imfile = datapath + '/NP_FOCO_hist_med/2022-02-12-w01-NP1/hist_med_image.tif'\n",
    "data = skio.imread(imfile)\n",
    "proc_data = skio.imread(proc_imfile)\n",
    "\n",
    "print(data.shape)\n",
    "print(proc_data.shape)\n"
   ]
  },
  {
   "cell_type": "code",
   "execution_count": 23,
   "metadata": {},
   "outputs": [
    {
     "name": "stdout",
     "output_type": "stream",
     "text": [
      "{'nwb_version': '2.6.0', 'experiment_description': None, 'experimenter': None, 'identifier': '2022-02-12-w01-NP1', 'institution': 'UCSF', 'keywords': None, 'lab': 'Kato lab', 'related_publications': ('',), 'session_description': 'Worm head', 'session_id': None, 'session_start_time': datetime.datetime(2022, 2, 12, 0, 0, tzinfo=tzoffset(None, -28800)), 'age': None, 'date_of_birth': datetime.datetime(2022, 2, 12, 0, 0, tzinfo=tzoffset(None, -28800)), 'genotype': None, 'sex': 'O', 'species': 'Caenorhabditis elegans', 'subject_id': '2022-02-12-w01-NP1', 'number_of_electrodes': 0, 'number_of_units': 0, 'external_file_objects': [], 'nd_types': ['CElegansSubject', 'Device (5)', 'ImagingVolume (4)', 'MultiChannelVolume (2)', 'OpticalChannelPlus (24)', 'OpticalChannelReferences (5)', 'ProcessingModule (2)', 'VolumeSegmentation']}\n"
     ]
    }
   ],
   "source": [
    "from dandi.metadata import get_metadata\n",
    "\n",
    "meta = get_metadata('/Users/danielsprague/FOCO_lab/data/000472/../nwb/2022-02-12-w01-NP1.nwb')\n",
    "\n",
    "print(meta)"
   ]
  },
  {
   "cell_type": "code",
   "execution_count": null,
   "metadata": {},
   "outputs": [],
   "source": [
    "\n",
    "\n",
    "from dandi.organize import filter_invalid_metadata_rows(metadata)"
   ]
  }
 ],
 "metadata": {
  "kernelspec": {
   "display_name": "nwb",
   "language": "python",
   "name": "nwb"
  },
  "language_info": {
   "codemirror_mode": {
    "name": "ipython",
    "version": 3
   },
   "file_extension": ".py",
   "mimetype": "text/x-python",
   "name": "python",
   "nbconvert_exporter": "python",
   "pygments_lexer": "ipython3",
   "version": "3.8.16"
  },
  "orig_nbformat": 4,
  "vscode": {
   "interpreter": {
    "hash": "350f9b7359cb9055cd887767acae0b1839a3c0bff8851a59ae54bc63048a16eb"
   }
  }
 },
 "nbformat": 4,
 "nbformat_minor": 2
}
