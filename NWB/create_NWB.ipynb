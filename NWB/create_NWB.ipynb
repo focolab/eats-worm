{
 "cells": [
  {
   "attachments": {},
   "cell_type": "markdown",
   "metadata": {},
   "source": [
    "### Open namepsace and get exetnsions for multichannel volumetric data"
   ]
  },
  {
   "cell_type": "code",
   "execution_count": 28,
   "metadata": {},
   "outputs": [],
   "source": [
    "import os\n",
    "from pynwb import load_namespaces, get_class\n",
    "from pynwb.file import MultiContainerInterface, NWBContainer\n",
    "import skimage.io as skio\n",
    "from collections.abc import Iterable\n",
    "import numpy as np\n",
    "from pynwb import register_class\n",
    "from hdmf.utils import docval, get_docval, popargs\n",
    "from pynwb.ophys import ImageSeries \n",
    "from pynwb.core import NWBDataInterface\n",
    "from hdmf.common import DynamicTable\n",
    "from hdmf.utils import docval, popargs, get_docval, get_data_shape, popargs_to_dict\n",
    "from pynwb.file import Device\n",
    "import pandas as pd\n",
    "import numpy as np\n",
    "from pynwb import NWBFile, TimeSeries, NWBHDF5IO\n",
    "from pynwb.epoch import TimeIntervals\n",
    "from pynwb.file import Subject\n",
    "from pynwb.behavior import SpatialSeries, Position\n",
    "from pynwb.image import ImageSeries\n",
    "from pynwb.ophys import OnePhotonSeries, OpticalChannel, ImageSegmentation, Fluorescence, CorrectedImageStack, MotionCorrection, RoiResponseSeries, ImagingPlane\n",
    "from datetime import datetime\n",
    "from datetime import timedelta\n",
    "from dateutil import tz\n",
    "import pandas as pd\n",
    "import scipy.io as sio\n",
    "from datetime import datetime, timedelta\n",
    "import tifffile\n",
    "from ndx_multichannel_volume import CElegansSubject, OpticalChannelReferences, OpticalChannelPlus, ImagingVolume, VolumeSegmentation, MultiChannelVolume"
   ]
  },
  {
   "cell_type": "code",
   "execution_count": 29,
   "metadata": {},
   "outputs": [],
   "source": [
    "datapath = os.path.join('/Users', 'danielysprague', 'foco_lab', 'data')"
   ]
  },
  {
   "attachments": {},
   "cell_type": "markdown",
   "metadata": {},
   "source": [
    "### Creating NWB file for NeuroPAL data"
   ]
  },
  {
   "cell_type": "code",
   "execution_count": 30,
   "metadata": {},
   "outputs": [],
   "source": [
    "def gen_file(description, identifier, start_date_time, lab, institution, pubs):\n",
    "\n",
    "    nwbfile = NWBFile(\n",
    "        session_description = description,\n",
    "        identifier = identifier,\n",
    "        session_start_time = start_date_time,\n",
    "        lab = lab,\n",
    "        institution = institution,\n",
    "        related_publications = pubs\n",
    "    )\n",
    "\n",
    "    return nwbfile"
   ]
  },
  {
   "cell_type": "code",
   "execution_count": 31,
   "metadata": {},
   "outputs": [],
   "source": [
    "def create_im_vol(device, channels, location=\"head\", grid_spacing=[0.3208, 0.3208, 0.75], grid_spacing_unit =\"micrometers\", origin_coords=[0,0,0], origin_coords_unit=\"micrometers\", reference_frame=\"Worm head\"):\n",
    "    \n",
    "    # channels should be ordered list of tuples (name, description)\n",
    "\n",
    "    OptChannels = []\n",
    "    OptChanRefData = []\n",
    "    for name, des, wave in channels:\n",
    "        excite = float(wave.split('-')[0])\n",
    "        emiss_mid = float(wave.split('-')[1])\n",
    "        emiss_range = float(wave.split('-')[2][:-1])\n",
    "        OptChan = OpticalChannelPlus(\n",
    "            name = name,\n",
    "            description = des,\n",
    "            excitation_lambda = excite,\n",
    "            excitation_range = [excite-1.5, excite+1.5],\n",
    "            emission_range = [emiss_mid-emiss_range/2, emiss_mid+emiss_range/2],\n",
    "            emission_lambda = emiss_mid\n",
    "        )\n",
    "\n",
    "        OptChannels.append(OptChan)\n",
    "        OptChanRefData.append(wave)\n",
    "\n",
    "    OpticalChannelRefs = OpticalChannelReferences(\n",
    "        name = 'OpticalChannelRefs',\n",
    "        channels = OptChanRefData\n",
    "    )\n",
    "\n",
    "    imaging_vol = ImagingVolume(\n",
    "        name= 'ImagingVolume',\n",
    "        optical_channel_plus = OptChannels,\n",
    "        Order_optical_channels = OpticalChannelRefs,\n",
    "        description = 'NeuroPAL image of C elegan brain',\n",
    "        device = device,\n",
    "        location = location,\n",
    "        grid_spacing = grid_spacing,\n",
    "        grid_spacing_unit = grid_spacing_unit,\n",
    "        origin_coords = origin_coords,\n",
    "        origin_coords_unit = origin_coords_unit,\n",
    "        reference_frame = reference_frame\n",
    "    )\n",
    "\n",
    "    return imaging_vol, OpticalChannelRefs, OptChannels"
   ]
  },
  {
   "cell_type": "code",
   "execution_count": 32,
   "metadata": {},
   "outputs": [],
   "source": [
    "def create_vol_seg(imaging_vol, blobs):\n",
    "\n",
    "    vs = VolumeSegmentation(\n",
    "        name = 'VolumeSegmentation',\n",
    "        description = 'Neuron centers for multichannel volumetric image',\n",
    "        imaging_volume = imaging_vol\n",
    "    )\n",
    "\n",
    "    voxel_mask = []\n",
    "\n",
    "    for i, row in blobs.iterrows():\n",
    "        x = row['X']\n",
    "        y = row['Y']\n",
    "        z = row['Z']\n",
    "        ID = row['ID']\n",
    "\n",
    "        voxel_mask.append([np.uint(x),np.uint(y),np.uint(z),1,str(ID)])\n",
    "\n",
    "    vs.add_roi(voxel_mask=voxel_mask)\n",
    "\n",
    "    return vs"
   ]
  },
  {
   "cell_type": "code",
   "execution_count": 33,
   "metadata": {},
   "outputs": [],
   "source": [
    "def create_image(data, name, description, imaging_volume, opt_chan_refs, resolution=[0.3208, 0.3208, 0.75], RGBW_channels=[0,1,2,3]):\n",
    "\n",
    "    image = MultiChannelVolume(\n",
    "        name = name,\n",
    "        Order_optical_channels = opt_chan_refs,\n",
    "        resolution = resolution,\n",
    "        description = description,\n",
    "        RGBW_channels = RGBW_channels,\n",
    "        data = data,\n",
    "        imaging_volume = imaging_volume\n",
    "    )\n",
    "\n",
    "    return image"
   ]
  },
  {
   "cell_type": "code",
   "execution_count": 45,
   "metadata": {},
   "outputs": [],
   "source": [
    "'''\n",
    "Create NWB file from tif file of raw image, neuroPAL software created mat file and csv files of blob locations\n",
    "'''\n",
    "\n",
    "def create_file_FOCO(folder, reference_frame):\n",
    "\n",
    "    worm = folder.split('/')[-1]\n",
    "\n",
    "    path = folder\n",
    "\n",
    "    for file in os.listdir(path):\n",
    "        if file[-4:] =='.tif':\n",
    "            imfile = path + '/'+file\n",
    "\n",
    "        elif file[-4:] == '.mat' and file[-6:]!= 'ID.mat':\n",
    "            matfile = path + '/'+file\n",
    "\n",
    "        elif file == 'blobs.csv':\n",
    "            blobs = path +'/'+file\n",
    "\n",
    "    data = np.transpose(skio.imread(imfile)) # data in XYZC\n",
    "    #data = data.astype('uint16')\n",
    "    mat = sio.loadmat(matfile)\n",
    "\n",
    "    scale = np.asarray(mat['info']['scale'][0][0]).flatten()\n",
    "    prefs = np.asarray(mat['prefs']['RGBW'][0][0]).flatten()-1 #subtract 1 to adjust for matlab indexing from 1\n",
    "    \n",
    "    dt = worm.split('-')\n",
    "    session_start = datetime(int(dt[0]),int(dt[1]),int(dt[2]), tzinfo=tz.gettz(\"US/Pacific\"))\n",
    "    \n",
    "    nwbfile = gen_file('Worm head', worm, session_start, 'Kato lab', 'UCSF', \"\")\n",
    "\n",
    "    nwbfile.subject = CElegansSubject(\n",
    "    subject_id = worm,\n",
    "    #age = \"T2H30M\",\n",
    "    #growth_stage_time = pd.Timedelta(hours=2, minutes=30).isoformat(),\n",
    "    date_of_birth = session_start, #currently just using the session start time to bypass the requirement for date of birth\n",
    "    growth_stage = 'YA',\n",
    "    growth_stage_time=pd.Timedelta(hours=2, minutes=30).isoformat(),\n",
    "    cultivation_temp = 20.,\n",
    "    description = dt[3]+'-'+dt[4],\n",
    "    species  =  \"http://purl.obolibrary.org/obo/NCBITaxon_6239\",\n",
    "    sex = \"O\", #currently just using O for other until support added for other gender specifications\n",
    "    strain = \"OH16230\"\n",
    "    )\n",
    "\n",
    "    device = nwbfile.create_device(\n",
    "    name = \"Microscope\",\n",
    "    description = \"One-photon microscope Weill\",\n",
    "    manufacturer = \"Leica\"\n",
    "    )\n",
    "\n",
    "    channels = [(\"mNeptune 2.5\", \"Chroma ET 700/75\", \"561-700-75m\"), (\"Tag RFP-T\", \"Chroma ET 605/70\", \"561-605-70m\"), (\"CyOFP1\", \"Chroma ET 605/70\",\"488-605-70m\"), (\"GFP-GCaMP\", \"Chroma ET 525/50\",\"488-525-50m\"), (\"mTagBFP2\", \"Chroma ET 460/50\", \"405-460-50m\"),(\"mNeptune 2.5-far red\", \"Chroma ET 700/75\", \"639-700-75m\")]\n",
    "    \n",
    "    ImagingVol, OptChannelRefs, OptChannels = create_im_vol(device, channels, location= \"head\", grid_spacing= scale, reference_frame=reference_frame)\n",
    "\n",
    "    csv = pd.read_csv(blobs)\n",
    "\n",
    "    vs = create_vol_seg(ImagingVol, csv)\n",
    "\n",
    "    image= create_image(data, 'NeuroPALImageRaw', worm, ImagingVol, OptChannelRefs, resolution=scale, RGBW_channels=[0,2,4,1])\n",
    "\n",
    "    nwbfile.add_acquisition(image)\n",
    "\n",
    "    neuroPAL_module = nwbfile.create_processing_module(\n",
    "        name = 'NeuroPAL',\n",
    "        description = 'neuroPAL image data and metadata',\n",
    "    )    \n",
    "\n",
    "    processed_im_module = nwbfile.create_processing_module(\n",
    "        name = 'ProcessedImage',\n",
    "        description = 'Pre-processed image. Currently median filtered and histogram matched to original neuroPAL images.'\n",
    "    )\n",
    "\n",
    "    proc_imvol, proc_optchanrefs, proc_optchanplus = create_im_vol(device, [channels[i] for i in [0,2,4,1]], location=\"head\", grid_spacing=scale, reference_frame=reference_frame)\n",
    "\n",
    "    proc_imfile = datapath + '/NP_FOCO_hist_med/'+worm+'/hist_med_image.tif'\n",
    "\n",
    "\n",
    "    proc_data = np.transpose(skio.imread(proc_imfile), (2,1,0,3))\n",
    "    #proc_data = proc_data.astype('uint16')\n",
    "\n",
    "    proc_image = create_image(proc_data, 'Hist_match_med_filt', worm, proc_imvol, proc_optchanrefs, resolution=scale, RGBW_channels=[0,1,2,3])\n",
    "\n",
    "    neuroPAL_module.add(vs)\n",
    "    neuroPAL_module.add(ImagingVol)\n",
    "    neuroPAL_module.add(OptChannelRefs)\n",
    "    neuroPAL_module.add(OptChannels)\n",
    "\n",
    "    processed_im_module.add(proc_image)\n",
    "    processed_im_module.add(proc_optchanrefs)\n",
    "    processed_im_module.add(proc_optchanplus)\n",
    "    processed_im_module.add(proc_imvol)\n",
    "\n",
    "    io = NWBHDF5IO(datapath+'/nwb/'+worm+'.nwb', mode='w')\n",
    "    io.write(nwbfile)\n",
    "    io.close()"
   ]
  },
  {
   "cell_type": "code",
   "execution_count": 47,
   "metadata": {},
   "outputs": [
    {
     "name": "stdout",
     "output_type": "stream",
     "text": [
      "2022-04-26-w00-NP1\n"
     ]
    },
    {
     "name": "stderr",
     "output_type": "stream",
     "text": [
      "/Applications/anaconda3/envs/eats-worm/lib/python3.11/site-packages/hdmf/build/objectmapper.py:260: DtypeConversionWarning: Spec 'MultiChannelVolume/data': Value with data type uint16 is being converted to data type int16 as specified.\n",
      "  warnings.warn(full_warning_msg, DtypeConversionWarning)\n",
      "/Applications/anaconda3/envs/eats-worm/lib/python3.11/site-packages/hdmf/build/objectmapper.py:260: DtypeConversionWarning: Spec 'ImagingVolume/origin_coords': Value with data type int64 is being converted to data type float64 (min specification: float32).\n",
      "  warnings.warn(full_warning_msg, DtypeConversionWarning)\n"
     ]
    },
    {
     "name": "stdout",
     "output_type": "stream",
     "text": [
      "2022-04-26-w01-NP1\n"
     ]
    },
    {
     "name": "stderr",
     "output_type": "stream",
     "text": [
      "/Applications/anaconda3/envs/eats-worm/lib/python3.11/site-packages/hdmf/build/objectmapper.py:260: DtypeConversionWarning: Spec 'MultiChannelVolume/data': Value with data type uint16 is being converted to data type int16 as specified.\n",
      "  warnings.warn(full_warning_msg, DtypeConversionWarning)\n",
      "/Applications/anaconda3/envs/eats-worm/lib/python3.11/site-packages/hdmf/build/objectmapper.py:260: DtypeConversionWarning: Spec 'ImagingVolume/origin_coords': Value with data type int64 is being converted to data type float64 (min specification: float32).\n",
      "  warnings.warn(full_warning_msg, DtypeConversionWarning)\n"
     ]
    },
    {
     "name": "stdout",
     "output_type": "stream",
     "text": [
      "2021-12-03-w00-NP1\n"
     ]
    },
    {
     "name": "stderr",
     "output_type": "stream",
     "text": [
      "/Applications/anaconda3/envs/eats-worm/lib/python3.11/site-packages/hdmf/build/objectmapper.py:260: DtypeConversionWarning: Spec 'MultiChannelVolume/data': Value with data type uint16 is being converted to data type int16 as specified.\n",
      "  warnings.warn(full_warning_msg, DtypeConversionWarning)\n",
      "/Applications/anaconda3/envs/eats-worm/lib/python3.11/site-packages/hdmf/build/objectmapper.py:260: DtypeConversionWarning: Spec 'ImagingVolume/origin_coords': Value with data type int64 is being converted to data type float64 (min specification: float32).\n",
      "  warnings.warn(full_warning_msg, DtypeConversionWarning)\n"
     ]
    },
    {
     "name": "stdout",
     "output_type": "stream",
     "text": [
      "2022-02-22-w04-NP1\n"
     ]
    },
    {
     "name": "stderr",
     "output_type": "stream",
     "text": [
      "/Applications/anaconda3/envs/eats-worm/lib/python3.11/site-packages/hdmf/build/objectmapper.py:260: DtypeConversionWarning: Spec 'MultiChannelVolume/data': Value with data type uint16 is being converted to data type int16 as specified.\n",
      "  warnings.warn(full_warning_msg, DtypeConversionWarning)\n",
      "/Applications/anaconda3/envs/eats-worm/lib/python3.11/site-packages/hdmf/build/objectmapper.py:260: DtypeConversionWarning: Spec 'ImagingVolume/origin_coords': Value with data type int64 is being converted to data type float64 (min specification: float32).\n",
      "  warnings.warn(full_warning_msg, DtypeConversionWarning)\n"
     ]
    },
    {
     "name": "stdout",
     "output_type": "stream",
     "text": [
      "2022-04-01-w00-NP1\n"
     ]
    },
    {
     "name": "stderr",
     "output_type": "stream",
     "text": [
      "/Applications/anaconda3/envs/eats-worm/lib/python3.11/site-packages/hdmf/build/objectmapper.py:260: DtypeConversionWarning: Spec 'MultiChannelVolume/data': Value with data type uint16 is being converted to data type int16 as specified.\n",
      "  warnings.warn(full_warning_msg, DtypeConversionWarning)\n",
      "/Applications/anaconda3/envs/eats-worm/lib/python3.11/site-packages/hdmf/build/objectmapper.py:260: DtypeConversionWarning: Spec 'ImagingVolume/origin_coords': Value with data type int64 is being converted to data type float64 (min specification: float32).\n",
      "  warnings.warn(full_warning_msg, DtypeConversionWarning)\n"
     ]
    },
    {
     "name": "stdout",
     "output_type": "stream",
     "text": [
      "2022-03-05-w00-NP1\n"
     ]
    },
    {
     "name": "stderr",
     "output_type": "stream",
     "text": [
      "/Applications/anaconda3/envs/eats-worm/lib/python3.11/site-packages/hdmf/build/objectmapper.py:260: DtypeConversionWarning: Spec 'MultiChannelVolume/data': Value with data type uint16 is being converted to data type int16 as specified.\n",
      "  warnings.warn(full_warning_msg, DtypeConversionWarning)\n",
      "/Applications/anaconda3/envs/eats-worm/lib/python3.11/site-packages/hdmf/build/objectmapper.py:260: DtypeConversionWarning: Spec 'ImagingVolume/origin_coords': Value with data type int64 is being converted to data type float64 (min specification: float32).\n",
      "  warnings.warn(full_warning_msg, DtypeConversionWarning)\n"
     ]
    },
    {
     "name": "stdout",
     "output_type": "stream",
     "text": [
      "2022-02-12-w00-NP1\n"
     ]
    },
    {
     "name": "stderr",
     "output_type": "stream",
     "text": [
      "/Applications/anaconda3/envs/eats-worm/lib/python3.11/site-packages/hdmf/build/objectmapper.py:260: DtypeConversionWarning: Spec 'MultiChannelVolume/data': Value with data type uint16 is being converted to data type int16 as specified.\n",
      "  warnings.warn(full_warning_msg, DtypeConversionWarning)\n",
      "/Applications/anaconda3/envs/eats-worm/lib/python3.11/site-packages/hdmf/build/objectmapper.py:260: DtypeConversionWarning: Spec 'ImagingVolume/origin_coords': Value with data type int64 is being converted to data type float64 (min specification: float32).\n",
      "  warnings.warn(full_warning_msg, DtypeConversionWarning)\n"
     ]
    },
    {
     "name": "stdout",
     "output_type": "stream",
     "text": [
      "2022-02-12-w01-NP1\n"
     ]
    },
    {
     "name": "stderr",
     "output_type": "stream",
     "text": [
      "/Applications/anaconda3/envs/eats-worm/lib/python3.11/site-packages/hdmf/build/objectmapper.py:260: DtypeConversionWarning: Spec 'MultiChannelVolume/data': Value with data type uint16 is being converted to data type int16 as specified.\n",
      "  warnings.warn(full_warning_msg, DtypeConversionWarning)\n",
      "/Applications/anaconda3/envs/eats-worm/lib/python3.11/site-packages/hdmf/build/objectmapper.py:260: DtypeConversionWarning: Spec 'ImagingVolume/origin_coords': Value with data type int64 is being converted to data type float64 (min specification: float32).\n",
      "  warnings.warn(full_warning_msg, DtypeConversionWarning)\n"
     ]
    },
    {
     "name": "stdout",
     "output_type": "stream",
     "text": [
      "2022-01-22-w04-NP1\n"
     ]
    },
    {
     "name": "stderr",
     "output_type": "stream",
     "text": [
      "/Applications/anaconda3/envs/eats-worm/lib/python3.11/site-packages/hdmf/build/objectmapper.py:260: DtypeConversionWarning: Spec 'MultiChannelVolume/data': Value with data type uint16 is being converted to data type int16 as specified.\n",
      "  warnings.warn(full_warning_msg, DtypeConversionWarning)\n",
      "/Applications/anaconda3/envs/eats-worm/lib/python3.11/site-packages/hdmf/build/objectmapper.py:260: DtypeConversionWarning: Spec 'ImagingVolume/origin_coords': Value with data type int64 is being converted to data type float64 (min specification: float32).\n",
      "  warnings.warn(full_warning_msg, DtypeConversionWarning)\n"
     ]
    },
    {
     "name": "stdout",
     "output_type": "stream",
     "text": [
      "2022-02-11-w03-NP1\n"
     ]
    },
    {
     "name": "stderr",
     "output_type": "stream",
     "text": [
      "/Applications/anaconda3/envs/eats-worm/lib/python3.11/site-packages/hdmf/build/objectmapper.py:260: DtypeConversionWarning: Spec 'MultiChannelVolume/data': Value with data type uint16 is being converted to data type int16 as specified.\n",
      "  warnings.warn(full_warning_msg, DtypeConversionWarning)\n",
      "/Applications/anaconda3/envs/eats-worm/lib/python3.11/site-packages/hdmf/build/objectmapper.py:260: DtypeConversionWarning: Spec 'ImagingVolume/origin_coords': Value with data type int64 is being converted to data type float64 (min specification: float32).\n",
      "  warnings.warn(full_warning_msg, DtypeConversionWarning)\n"
     ]
    }
   ],
   "source": [
    "for folder in os.listdir(datapath+'/NP_FOCO_cropped'):\n",
    "    if folder == '.DS_Store':\n",
    "        continue \n",
    "    print(folder)\n",
    "    create_file_FOCO(datapath+'/NP_FOCO_cropped/'+folder, reference_frame='worm head')"
   ]
  },
  {
   "cell_type": "markdown",
   "metadata": {},
   "source": []
  },
  {
   "cell_type": "code",
   "execution_count": 132,
   "metadata": {},
   "outputs": [],
   "source": [
    "def create_file_yemini(folder, reference_frame):\n",
    "\n",
    "    worm = folder.split('/')[-1]\n",
    "\n",
    "    path = datapath+'/'+folder\n",
    "\n",
    "    matfile = None\n",
    "    csvfile = None\n",
    "    gcampfile = None\n",
    "\n",
    "    for file in os.listdir(path):\n",
    "        if file == 'head.mat':\n",
    "            matfile = path + '/'+file\n",
    "\n",
    "        elif file == 'head.csv':\n",
    "            csvfile = path +'/'+file\n",
    "\n",
    "        elif file == 'gcamp.mat':\n",
    "            gcampfile = path+'/'+file\n",
    "\n",
    "    if not csvfile:\n",
    "        return \n",
    "\n",
    "    #data = np.transpose(skio.imread(imfile), (1,0,2,3)) #data should be XYZC\n",
    "    #data = data.astype('uint16')\n",
    "    mat = sio.loadmat(matfile)\n",
    "    gcamp = sio.loadmat(gcampfile)\n",
    "\n",
    "    data = np.transpose(mat['data']*4095, (1,0,2,3))\n",
    "\n",
    "    gcdata = gcamp['data']\n",
    "\n",
    "    gcdata = np.transpose(gcdata, (3,1,0,2)) # convert data to TXYZ\n",
    "\n",
    "    scale = np.asarray(mat['info']['scale'][0][0]).flatten()\n",
    "    prefs = np.asarray(mat['prefs']['RGBW'][0][0]).flatten()-1 #subtract 1 to adjust for matlab indexing from 1\n",
    "    \n",
    "    gcscale = np.asarray(gcamp['worm_data']['info'][0][0][0][0][1]).flatten()\n",
    "\n",
    "    session_start = datetime(int(worm[0:4]),int(worm[4:6]),int(worm[6:8]), tzinfo=tz.gettz(\"US/Pacific\"))\n",
    "\n",
    "    nwbfile = gen_file('Worm head', worm, session_start, 'Hobert lab', 'Columbia University', [\"NeuroPAL: A Multicolor Atlas for Whole-Brain Neuronal Identification in C. elegans\", \"Extracting neural signals from semi-immobilized animals with deformable non-negative matrix factorization\" ])\n",
    "\n",
    "    nwbfile.subject = CElegansSubject(\n",
    "    subject_id = worm,\n",
    "    #age = \"T2H30M\",\n",
    "    #growth_stage_time = pd.Timedelta(hours=2, minutes=30).isoformat(),\n",
    "    date_of_birth = session_start-timedelta(days=2), #currently just using the session start time to bypass the requirement for date of birth\n",
    "    growth_stage = 'YA',\n",
    "    #growth_stage_time=pd.Timedelta(hours=2, minutes=30).isoformat(),\n",
    "    cultivation_temp = 20.,\n",
    "    description = worm,\n",
    "    species  =  \"http://purl.obolibrary.org/obo/NCBITaxon_6239\",\n",
    "    sex = \"O\", #currently just using O for other until support added for other gender specifications\n",
    "    strain = \"OH16230\"\n",
    "    )\n",
    "\n",
    "    device =nwbfile.create_device(\n",
    "        name = \"Spinning disk confocal\",\n",
    "        description = \"Spinning Disk Confocal Nikon\tTi-e 60x Objective, 1.2 NA\tNikon CFI Plan Apochromat VC 60XC WI\",\n",
    "        manufacturer = \"Nikon\"\n",
    "    )\n",
    "\n",
    "    if prefs[3]== 4:\n",
    "        channels = [(\"mTagBFP2\", \"Semrock FF01-445/45-25 Brightline\", \"405-445-45m\"), (\"CyOFP1\", \"Semrock FF02-617/73-25 Brightline\", \"488-610-40m\"), (\"mNeptune 2.5\", \"Semrock FF01-731/137-25 Brightline\",\"561-731-70m\"), (\"GFP-GCaMP\", \"Semrock FF02-525/40-25 Brightline\", \"488-525-25m\"), (\"Tag RFP-T\", \"Semrock FF02-617/73-25 Brightline\", \"561-610-40m\")]\n",
    "    elif prefs[3]==3:\n",
    "        channels = [(\"mTagBFP2\", \"Semrock FF01-445/45-25 Brightline\", \"405-445-25m\"), (\"CyOFP1\", \"Semrock FF02-617/73-25 Brightline\",\"488-610-40m\"), (\"mNeptune 2.5\", \"Semrock FF01-731/137-25 Brightline\",\"561-731-70m\"), (\"Tag RFP-T\", \"Semrock FF02-617/73-25 Brightline\", \"561-610-40m\"), (\"GFP-GCaMP\", \"Semrock FF02-525/40-25 Brightline\", \"488-525-25m\")]\n",
    "\n",
    "    ImagingVol, OptChannelRefs, OptChannels = create_im_vol(device, channels, location= \"head\", grid_spacing= scale, reference_frame=reference_frame)\n",
    "\n",
    "    csv = pd.read_csv(csvfile, skiprows=6)\n",
    "\n",
    "    blobs = csv[['Real X (um)', 'Real Y (um)', 'Real Z (um)', 'User ID']]\n",
    "    blobs = blobs.rename(columns={'Real X (um)':'X', 'Real Y (um)':'Y', 'Real Z (um)':'Z', 'User ID':'ID'})\n",
    "    blobs['X'] = round(blobs['X'].div(scale[0]))\n",
    "    blobs['Y'] = round(blobs['Y'].div(scale[1]))\n",
    "    blobs['Z'] = round(blobs['Z'].div(scale[2]))\n",
    "    blobs = blobs.astype({'X':'int16', 'Y':'int16', 'Z':'int16'})\n",
    "\n",
    "    vs = create_vol_seg(ImagingVol, blobs)\n",
    "\n",
    "    image= create_image(data, 'NeuroPALImageRaw', worm, ImagingVol, OptChannelRefs, resolution=scale, RGBW_channels=prefs)\n",
    "\n",
    "    nwbfile.add_acquisition(image)\n",
    "\n",
    "    gc_optchan = (\"GFP-GCaMP\", \"Semrock FF02-525/40-25 Brightline\",\"488-525-25m\")\n",
    "\n",
    "    excite = float(gc_optchan[2].split('-')[0])\n",
    "    emiss_mid = float(gc_optchan[2].split('-')[1])\n",
    "    emiss_range = float(gc_optchan[2].split('-')[2][:-1])\n",
    "    \n",
    "    gcchan = OpticalChannel(\n",
    "        name = gc_optchan[0],\n",
    "        description = \"Semrock FF02-525/40-25 Brightline\",\n",
    "        emission_lambda = emiss_mid\n",
    "    )\n",
    "\n",
    "    gcplane = nwbfile.create_imaging_plane(\n",
    "        name = 'GCamp_implane',\n",
    "        description = 'Imaging plane for GCamp data acquisition',\n",
    "        excitation_lambda = float(gc_optchan[2].split('-')[0]),\n",
    "        optical_channel = gcchan,\n",
    "        location = 'head',\n",
    "        indicator = 'GFP',\n",
    "        device = device,\n",
    "        grid_spacing = gcscale,\n",
    "        grid_spacing_unit = 'um'\n",
    "    )\n",
    "\n",
    "    gcamp = OnePhotonSeries(\n",
    "        name = 'GCaMP_series',\n",
    "        description = 'Time Series GCaMP activity data',\n",
    "        data = gcdata,\n",
    "        unit = 'grey count values from 0-255',\n",
    "        resolution = 1.0,\n",
    "        rate = 4.0,\n",
    "        imaging_plane = gcplane,\n",
    "    )\n",
    "\n",
    "\n",
    "    nwbfile.add_acquisition(gcamp)\n",
    "\n",
    "    neuroPAL_module = nwbfile.create_processing_module(\n",
    "        name = 'NeuroPAL',\n",
    "        description = 'neuroPAL image data and metadata',\n",
    "    )    \n",
    "\n",
    "    neuroPAL_module.add(vs)\n",
    "    neuroPAL_module.add(ImagingVol)\n",
    "    neuroPAL_module.add(OptChannelRefs)\n",
    "    neuroPAL_module.add(OptChannels)\n",
    "\n",
    "    #gcamp_module = nwbfile.create_processing_module(\n",
    "    #    name = 'GCaMP',\n",
    "    #    description = 'GCaMP time series data and metadata'\n",
    "    #)\n",
    "    #gcamp_module.add(gcplane)\n",
    "    #gcamp_module.add(gcchan)\n",
    "\n",
    "    io = NWBHDF5IO(datapath+'/Yemini_NWB/'+worm+'.nwb', mode='w')\n",
    "    io.write(nwbfile)\n",
    "    io.close()\n"
   ]
  },
  {
   "cell_type": "code",
   "execution_count": 39,
   "metadata": {},
   "outputs": [
    {
     "name": "stdout",
     "output_type": "stream",
     "text": [
      "/Users/danielysprague/foco_lab/data\n"
     ]
    }
   ],
   "source": []
  },
  {
   "cell_type": "code",
   "execution_count": 133,
   "metadata": {},
   "outputs": [
    {
     "name": "stdout",
     "output_type": "stream",
     "text": [
      "20190928_03\n",
      "(128, 256, 21, 962)\n"
     ]
    },
    {
     "name": "stderr",
     "output_type": "stream",
     "text": [
      "/Applications/anaconda3/envs/eats-worm/lib/python3.11/site-packages/hdmf/build/objectmapper.py:260: DtypeConversionWarning: Spec 'MultiChannelVolume/RGBW_channels': Value with data type uint8 is being converted to data type int8 as specified.\n",
      "  warnings.warn(full_warning_msg, DtypeConversionWarning)\n",
      "/Applications/anaconda3/envs/eats-worm/lib/python3.11/site-packages/hdmf/build/objectmapper.py:260: DtypeConversionWarning: Spec 'MultiChannelVolume/data': Value with data type float64 is being converted to data type int64 (min specification: int16).\n",
      "  warnings.warn(full_warning_msg, DtypeConversionWarning)\n",
      "/Applications/anaconda3/envs/eats-worm/lib/python3.11/site-packages/hdmf/build/objectmapper.py:260: DtypeConversionWarning: Spec 'ImagingVolume/origin_coords': Value with data type int64 is being converted to data type float64 (min specification: float32).\n",
      "  warnings.warn(full_warning_msg, DtypeConversionWarning)\n"
     ]
    },
    {
     "name": "stdout",
     "output_type": "stream",
     "text": [
      "20190928_05\n",
      "(128, 256, 21, 962)\n"
     ]
    },
    {
     "name": "stderr",
     "output_type": "stream",
     "text": [
      "/Applications/anaconda3/envs/eats-worm/lib/python3.11/site-packages/hdmf/build/objectmapper.py:260: DtypeConversionWarning: Spec 'MultiChannelVolume/RGBW_channels': Value with data type uint8 is being converted to data type int8 as specified.\n",
      "  warnings.warn(full_warning_msg, DtypeConversionWarning)\n",
      "/Applications/anaconda3/envs/eats-worm/lib/python3.11/site-packages/hdmf/build/objectmapper.py:260: DtypeConversionWarning: Spec 'MultiChannelVolume/data': Value with data type float64 is being converted to data type int64 (min specification: int16).\n",
      "  warnings.warn(full_warning_msg, DtypeConversionWarning)\n",
      "/Applications/anaconda3/envs/eats-worm/lib/python3.11/site-packages/hdmf/build/objectmapper.py:260: DtypeConversionWarning: Spec 'ImagingVolume/origin_coords': Value with data type int64 is being converted to data type float64 (min specification: float32).\n",
      "  warnings.warn(full_warning_msg, DtypeConversionWarning)\n"
     ]
    },
    {
     "name": "stdout",
     "output_type": "stream",
     "text": [
      "20190924_01\n",
      "(128, 256, 21, 962)\n"
     ]
    },
    {
     "name": "stderr",
     "output_type": "stream",
     "text": [
      "/Applications/anaconda3/envs/eats-worm/lib/python3.11/site-packages/hdmf/build/objectmapper.py:260: DtypeConversionWarning: Spec 'MultiChannelVolume/RGBW_channels': Value with data type uint8 is being converted to data type int8 as specified.\n",
      "  warnings.warn(full_warning_msg, DtypeConversionWarning)\n",
      "/Applications/anaconda3/envs/eats-worm/lib/python3.11/site-packages/hdmf/build/objectmapper.py:260: DtypeConversionWarning: Spec 'MultiChannelVolume/data': Value with data type float64 is being converted to data type int64 (min specification: int16).\n",
      "  warnings.warn(full_warning_msg, DtypeConversionWarning)\n",
      "/Applications/anaconda3/envs/eats-worm/lib/python3.11/site-packages/hdmf/build/objectmapper.py:260: DtypeConversionWarning: Spec 'ImagingVolume/origin_coords': Value with data type int64 is being converted to data type float64 (min specification: float32).\n",
      "  warnings.warn(full_warning_msg, DtypeConversionWarning)\n"
     ]
    },
    {
     "name": "stdout",
     "output_type": "stream",
     "text": [
      "20190929_05\n",
      "(128, 256, 21, 962)\n"
     ]
    },
    {
     "name": "stderr",
     "output_type": "stream",
     "text": [
      "/Applications/anaconda3/envs/eats-worm/lib/python3.11/site-packages/hdmf/build/objectmapper.py:260: DtypeConversionWarning: Spec 'MultiChannelVolume/RGBW_channels': Value with data type uint8 is being converted to data type int8 as specified.\n",
      "  warnings.warn(full_warning_msg, DtypeConversionWarning)\n",
      "/Applications/anaconda3/envs/eats-worm/lib/python3.11/site-packages/hdmf/build/objectmapper.py:260: DtypeConversionWarning: Spec 'MultiChannelVolume/data': Value with data type float64 is being converted to data type int64 (min specification: int16).\n",
      "  warnings.warn(full_warning_msg, DtypeConversionWarning)\n",
      "/Applications/anaconda3/envs/eats-worm/lib/python3.11/site-packages/hdmf/build/objectmapper.py:260: DtypeConversionWarning: Spec 'ImagingVolume/origin_coords': Value with data type int64 is being converted to data type float64 (min specification: float32).\n",
      "  warnings.warn(full_warning_msg, DtypeConversionWarning)\n"
     ]
    },
    {
     "name": "stdout",
     "output_type": "stream",
     "text": [
      "20190929_02\n",
      "(128, 256, 21, 962)\n"
     ]
    },
    {
     "name": "stderr",
     "output_type": "stream",
     "text": [
      "/Applications/anaconda3/envs/eats-worm/lib/python3.11/site-packages/hdmf/build/objectmapper.py:260: DtypeConversionWarning: Spec 'MultiChannelVolume/RGBW_channels': Value with data type uint8 is being converted to data type int8 as specified.\n",
      "  warnings.warn(full_warning_msg, DtypeConversionWarning)\n",
      "/Applications/anaconda3/envs/eats-worm/lib/python3.11/site-packages/hdmf/build/objectmapper.py:260: DtypeConversionWarning: Spec 'MultiChannelVolume/data': Value with data type float64 is being converted to data type int64 (min specification: int16).\n",
      "  warnings.warn(full_warning_msg, DtypeConversionWarning)\n",
      "/Applications/anaconda3/envs/eats-worm/lib/python3.11/site-packages/hdmf/build/objectmapper.py:260: DtypeConversionWarning: Spec 'ImagingVolume/origin_coords': Value with data type int64 is being converted to data type float64 (min specification: float32).\n",
      "  warnings.warn(full_warning_msg, DtypeConversionWarning)\n"
     ]
    },
    {
     "name": "stdout",
     "output_type": "stream",
     "text": [
      "20190925_01\n",
      "(128, 256, 21, 963)\n"
     ]
    },
    {
     "name": "stderr",
     "output_type": "stream",
     "text": [
      "/Applications/anaconda3/envs/eats-worm/lib/python3.11/site-packages/hdmf/build/objectmapper.py:260: DtypeConversionWarning: Spec 'MultiChannelVolume/RGBW_channels': Value with data type uint8 is being converted to data type int8 as specified.\n",
      "  warnings.warn(full_warning_msg, DtypeConversionWarning)\n",
      "/Applications/anaconda3/envs/eats-worm/lib/python3.11/site-packages/hdmf/build/objectmapper.py:260: DtypeConversionWarning: Spec 'MultiChannelVolume/data': Value with data type float64 is being converted to data type int64 (min specification: int16).\n",
      "  warnings.warn(full_warning_msg, DtypeConversionWarning)\n",
      "/Applications/anaconda3/envs/eats-worm/lib/python3.11/site-packages/hdmf/build/objectmapper.py:260: DtypeConversionWarning: Spec 'ImagingVolume/origin_coords': Value with data type int64 is being converted to data type float64 (min specification: float32).\n",
      "  warnings.warn(full_warning_msg, DtypeConversionWarning)\n"
     ]
    },
    {
     "name": "stdout",
     "output_type": "stream",
     "text": [
      "20190929_03\n",
      "(128, 256, 21, 962)\n"
     ]
    },
    {
     "name": "stderr",
     "output_type": "stream",
     "text": [
      "/Applications/anaconda3/envs/eats-worm/lib/python3.11/site-packages/hdmf/build/objectmapper.py:260: DtypeConversionWarning: Spec 'MultiChannelVolume/RGBW_channels': Value with data type uint8 is being converted to data type int8 as specified.\n",
      "  warnings.warn(full_warning_msg, DtypeConversionWarning)\n",
      "/Applications/anaconda3/envs/eats-worm/lib/python3.11/site-packages/hdmf/build/objectmapper.py:260: DtypeConversionWarning: Spec 'MultiChannelVolume/data': Value with data type float64 is being converted to data type int64 (min specification: int16).\n",
      "  warnings.warn(full_warning_msg, DtypeConversionWarning)\n",
      "/Applications/anaconda3/envs/eats-worm/lib/python3.11/site-packages/hdmf/build/objectmapper.py:260: DtypeConversionWarning: Spec 'ImagingVolume/origin_coords': Value with data type int64 is being converted to data type float64 (min specification: float32).\n",
      "  warnings.warn(full_warning_msg, DtypeConversionWarning)\n"
     ]
    },
    {
     "name": "stdout",
     "output_type": "stream",
     "text": [
      "20191104_10\n",
      "(128, 256, 21, 962)\n"
     ]
    },
    {
     "name": "stderr",
     "output_type": "stream",
     "text": [
      "/Applications/anaconda3/envs/eats-worm/lib/python3.11/site-packages/hdmf/build/objectmapper.py:260: DtypeConversionWarning: Spec 'MultiChannelVolume/RGBW_channels': Value with data type uint8 is being converted to data type int8 as specified.\n",
      "  warnings.warn(full_warning_msg, DtypeConversionWarning)\n",
      "/Applications/anaconda3/envs/eats-worm/lib/python3.11/site-packages/hdmf/build/objectmapper.py:260: DtypeConversionWarning: Spec 'MultiChannelVolume/data': Value with data type float64 is being converted to data type int64 (min specification: int16).\n",
      "  warnings.warn(full_warning_msg, DtypeConversionWarning)\n",
      "/Applications/anaconda3/envs/eats-worm/lib/python3.11/site-packages/hdmf/build/objectmapper.py:260: DtypeConversionWarning: Spec 'ImagingVolume/origin_coords': Value with data type int64 is being converted to data type float64 (min specification: float32).\n",
      "  warnings.warn(full_warning_msg, DtypeConversionWarning)\n"
     ]
    },
    {
     "name": "stdout",
     "output_type": "stream",
     "text": [
      "20190928_11\n",
      "(128, 256, 21, 963)\n"
     ]
    },
    {
     "name": "stderr",
     "output_type": "stream",
     "text": [
      "/Applications/anaconda3/envs/eats-worm/lib/python3.11/site-packages/hdmf/build/objectmapper.py:260: DtypeConversionWarning: Spec 'MultiChannelVolume/RGBW_channels': Value with data type uint8 is being converted to data type int8 as specified.\n",
      "  warnings.warn(full_warning_msg, DtypeConversionWarning)\n",
      "/Applications/anaconda3/envs/eats-worm/lib/python3.11/site-packages/hdmf/build/objectmapper.py:260: DtypeConversionWarning: Spec 'MultiChannelVolume/data': Value with data type float64 is being converted to data type int64 (min specification: int16).\n",
      "  warnings.warn(full_warning_msg, DtypeConversionWarning)\n",
      "/Applications/anaconda3/envs/eats-worm/lib/python3.11/site-packages/hdmf/build/objectmapper.py:260: DtypeConversionWarning: Spec 'ImagingVolume/origin_coords': Value with data type int64 is being converted to data type float64 (min specification: float32).\n",
      "  warnings.warn(full_warning_msg, DtypeConversionWarning)\n"
     ]
    },
    {
     "name": "stdout",
     "output_type": "stream",
     "text": [
      "20191030_03\n",
      "(128, 256, 21, 962)\n"
     ]
    },
    {
     "name": "stderr",
     "output_type": "stream",
     "text": [
      "/Applications/anaconda3/envs/eats-worm/lib/python3.11/site-packages/hdmf/build/objectmapper.py:260: DtypeConversionWarning: Spec 'MultiChannelVolume/RGBW_channels': Value with data type uint8 is being converted to data type int8 as specified.\n",
      "  warnings.warn(full_warning_msg, DtypeConversionWarning)\n",
      "/Applications/anaconda3/envs/eats-worm/lib/python3.11/site-packages/hdmf/build/objectmapper.py:260: DtypeConversionWarning: Spec 'MultiChannelVolume/data': Value with data type float64 is being converted to data type int64 (min specification: int16).\n",
      "  warnings.warn(full_warning_msg, DtypeConversionWarning)\n",
      "/Applications/anaconda3/envs/eats-worm/lib/python3.11/site-packages/hdmf/build/objectmapper.py:260: DtypeConversionWarning: Spec 'ImagingVolume/origin_coords': Value with data type int64 is being converted to data type float64 (min specification: float32).\n",
      "  warnings.warn(full_warning_msg, DtypeConversionWarning)\n"
     ]
    },
    {
     "name": "stdout",
     "output_type": "stream",
     "text": [
      "20190924_03\n",
      "(128, 256, 21, 963)\n"
     ]
    },
    {
     "name": "stderr",
     "output_type": "stream",
     "text": [
      "/Applications/anaconda3/envs/eats-worm/lib/python3.11/site-packages/hdmf/build/objectmapper.py:260: DtypeConversionWarning: Spec 'MultiChannelVolume/RGBW_channels': Value with data type uint8 is being converted to data type int8 as specified.\n",
      "  warnings.warn(full_warning_msg, DtypeConversionWarning)\n",
      "/Applications/anaconda3/envs/eats-worm/lib/python3.11/site-packages/hdmf/build/objectmapper.py:260: DtypeConversionWarning: Spec 'MultiChannelVolume/data': Value with data type float64 is being converted to data type int64 (min specification: int16).\n",
      "  warnings.warn(full_warning_msg, DtypeConversionWarning)\n",
      "/Applications/anaconda3/envs/eats-worm/lib/python3.11/site-packages/hdmf/build/objectmapper.py:260: DtypeConversionWarning: Spec 'ImagingVolume/origin_coords': Value with data type int64 is being converted to data type float64 (min specification: float32).\n",
      "  warnings.warn(full_warning_msg, DtypeConversionWarning)\n"
     ]
    },
    {
     "name": "stdout",
     "output_type": "stream",
     "text": [
      "20190928_07\n",
      "(128, 256, 21, 960)\n"
     ]
    },
    {
     "name": "stderr",
     "output_type": "stream",
     "text": [
      "/Applications/anaconda3/envs/eats-worm/lib/python3.11/site-packages/hdmf/build/objectmapper.py:260: DtypeConversionWarning: Spec 'MultiChannelVolume/RGBW_channels': Value with data type uint8 is being converted to data type int8 as specified.\n",
      "  warnings.warn(full_warning_msg, DtypeConversionWarning)\n",
      "/Applications/anaconda3/envs/eats-worm/lib/python3.11/site-packages/hdmf/build/objectmapper.py:260: DtypeConversionWarning: Spec 'MultiChannelVolume/data': Value with data type float64 is being converted to data type int64 (min specification: int16).\n",
      "  warnings.warn(full_warning_msg, DtypeConversionWarning)\n",
      "/Applications/anaconda3/envs/eats-worm/lib/python3.11/site-packages/hdmf/build/objectmapper.py:260: DtypeConversionWarning: Spec 'ImagingVolume/origin_coords': Value with data type int64 is being converted to data type float64 (min specification: float32).\n",
      "  warnings.warn(full_warning_msg, DtypeConversionWarning)\n"
     ]
    },
    {
     "name": "stdout",
     "output_type": "stream",
     "text": [
      "20190924_02\n",
      "(128, 256, 21, 962)\n"
     ]
    },
    {
     "name": "stderr",
     "output_type": "stream",
     "text": [
      "/Applications/anaconda3/envs/eats-worm/lib/python3.11/site-packages/hdmf/build/objectmapper.py:260: DtypeConversionWarning: Spec 'MultiChannelVolume/RGBW_channels': Value with data type uint8 is being converted to data type int8 as specified.\n",
      "  warnings.warn(full_warning_msg, DtypeConversionWarning)\n",
      "/Applications/anaconda3/envs/eats-worm/lib/python3.11/site-packages/hdmf/build/objectmapper.py:260: DtypeConversionWarning: Spec 'MultiChannelVolume/data': Value with data type float64 is being converted to data type int64 (min specification: int16).\n",
      "  warnings.warn(full_warning_msg, DtypeConversionWarning)\n",
      "/Applications/anaconda3/envs/eats-worm/lib/python3.11/site-packages/hdmf/build/objectmapper.py:260: DtypeConversionWarning: Spec 'ImagingVolume/origin_coords': Value with data type int64 is being converted to data type float64 (min specification: float32).\n",
      "  warnings.warn(full_warning_msg, DtypeConversionWarning)\n"
     ]
    },
    {
     "name": "stdout",
     "output_type": "stream",
     "text": [
      "20190928_08\n",
      "(128, 256, 21, 961)\n"
     ]
    },
    {
     "name": "stderr",
     "output_type": "stream",
     "text": [
      "/Applications/anaconda3/envs/eats-worm/lib/python3.11/site-packages/hdmf/build/objectmapper.py:260: DtypeConversionWarning: Spec 'MultiChannelVolume/RGBW_channels': Value with data type uint8 is being converted to data type int8 as specified.\n",
      "  warnings.warn(full_warning_msg, DtypeConversionWarning)\n",
      "/Applications/anaconda3/envs/eats-worm/lib/python3.11/site-packages/hdmf/build/objectmapper.py:260: DtypeConversionWarning: Spec 'MultiChannelVolume/data': Value with data type float64 is being converted to data type int64 (min specification: int16).\n",
      "  warnings.warn(full_warning_msg, DtypeConversionWarning)\n",
      "/Applications/anaconda3/envs/eats-worm/lib/python3.11/site-packages/hdmf/build/objectmapper.py:260: DtypeConversionWarning: Spec 'ImagingVolume/origin_coords': Value with data type int64 is being converted to data type float64 (min specification: float32).\n",
      "  warnings.warn(full_warning_msg, DtypeConversionWarning)\n"
     ]
    },
    {
     "name": "stdout",
     "output_type": "stream",
     "text": [
      "20190928_01\n",
      "(128, 256, 21, 962)\n"
     ]
    },
    {
     "name": "stderr",
     "output_type": "stream",
     "text": [
      "/Applications/anaconda3/envs/eats-worm/lib/python3.11/site-packages/hdmf/build/objectmapper.py:260: DtypeConversionWarning: Spec 'MultiChannelVolume/RGBW_channels': Value with data type uint8 is being converted to data type int8 as specified.\n",
      "  warnings.warn(full_warning_msg, DtypeConversionWarning)\n",
      "/Applications/anaconda3/envs/eats-worm/lib/python3.11/site-packages/hdmf/build/objectmapper.py:260: DtypeConversionWarning: Spec 'MultiChannelVolume/data': Value with data type float64 is being converted to data type int64 (min specification: int16).\n",
      "  warnings.warn(full_warning_msg, DtypeConversionWarning)\n",
      "/Applications/anaconda3/envs/eats-worm/lib/python3.11/site-packages/hdmf/build/objectmapper.py:260: DtypeConversionWarning: Spec 'ImagingVolume/origin_coords': Value with data type int64 is being converted to data type float64 (min specification: float32).\n",
      "  warnings.warn(full_warning_msg, DtypeConversionWarning)\n"
     ]
    },
    {
     "name": "stdout",
     "output_type": "stream",
     "text": [
      "20190929_06\n",
      "(128, 256, 21, 962)\n"
     ]
    },
    {
     "name": "stderr",
     "output_type": "stream",
     "text": [
      "/Applications/anaconda3/envs/eats-worm/lib/python3.11/site-packages/hdmf/build/objectmapper.py:260: DtypeConversionWarning: Spec 'MultiChannelVolume/RGBW_channels': Value with data type uint8 is being converted to data type int8 as specified.\n",
      "  warnings.warn(full_warning_msg, DtypeConversionWarning)\n",
      "/Applications/anaconda3/envs/eats-worm/lib/python3.11/site-packages/hdmf/build/objectmapper.py:260: DtypeConversionWarning: Spec 'MultiChannelVolume/data': Value with data type float64 is being converted to data type int64 (min specification: int16).\n",
      "  warnings.warn(full_warning_msg, DtypeConversionWarning)\n",
      "/Applications/anaconda3/envs/eats-worm/lib/python3.11/site-packages/hdmf/build/objectmapper.py:260: DtypeConversionWarning: Spec 'ImagingVolume/origin_coords': Value with data type int64 is being converted to data type float64 (min specification: float32).\n",
      "  warnings.warn(full_warning_msg, DtypeConversionWarning)\n"
     ]
    },
    {
     "name": "stdout",
     "output_type": "stream",
     "text": [
      "20190925_04\n",
      "(128, 256, 21, 961)\n"
     ]
    },
    {
     "name": "stderr",
     "output_type": "stream",
     "text": [
      "/Applications/anaconda3/envs/eats-worm/lib/python3.11/site-packages/hdmf/build/objectmapper.py:260: DtypeConversionWarning: Spec 'MultiChannelVolume/RGBW_channels': Value with data type uint8 is being converted to data type int8 as specified.\n",
      "  warnings.warn(full_warning_msg, DtypeConversionWarning)\n",
      "/Applications/anaconda3/envs/eats-worm/lib/python3.11/site-packages/hdmf/build/objectmapper.py:260: DtypeConversionWarning: Spec 'MultiChannelVolume/data': Value with data type float64 is being converted to data type int64 (min specification: int16).\n",
      "  warnings.warn(full_warning_msg, DtypeConversionWarning)\n",
      "/Applications/anaconda3/envs/eats-worm/lib/python3.11/site-packages/hdmf/build/objectmapper.py:260: DtypeConversionWarning: Spec 'ImagingVolume/origin_coords': Value with data type int64 is being converted to data type float64 (min specification: float32).\n",
      "  warnings.warn(full_warning_msg, DtypeConversionWarning)\n"
     ]
    },
    {
     "name": "stdout",
     "output_type": "stream",
     "text": [
      "20190929_07\n",
      "(128, 256, 21, 937)\n"
     ]
    },
    {
     "name": "stderr",
     "output_type": "stream",
     "text": [
      "/Applications/anaconda3/envs/eats-worm/lib/python3.11/site-packages/hdmf/build/objectmapper.py:260: DtypeConversionWarning: Spec 'MultiChannelVolume/RGBW_channels': Value with data type uint8 is being converted to data type int8 as specified.\n",
      "  warnings.warn(full_warning_msg, DtypeConversionWarning)\n",
      "/Applications/anaconda3/envs/eats-worm/lib/python3.11/site-packages/hdmf/build/objectmapper.py:260: DtypeConversionWarning: Spec 'MultiChannelVolume/data': Value with data type float64 is being converted to data type int64 (min specification: int16).\n",
      "  warnings.warn(full_warning_msg, DtypeConversionWarning)\n",
      "/Applications/anaconda3/envs/eats-worm/lib/python3.11/site-packages/hdmf/build/objectmapper.py:260: DtypeConversionWarning: Spec 'ImagingVolume/origin_coords': Value with data type int64 is being converted to data type float64 (min specification: float32).\n",
      "  warnings.warn(full_warning_msg, DtypeConversionWarning)\n"
     ]
    },
    {
     "name": "stdout",
     "output_type": "stream",
     "text": [
      "20191104_08\n",
      "(128, 256, 21, 962)\n"
     ]
    },
    {
     "name": "stderr",
     "output_type": "stream",
     "text": [
      "/Applications/anaconda3/envs/eats-worm/lib/python3.11/site-packages/hdmf/build/objectmapper.py:260: DtypeConversionWarning: Spec 'MultiChannelVolume/RGBW_channels': Value with data type uint8 is being converted to data type int8 as specified.\n",
      "  warnings.warn(full_warning_msg, DtypeConversionWarning)\n",
      "/Applications/anaconda3/envs/eats-worm/lib/python3.11/site-packages/hdmf/build/objectmapper.py:260: DtypeConversionWarning: Spec 'MultiChannelVolume/data': Value with data type float64 is being converted to data type int64 (min specification: int16).\n",
      "  warnings.warn(full_warning_msg, DtypeConversionWarning)\n",
      "/Applications/anaconda3/envs/eats-worm/lib/python3.11/site-packages/hdmf/build/objectmapper.py:260: DtypeConversionWarning: Spec 'ImagingVolume/origin_coords': Value with data type int64 is being converted to data type float64 (min specification: float32).\n",
      "  warnings.warn(full_warning_msg, DtypeConversionWarning)\n"
     ]
    },
    {
     "name": "stdout",
     "output_type": "stream",
     "text": [
      "20190928_13\n",
      "(128, 256, 21, 962)\n"
     ]
    },
    {
     "name": "stderr",
     "output_type": "stream",
     "text": [
      "/Applications/anaconda3/envs/eats-worm/lib/python3.11/site-packages/hdmf/build/objectmapper.py:260: DtypeConversionWarning: Spec 'MultiChannelVolume/RGBW_channels': Value with data type uint8 is being converted to data type int8 as specified.\n",
      "  warnings.warn(full_warning_msg, DtypeConversionWarning)\n",
      "/Applications/anaconda3/envs/eats-worm/lib/python3.11/site-packages/hdmf/build/objectmapper.py:260: DtypeConversionWarning: Spec 'MultiChannelVolume/data': Value with data type float64 is being converted to data type int64 (min specification: int16).\n",
      "  warnings.warn(full_warning_msg, DtypeConversionWarning)\n",
      "/Applications/anaconda3/envs/eats-worm/lib/python3.11/site-packages/hdmf/build/objectmapper.py:260: DtypeConversionWarning: Spec 'ImagingVolume/origin_coords': Value with data type int64 is being converted to data type float64 (min specification: float32).\n",
      "  warnings.warn(full_warning_msg, DtypeConversionWarning)\n"
     ]
    },
    {
     "name": "stdout",
     "output_type": "stream",
     "text": [
      "20191030_07\n",
      "(128, 256, 21, 961)\n"
     ]
    },
    {
     "name": "stderr",
     "output_type": "stream",
     "text": [
      "/Applications/anaconda3/envs/eats-worm/lib/python3.11/site-packages/hdmf/build/objectmapper.py:260: DtypeConversionWarning: Spec 'MultiChannelVolume/RGBW_channels': Value with data type uint8 is being converted to data type int8 as specified.\n",
      "  warnings.warn(full_warning_msg, DtypeConversionWarning)\n",
      "/Applications/anaconda3/envs/eats-worm/lib/python3.11/site-packages/hdmf/build/objectmapper.py:260: DtypeConversionWarning: Spec 'MultiChannelVolume/data': Value with data type float64 is being converted to data type int64 (min specification: int16).\n",
      "  warnings.warn(full_warning_msg, DtypeConversionWarning)\n",
      "/Applications/anaconda3/envs/eats-worm/lib/python3.11/site-packages/hdmf/build/objectmapper.py:260: DtypeConversionWarning: Spec 'ImagingVolume/origin_coords': Value with data type int64 is being converted to data type float64 (min specification: float32).\n",
      "  warnings.warn(full_warning_msg, DtypeConversionWarning)\n"
     ]
    },
    {
     "ename": "",
     "evalue": "",
     "output_type": "error",
     "traceback": [
      "\u001b[1;31mThe Kernel crashed while executing code in the the current cell or a previous cell. Please review the code in the cell(s) to identify a possible cause of the failure. Click <a href='https://aka.ms/vscodeJupyterKernelCrash'>here</a> for more info. View Jupyter <a href='command:jupyter.viewOutput'>log</a> for further details."
     ]
    }
   ],
   "source": [
    "#folder = '/Yemini_21' + '/OH16230' +'/Heads'+'/20190924_01'\n",
    "#reference_frame = 'worm_head'\n",
    "\n",
    "for folder in os.listdir('/Users/danielysprague/foco_lab/data/Yemini_21/OH16230/Heads'):\n",
    "    print(folder)\n",
    "    create_file_yemini('/Yemini_21/OH16230/Heads/'+folder, reference_frame='worm head')\n"
   ]
  },
  {
   "cell_type": "code",
   "execution_count": 18,
   "metadata": {},
   "outputs": [
    {
     "name": "stdout",
     "output_type": "stream",
     "text": [
      "/Users/danielysprague/foco_lab/eats-worm/NWB\n"
     ]
    }
   ],
   "source": [
    "print(os.getcwd())"
   ]
  },
  {
   "cell_type": "code",
   "execution_count": 34,
   "metadata": {},
   "outputs": [
    {
     "data": {
      "text/html": [
       "<div>\n",
       "<style scoped>\n",
       "    .dataframe tbody tr th:only-of-type {\n",
       "        vertical-align: middle;\n",
       "    }\n",
       "\n",
       "    .dataframe tbody tr th {\n",
       "        vertical-align: top;\n",
       "    }\n",
       "\n",
       "    .dataframe thead th {\n",
       "        text-align: right;\n",
       "    }\n",
       "</style>\n",
       "<table border=\"1\" class=\"dataframe\">\n",
       "  <thead>\n",
       "    <tr style=\"text-align: right;\">\n",
       "      <th></th>\n",
       "      <th>User ID</th>\n",
       "      <th>User Confidence</th>\n",
       "      <th>Emphasized?</th>\n",
       "      <th>Auto ID</th>\n",
       "      <th>Auto Confidence</th>\n",
       "      <th>Unnamed: 5</th>\n",
       "      <th>Real X (um)</th>\n",
       "      <th>Real Y (um)</th>\n",
       "      <th>Real Z (um)</th>\n",
       "      <th>Unnamed: 9</th>\n",
       "      <th>Z-Scored Red</th>\n",
       "      <th>Z-Scored Green</th>\n",
       "      <th>Z-Scored Blue</th>\n",
       "      <th>Z-Scored White</th>\n",
       "      <th>Unnamed: 14</th>\n",
       "      <th>Estimated GFP</th>\n",
       "      <th>Max GFP</th>\n",
       "      <th>Normalized GFP</th>\n",
       "      <th>Unnamed: 18</th>\n",
       "    </tr>\n",
       "  </thead>\n",
       "  <tbody>\n",
       "    <tr>\n",
       "      <th>0</th>\n",
       "      <td>IL2VL</td>\n",
       "      <td>1.0</td>\n",
       "      <td>0</td>\n",
       "      <td>IL2VL</td>\n",
       "      <td>1.0</td>\n",
       "      <td>NaN</td>\n",
       "      <td>2</td>\n",
       "      <td>37.800677</td>\n",
       "      <td>18.0</td>\n",
       "      <td>NaN</td>\n",
       "      <td>1.682923</td>\n",
       "      <td>0.535334</td>\n",
       "      <td>-0.442140</td>\n",
       "      <td>2.216146</td>\n",
       "      <td>NaN</td>\n",
       "      <td>0.172753</td>\n",
       "      <td>0.176199</td>\n",
       "      <td>0.077952</td>\n",
       "      <td>NaN</td>\n",
       "    </tr>\n",
       "    <tr>\n",
       "      <th>1</th>\n",
       "      <td>IL2DR</td>\n",
       "      <td>1.0</td>\n",
       "      <td>0</td>\n",
       "      <td>IL2DR</td>\n",
       "      <td>1.0</td>\n",
       "      <td>NaN</td>\n",
       "      <td>5</td>\n",
       "      <td>13.618080</td>\n",
       "      <td>7.5</td>\n",
       "      <td>NaN</td>\n",
       "      <td>4.758339</td>\n",
       "      <td>3.003751</td>\n",
       "      <td>0.045785</td>\n",
       "      <td>5.268976</td>\n",
       "      <td>NaN</td>\n",
       "      <td>0.153797</td>\n",
       "      <td>0.170136</td>\n",
       "      <td>0.029189</td>\n",
       "      <td>NaN</td>\n",
       "    </tr>\n",
       "    <tr>\n",
       "      <th>2</th>\n",
       "      <td>I2R</td>\n",
       "      <td>1.0</td>\n",
       "      <td>0</td>\n",
       "      <td>I2R</td>\n",
       "      <td>1.0</td>\n",
       "      <td>NaN</td>\n",
       "      <td>18</td>\n",
       "      <td>32.941016</td>\n",
       "      <td>6.0</td>\n",
       "      <td>NaN</td>\n",
       "      <td>7.325581</td>\n",
       "      <td>0.114606</td>\n",
       "      <td>3.556815</td>\n",
       "      <td>7.034241</td>\n",
       "      <td>NaN</td>\n",
       "      <td>0.521796</td>\n",
       "      <td>0.553303</td>\n",
       "      <td>0.074179</td>\n",
       "      <td>NaN</td>\n",
       "    </tr>\n",
       "    <tr>\n",
       "      <th>3</th>\n",
       "      <td>I2L</td>\n",
       "      <td>1.0</td>\n",
       "      <td>0</td>\n",
       "      <td>I2L</td>\n",
       "      <td>1.0</td>\n",
       "      <td>NaN</td>\n",
       "      <td>18</td>\n",
       "      <td>30.626893</td>\n",
       "      <td>21.0</td>\n",
       "      <td>NaN</td>\n",
       "      <td>4.012856</td>\n",
       "      <td>0.338398</td>\n",
       "      <td>1.019603</td>\n",
       "      <td>4.012230</td>\n",
       "      <td>NaN</td>\n",
       "      <td>0.206112</td>\n",
       "      <td>0.221357</td>\n",
       "      <td>0.051371</td>\n",
       "      <td>NaN</td>\n",
       "    </tr>\n",
       "    <tr>\n",
       "      <th>4</th>\n",
       "      <td>MCL</td>\n",
       "      <td>1.0</td>\n",
       "      <td>0</td>\n",
       "      <td>MCL</td>\n",
       "      <td>1.0</td>\n",
       "      <td>NaN</td>\n",
       "      <td>20</td>\n",
       "      <td>29.354125</td>\n",
       "      <td>18.0</td>\n",
       "      <td>NaN</td>\n",
       "      <td>0.335780</td>\n",
       "      <td>-0.030858</td>\n",
       "      <td>-0.051800</td>\n",
       "      <td>2.964372</td>\n",
       "      <td>NaN</td>\n",
       "      <td>0.085460</td>\n",
       "      <td>0.093213</td>\n",
       "      <td>0.028829</td>\n",
       "      <td>NaN</td>\n",
       "    </tr>\n",
       "  </tbody>\n",
       "</table>\n",
       "</div>"
      ],
      "text/plain": [
       "  User ID  User Confidence  Emphasized? Auto ID  Auto Confidence  Unnamed: 5   \n",
       "0   IL2VL              1.0            0   IL2VL              1.0         NaN  \\\n",
       "1   IL2DR              1.0            0   IL2DR              1.0         NaN   \n",
       "2     I2R              1.0            0     I2R              1.0         NaN   \n",
       "3     I2L              1.0            0     I2L              1.0         NaN   \n",
       "4     MCL              1.0            0     MCL              1.0         NaN   \n",
       "\n",
       "   Real X (um)  Real Y (um)  Real Z (um)  Unnamed: 9  Z-Scored Red   \n",
       "0            2    37.800677         18.0         NaN      1.682923  \\\n",
       "1            5    13.618080          7.5         NaN      4.758339   \n",
       "2           18    32.941016          6.0         NaN      7.325581   \n",
       "3           18    30.626893         21.0         NaN      4.012856   \n",
       "4           20    29.354125         18.0         NaN      0.335780   \n",
       "\n",
       "   Z-Scored Green  Z-Scored Blue  Z-Scored White  Unnamed: 14  Estimated GFP   \n",
       "0        0.535334      -0.442140        2.216146          NaN       0.172753  \\\n",
       "1        3.003751       0.045785        5.268976          NaN       0.153797   \n",
       "2        0.114606       3.556815        7.034241          NaN       0.521796   \n",
       "3        0.338398       1.019603        4.012230          NaN       0.206112   \n",
       "4       -0.030858      -0.051800        2.964372          NaN       0.085460   \n",
       "\n",
       "    Max GFP  Normalized GFP  Unnamed: 18  \n",
       "0  0.176199        0.077952          NaN  \n",
       "1  0.170136        0.029189          NaN  \n",
       "2  0.553303        0.074179          NaN  \n",
       "3  0.221357        0.051371          NaN  \n",
       "4  0.093213        0.028829          NaN  "
      ]
     },
     "execution_count": 34,
     "metadata": {},
     "output_type": "execute_result"
    }
   ],
   "source": [
    "df = pd.read_csv(datapath+'/Yemini_21' + '/OH16230' +'/Heads'+'/20190924_01/head.csv', skiprows=6)\n",
    "\n",
    "df['Real X (um)'] = round(df['Real X (um)'].div(0.5))\n",
    "df = df.astype({'Real X (um)':'int16'})\n",
    "\n",
    "df.head()"
   ]
  },
  {
   "attachments": {},
   "cell_type": "markdown",
   "metadata": {},
   "source": [
    "### Read NWB files and recreate relevant files"
   ]
  },
  {
   "cell_type": "code",
   "execution_count": 13,
   "metadata": {},
   "outputs": [
    {
     "name": "stdout",
     "output_type": "stream",
     "text": [
      "NeuroPAL pynwb.base.ProcessingModule at 0x5724283600\n",
      "Fields:\n",
      "  data_interfaces: {\n",
      "    ImagingVolume <class 'ndx_multichannel_volume.ndx_multichannel_volume.ImagingVolume'>,\n",
      "    OpticalChannelRefs <class 'abc.OpticalChannelReferences'>,\n",
      "    VolumeSegmentation <class 'ndx_multichannel_volume.ndx_multichannel_volume.VolumeSegmentation'>\n",
      "  }\n",
      "  description: neuroPAL image data and metadata\n",
      "\n"
     ]
    }
   ],
   "source": [
    "with NWBHDF5IO(datapath+\"/nwb/2021-12-03-w00-NP1.nwb\", mode='r', load_namespaces=True) as io:\n",
    "    read_nwbfile = io.read()\n",
    "    print(read_nwbfile.processing['NeuroPAL'])\n",
    "    subject = read_nwbfile.subject #get the metadata about the experiment subject\n",
    "    growth_stage = subject.growth_stage\n",
    "    image = read_nwbfile.acquisition['NeuroPALImageRaw'].data[:] #get the neuroPAL image as a np array\n",
    "    resolution = read_nwbfile.acquisition['NeuroPALImageRaw'].resolution[:] #get the resolution of the image in um/pixels\n",
    "    channels = read_nwbfile.acquisition['NeuroPALImageRaw'].RGBW_channels[:] #get which channels of the image correspond to which RGBW pseudocolors\n",
    "    seg = read_nwbfile.processing['NeuroPAL']['VolumeSegmentation'].voxel_mask[:] #get the locations of neuron centers\n",
    "    im_vol = read_nwbfile.processing['NeuroPAL']['ImagingVolume'] #get the metadata associated with the imaging acquisition\n",
    "    optchans = read_nwbfile.processing['NeuroPAL']['ImagingVolume'].optical_channel_plus[:] #get information about all of the optical channels used in acquisition\n",
    "    chan_refs = read_nwbfile.processing['NeuroPAL']['OpticalChannelRefs'].channels[:] #get the order of the optical channels in the image\n",
    "    proc_image = read_nwbfile.processing['ProcessedImage']['Hist_match_med_filt'].data[:] #get the pre-processed image\n",
    "\n"
   ]
  },
  {
   "cell_type": "code",
   "execution_count": 107,
   "metadata": {},
   "outputs": [
    {
     "name": "stdout",
     "output_type": "stream",
     "text": [
      "(1000, 240, 41, 6)\n"
     ]
    }
   ],
   "source": [
    "print(image.shape)"
   ]
  },
  {
   "cell_type": "code",
   "execution_count": 71,
   "metadata": {},
   "outputs": [],
   "source": [
    "with NWBHDF5IO(datapath+\"/Yemini_nwb/20190924_01.nwb\", mode='r', load_namespaces=True) as io:\n",
    "    read_nwbfile = io.read()\n",
    "    subject = read_nwbfile.subject #get the metadata about the experiment subject\n",
    "    growth_stage = subject.growth_stage\n",
    "    image = read_nwbfile.acquisition['NeuroPALImageRaw'].data[:] #get the neuroPAL image as a np array\n",
    "    gcdata = read_nwbfile.acquisition['GCaMP_series'].data[:]\n",
    "    gcplane = read_nwbfile.acquisition['GCaMP_series'].imaging_plane\n",
    "    resolution = read_nwbfile.acquisition['NeuroPALImageRaw'].resolution[:] #get the resolution of the image in um/pixels\n",
    "    channels = read_nwbfile.acquisition['NeuroPALImageRaw'].RGBW_channels[:] #get which channels of the image correspond to which RGBW pseudocolors\n",
    "    seg = read_nwbfile.processing['NeuroPAL']['VolumeSegmentation'].voxel_mask[:] #get the locations of neuron centers\n",
    "    im_vol = read_nwbfile.processing['NeuroPAL']['ImagingVolume'] #get the metadata associated with the imaging acquisition\n",
    "    optchans = read_nwbfile.processing['NeuroPAL']['ImagingVolume'].optical_channel_plus[:] #get information about all of the optical channels used in acquisition\n",
    "    chan_refs = read_nwbfile.processing['NeuroPAL']['OpticalChannelRefs'].channels[:] #get the order of the optical channels in the image\n",
    "\n"
   ]
  },
  {
   "cell_type": "code",
   "execution_count": 66,
   "metadata": {},
   "outputs": [
    {
     "name": "stdout",
     "output_type": "stream",
     "text": [
      "(256, 512, 21, 5)\n"
     ]
    }
   ],
   "source": [
    "print(image.shape)"
   ]
  },
  {
   "cell_type": "code",
   "execution_count": 67,
   "metadata": {},
   "outputs": [
    {
     "name": "stdout",
     "output_type": "stream",
     "text": [
      "[2 1 0 4]\n"
     ]
    }
   ],
   "source": [
    "print(channels)"
   ]
  },
  {
   "cell_type": "code",
   "execution_count": 91,
   "metadata": {},
   "outputs": [],
   "source": [
    "'''\n",
    "Recreate blobs.csv from vol_seg\n",
    "'''\n",
    "\n",
    "blobs = pd.DataFrame.from_records(seg, columns=['X', 'Y','Z','weight', 'ID'])\n",
    "blobs = blobs.drop(['weight'], axis=1)\n",
    "blobs = blobs.replace('nan', np.nan, regex=True)\n",
    "#blobs = blobs.replace('nan', '', regex=True)\n",
    "#blobs.to_csv(datapath+'/nwb/test.csv')\n"
   ]
  },
  {
   "cell_type": "code",
   "execution_count": 92,
   "metadata": {},
   "outputs": [
    {
     "name": "stdout",
     "output_type": "stream",
     "text": [
      "       x    y   z   ID\n",
      "0    154   67  19  NaN\n",
      "1    164   91  23  NaN\n",
      "2    167   95  33  NaN\n",
      "3    191  104  32  NaN\n",
      "4    201  115  34  I2L\n",
      "..   ...  ...  ..  ...\n",
      "167  450  179  10  NaN\n",
      "168  462  183  10  NaN\n",
      "169  477  185  10  NaN\n",
      "170  528  200  13  NaN\n",
      "171  545  203  13  NaN\n",
      "\n",
      "[172 rows x 4 columns]\n"
     ]
    }
   ],
   "source": [
    "print(blobs)"
   ]
  },
  {
   "cell_type": "code",
   "execution_count": 128,
   "metadata": {},
   "outputs": [
    {
     "name": "stdout",
     "output_type": "stream",
     "text": [
      "(1000, 240, 41, 6)\n"
     ]
    }
   ],
   "source": [
    "import matplotlib.pyplot as plt\n",
    "\n",
    "newimage = image\n",
    "RGB = newimage[:,:,:,channels[:-1]]\n",
    "\n",
    "print(newimage.shape)\n",
    "\n",
    "Zmax = np.max(RGB, axis=2)\n",
    "Ymax = np.max(RGB, axis=1)\n",
    "\n"
   ]
  },
  {
   "cell_type": "code",
   "execution_count": 129,
   "metadata": {},
   "outputs": [
    {
     "name": "stderr",
     "output_type": "stream",
     "text": [
      "Clipping input data to the valid range for imshow with RGB data ([0..1] for floats or [0..255] for integers).\n"
     ]
    },
    {
     "data": {
      "image/png": "[encoded data removed]",
      "text/plain": [
       "<Figure size 640x480 with 1 Axes>"
      ]
     },
     "metadata": {},
     "output_type": "display_data"
    },
    {
     "name": "stderr",
     "output_type": "stream",
     "text": [
      "Clipping input data to the valid range for imshow with RGB data ([0..1] for floats or [0..255] for integers).\n"
     ]
    },
    {
     "data": {
      "image/png": "[encoded data removed]",
      "text/plain": [
       "<Figure size 640x480 with 1 Axes>"
      ]
     },
     "metadata": {},
     "output_type": "display_data"
    }
   ],
   "source": [
    "plt.figure()\n",
    "\n",
    "plt.imshow(np.transpose(Zmax, [1,0,2]))\n",
    "plt.scatter(blobs['x'], blobs['y'], s=5)\n",
    "plt.xlim((0, Zmax.shape[0]))\n",
    "plt.ylim((0, Zmax.shape[1]))\n",
    "plt.gca().set_aspect('equal')\n",
    "\n",
    "plt.show()\n",
    "\n",
    "plt.figure()\n",
    "\n",
    "plt.imshow(np.transpose(Ymax, [1,0,2]))\n",
    "plt.scatter(blobs['x'], blobs['z'], s=5)\n",
    "plt.xlim((0, Ymax.shape[0]))\n",
    "plt.ylim((0, Ymax.shape[1]))\n",
    "plt.gca().set_aspect('equal')\n",
    "\n",
    "plt.show()"
   ]
  },
  {
   "cell_type": "code",
   "execution_count": 15,
   "metadata": {},
   "outputs": [
    {
     "name": "stdout",
     "output_type": "stream",
     "text": [
      "(45, 6, 240, 1000)\n"
     ]
    }
   ],
   "source": [
    "'''\n",
    "Recreate original image from acquisition raw image\n",
    "'''\n",
    "print(image.shape)\n",
    "\n",
    "#im = np.transpose(image,(2,3,1,0)) #have to flip some of the axes to align with how FIJI reads tiff images\n",
    "#image = image.astype('uint16')\n",
    "#print(im.dtype)\n",
    "#print(im.shape)\n",
    "\n",
    "tifffile.imwrite(datapath + '/nwb/test.tif', image, imagej = True)"
   ]
  },
  {
   "cell_type": "code",
   "execution_count": 16,
   "metadata": {},
   "outputs": [
    {
     "name": "stdout",
     "output_type": "stream",
     "text": [
      "(45, 4, 240, 1000)\n",
      "uint16\n"
     ]
    },
    {
     "ename": "",
     "evalue": "",
     "output_type": "error",
     "traceback": [
      "\u001b[1;31mThe Kernel crashed while executing code in the the current cell or a previous cell. Please review the code in the cell(s) to identify a possible cause of the failure. Click <a href='https://aka.ms/vscodeJupyterKernelCrash'>here</a> for more info. View Jupyter <a href='command:jupyter.viewOutput'>log</a> for further details."
     ]
    }
   ],
   "source": [
    "'''\n",
    "Recreate histogram matched image from processed data\n",
    "'''\n",
    "\n",
    "print(proc_image.shape)\n",
    "\n",
    "#im = np.transpose(proc_image, (3,0,2,1)) #have to flip some of the axes to align with how FIJI reads tiff images\n",
    "#proc_image = proc_image.astype('uint16')\n",
    "print(proc_image.dtype)\n",
    "\n",
    "tifffile.imwrite(datapath + '/nwb/test_proc.tif', proc_image, imagej = True)"
   ]
  },
  {
   "cell_type": "code",
   "execution_count": null,
   "metadata": {},
   "outputs": [],
   "source": []
  }
 ],
 "metadata": {
  "kernelspec": {
   "display_name": "eats-test",
   "language": "python",
   "name": "python3"
  },
  "language_info": {
   "codemirror_mode": {
    "name": "ipython",
    "version": 3
   },
   "file_extension": ".py",
   "mimetype": "text/x-python",
   "name": "python",
   "nbconvert_exporter": "python",
   "pygments_lexer": "ipython3",
   "version": "3.11.0"
  },
  "orig_nbformat": 4
 },
 "nbformat": 4,
 "nbformat_minor": 2
}
