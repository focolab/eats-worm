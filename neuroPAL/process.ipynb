{
 "cells": [
  {
   "attachments": {},
   "cell_type": "markdown",
   "metadata": {},
   "source": [
    "### Path setup and imports"
   ]
  },
  {
   "cell_type": "code",
   "execution_count": 1,
   "metadata": {},
   "outputs": [],
   "source": [
    "import matlab.engine\n",
    "import pandas as pd\n",
    "import matplotlib.pyplot as plt\n",
    "import numpy as np\n",
    "import scipy.io as sio\n",
    "import os\n",
    "import process.histogram as hist\n",
    "import process.resample as res"
   ]
  },
  {
   "cell_type": "code",
   "execution_count": 2,
   "metadata": {},
   "outputs": [],
   "source": [
    "# Set relevant paths\n",
    "datapath = os.path.join('/Users', 'danielsprague', 'FOCO_lab', 'data')\n"
   ]
  },
  {
   "attachments": {},
   "cell_type": "markdown",
   "metadata": {},
   "source": [
    "### Resample data "
   ]
  },
  {
   "cell_type": "code",
   "execution_count": 5,
   "metadata": {},
   "outputs": [],
   "source": [
    "from scipy.interpolate import RegularGridInterpolator\n",
    "import tifffile\n",
    "from scipy.ndimage import zoom\n",
    "\n",
    "'''\n",
    "Currently takes ~1 min to run with zoom but seems to have good output.\n",
    "Much faster to run using Matlab GriddedInterpolant, but similar Python\n",
    "function not running efficiently. Zoom uses order 3 spline interpolation.\n",
    "TODO: make this more efficient\n",
    "'''\n",
    "\n",
    "reffile = sio.loadmat(datapath+ '/NP_FOCO_cropped/2022-02-12-w01-NP1/neuropal_1_MMStack_Pos0.ome.mat')\n",
    "\n",
    "data = reffile['data']\n",
    "oldres = np.asarray(reffile['info']['scale'][0][0]).flatten()\n",
    "channels = [0,2,4,1]\n",
    "RGBW = np.squeeze(data[:,:,:,channels])\n",
    "RGBW = RGBW.astype('int32')\n",
    "\n",
    "newres = [0.35, 0.35, 1.2]\n",
    "\n",
    "new_im = res.zoom_interpolate(newres, oldres, RGBW)\n",
    "\n",
    "new_im = new_im.astype('uint16')\n",
    "new_im = np.transpose(new_im, (2,3,0,1))\n",
    "\n",
    "tifffile.imwrite(datapath+ '/python_resample_test.tif', new_im, imagej = True)\n",
    "\n",
    "\n"
   ]
  },
  {
   "cell_type": "code",
   "execution_count": 4,
   "metadata": {},
   "outputs": [
    {
     "name": "stdout",
     "output_type": "stream",
     "text": [
      "(28, 4, 221, 919)\n"
     ]
    }
   ],
   "source": []
  },
  {
   "attachments": {},
   "cell_type": "markdown",
   "metadata": {},
   "source": [
    "### Match histogram of data"
   ]
  },
  {
   "cell_type": "code",
   "execution_count": null,
   "metadata": {},
   "outputs": [],
   "source": [
    "'''\n",
    "Example code to process through all datasets in NP_FOCO_cropped and match histogram to a reference dataset.\n",
    "In this case, that reference dataset is 11_YAaLR.mat from the original NeuroPAL datasets\n",
    "'''\n",
    "\n",
    "\n",
    "hist_df = pd.DataFrame()\n",
    "\n",
    "reffile = sio.loadmat(datapath+'/NP_paper/all/11_YAaLR.mat')\n",
    "refchannels = reffile['prefs']['RGBW'][0][0]-1\n",
    "refdata = reffile['data']\n",
    "refRGBW = np.squeeze(refdata[:,:,:,refchannels])\n",
    "\n",
    "for folder in os.listdir(datapath+'/NP_foco_cropped'):\n",
    "    if not folder[0:3] == '.DS':\n",
    "        for file in os.listdir(datapath+'/NP_foco_cropped/'+folder):\n",
    "            if file[-4:] == '.mat' and file[-6:] != 'ID.mat':\n",
    "                imfile = sio.loadmat(datapath+'/NP_foco_cropped/'+folder +'/'+file)\n",
    "\n",
    "                data = imfile['data']\n",
    "                channels = [0,2,4,1]\n",
    "                RGBW = np.squeeze(data[:,:,:, channels])\n",
    "                RGBW = RGBW.astype('int32')\n",
    "\n",
    "                RGBW_new = hist.match_histogram(RGBW, refRGBW, 4096, 65536)\n",
    "\n",
    "                sio.savemat(datapath+'/NP_FOCO_hist_match/'+folder+'/'+'hist_match_image.mat', {'Hist_RGBW':RGBW_new})\n"
   ]
  }
 ],
 "metadata": {
  "kernelspec": {
   "display_name": "alignment",
   "language": "python",
   "name": "python3"
  },
  "language_info": {
   "codemirror_mode": {
    "name": "ipython",
    "version": 3
   },
   "file_extension": ".py",
   "mimetype": "text/x-python",
   "name": "python",
   "nbconvert_exporter": "python",
   "pygments_lexer": "ipython3",
   "version": "3.8.15 (default, Nov 10 2022, 13:17:42) \n[Clang 14.0.6 ]"
  },
  "orig_nbformat": 4,
  "vscode": {
   "interpreter": {
    "hash": "9a246cbeb7e7d64baab736c5e4f8a8cf6205ec6202ebfe668ed4dad2c6630795"
   }
  }
 },
 "nbformat": 4,
 "nbformat_minor": 2
}
