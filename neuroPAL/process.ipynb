{
 "cells": [
  {
   "attachments": {},
   "cell_type": "markdown",
   "metadata": {},
   "source": [
    "### Path setup and imports"
   ]
  },
  {
   "cell_type": "code",
   "execution_count": 1,
   "metadata": {},
   "outputs": [],
   "source": [
    "#import matlab.engine\n",
    "import pandas as pd\n",
    "import matplotlib.pyplot as plt\n",
    "import numpy as np\n",
    "import scipy.io as sio\n",
    "import os\n",
    "import process.histogram as hist\n",
    "import process.resample as res"
   ]
  },
  {
   "cell_type": "code",
   "execution_count": 2,
   "metadata": {},
   "outputs": [],
   "source": [
    "# Set relevant paths\n",
    "datapath = os.path.join('/Users', 'danielsprague', 'FOCO_lab', 'data')\n"
   ]
  },
  {
   "attachments": {},
   "cell_type": "markdown",
   "metadata": {},
   "source": [
    "### Get data from NWB file"
   ]
  },
  {
   "cell_type": "code",
   "execution_count": 4,
   "metadata": {},
   "outputs": [
    {
     "ename": "ConstructError",
     "evalue": "(root/processing/NeuroPAL/ImagingVolume GroupBuilder {'attributes': {'grid_spacing_unit': 'micrometers', 'namespace': 'ndx-multichannel-volume', 'neurodata_type': 'ImagingVolume', 'object_id': 'd2400987-c85f-42c4-b0a3-b0c2723f91eb', 'origin_coords_unit': 'micrometers'}, 'groups': {'CyOFP1': root/processing/NeuroPAL/ImagingVolume/CyOFP1 GroupBuilder {'attributes': {'namespace': 'ndx-multichannel-volume', 'neurodata_type': 'OpticalChannelPlus', 'object_id': '676a7309-3dc5-4245-b130-c32832f29a94'}, 'groups': {}, 'datasets': {'description': root/processing/NeuroPAL/ImagingVolume/CyOFP1/description DatasetBuilder {'attributes': {}, 'data': '488-605-70m'}, 'emission_lambda': root/processing/NeuroPAL/ImagingVolume/CyOFP1/emission_lambda DatasetBuilder {'attributes': {}, 'data': 605.0}, 'emission_range': root/processing/NeuroPAL/ImagingVolume/CyOFP1/emission_range DatasetBuilder {'attributes': {}, 'data': <Closed HDF5 dataset>}, 'excitation_lambda': root/processing/NeuroPAL/ImagingVolume/CyOFP1/excitation_lambda DatasetBuilder {'attributes': {}, 'data': 488.0}, 'excitation_range': root/processing/NeuroPAL/ImagingVolume/CyOFP1/excitation_range DatasetBuilder {'attributes': {}, 'data': <Closed HDF5 dataset>}}, 'links': {}}, 'GFP-GCaMP': root/processing/NeuroPAL/ImagingVolume/GFP-GCaMP GroupBuilder {'attributes': {'namespace': 'ndx-multichannel-volume', 'neurodata_type': 'OpticalChannelPlus', 'object_id': '4102d08f-22e2-4ca7-a74e-51a60d7f4533'}, 'groups': {}, 'datasets': {'description': root/processing/NeuroPAL/ImagingVolume/GFP-GCaMP/description DatasetBuilder {'attributes': {}, 'data': '488-525-50m'}, 'emission_lambda': root/processing/NeuroPAL/ImagingVolume/GFP-GCaMP/emission_lambda DatasetBuilder {'attributes': {}, 'data': 525.0}, 'emission_range': root/processing/NeuroPAL/ImagingVolume/GFP-GCaMP/emission_range DatasetBuilder {'attributes': {}, 'data': <Closed HDF5 dataset>}, 'excitation_lambda': root/processing/NeuroPAL/ImagingVolume/GFP-GCaMP/excitation_lambda DatasetBuilder {'attributes': {}, 'data': 488.0}, 'excitation_range': root/processing/NeuroPAL/ImagingVolume/GFP-GCaMP/excitation_range DatasetBuilder {'attributes': {}, 'data': <Closed HDF5 dataset>}}, 'links': {}}, 'Tag RGP-T': root/processing/NeuroPAL/ImagingVolume/Tag RGP-T GroupBuilder {'attributes': {'namespace': 'ndx-multichannel-volume', 'neurodata_type': 'OpticalChannelPlus', 'object_id': 'b8ec0bed-c468-468b-9861-5c9223fcee7c'}, 'groups': {}, 'datasets': {'description': root/processing/NeuroPAL/ImagingVolume/Tag RGP-T/description DatasetBuilder {'attributes': {}, 'data': '561-605-70m'}, 'emission_lambda': root/processing/NeuroPAL/ImagingVolume/Tag RGP-T/emission_lambda DatasetBuilder {'attributes': {}, 'data': 605.0}, 'emission_range': root/processing/NeuroPAL/ImagingVolume/Tag RGP-T/emission_range DatasetBuilder {'attributes': {}, 'data': <Closed HDF5 dataset>}, 'excitation_lambda': root/processing/NeuroPAL/ImagingVolume/Tag RGP-T/excitation_lambda DatasetBuilder {'attributes': {}, 'data': 561.0}, 'excitation_range': root/processing/NeuroPAL/ImagingVolume/Tag RGP-T/excitation_range DatasetBuilder {'attributes': {}, 'data': <Closed HDF5 dataset>}}, 'links': {}}, 'mNeptune 2.5': root/processing/NeuroPAL/ImagingVolume/mNeptune 2.5 GroupBuilder {'attributes': {'namespace': 'ndx-multichannel-volume', 'neurodata_type': 'OpticalChannelPlus', 'object_id': 'bf0d8d1a-341e-4f88-8e13-decd9f3ffe7d'}, 'groups': {}, 'datasets': {'description': root/processing/NeuroPAL/ImagingVolume/mNeptune 2.5/description DatasetBuilder {'attributes': {}, 'data': '561-700-75m'}, 'emission_lambda': root/processing/NeuroPAL/ImagingVolume/mNeptune 2.5/emission_lambda DatasetBuilder {'attributes': {}, 'data': 700.0}, 'emission_range': root/processing/NeuroPAL/ImagingVolume/mNeptune 2.5/emission_range DatasetBuilder {'attributes': {}, 'data': <Closed HDF5 dataset>}, 'excitation_lambda': root/processing/NeuroPAL/ImagingVolume/mNeptune 2.5/excitation_lambda DatasetBuilder {'attributes': {}, 'data': 561.0}, 'excitation_range': root/processing/NeuroPAL/ImagingVolume/mNeptune 2.5/excitation_range DatasetBuilder {'attributes': {}, 'data': <Closed HDF5 dataset>}}, 'links': {}}, 'mNeptune 2.5 - high excite': root/processing/NeuroPAL/ImagingVolume/mNeptune 2.5 - high excite GroupBuilder {'attributes': {'namespace': 'ndx-multichannel-volume', 'neurodata_type': 'OpticalChannelPlus', 'object_id': '093aec39-5e77-494e-8f55-870b83e6b648'}, 'groups': {}, 'datasets': {'description': root/processing/NeuroPAL/ImagingVolume/mNeptune 2.5 - high excite/description DatasetBuilder {'attributes': {}, 'data': '639-700-75m'}, 'emission_lambda': root/processing/NeuroPAL/ImagingVolume/mNeptune 2.5 - high excite/emission_lambda DatasetBuilder {'attributes': {}, 'data': 700.0}, 'emission_range': root/processing/NeuroPAL/ImagingVolume/mNeptune 2.5 - high excite/emission_range DatasetBuilder {'attributes': {}, 'data': <Closed HDF5 dataset>}, 'excitation_lambda': root/processing/NeuroPAL/ImagingVolume/mNeptune 2.5 - high excite/excitation_lambda DatasetBuilder {'attributes': {}, 'data': 639.0}, 'excitation_range': root/processing/NeuroPAL/ImagingVolume/mNeptune 2.5 - high excite/excitation_range DatasetBuilder {'attributes': {}, 'data': <Closed HDF5 dataset>}}, 'links': {}}, 'mTagBFP2': root/processing/NeuroPAL/ImagingVolume/mTagBFP2 GroupBuilder {'attributes': {'namespace': 'ndx-multichannel-volume', 'neurodata_type': 'OpticalChannelPlus', 'object_id': '4687941d-fa61-456a-b42a-b4a70b252c27'}, 'groups': {}, 'datasets': {'description': root/processing/NeuroPAL/ImagingVolume/mTagBFP2/description DatasetBuilder {'attributes': {}, 'data': '405-460-50m'}, 'emission_lambda': root/processing/NeuroPAL/ImagingVolume/mTagBFP2/emission_lambda DatasetBuilder {'attributes': {}, 'data': 460.0}, 'emission_range': root/processing/NeuroPAL/ImagingVolume/mTagBFP2/emission_range DatasetBuilder {'attributes': {}, 'data': <Closed HDF5 dataset>}, 'excitation_lambda': root/processing/NeuroPAL/ImagingVolume/mTagBFP2/excitation_lambda DatasetBuilder {'attributes': {}, 'data': 405.0}, 'excitation_range': root/processing/NeuroPAL/ImagingVolume/mTagBFP2/excitation_range DatasetBuilder {'attributes': {}, 'data': <Closed HDF5 dataset>}}, 'links': {}}}, 'datasets': {'description': root/processing/NeuroPAL/ImagingVolume/description DatasetBuilder {'attributes': {}, 'data': 'NeuroPAL image of C elegan brain'}, 'grid_spacing': root/processing/NeuroPAL/ImagingVolume/grid_spacing DatasetBuilder {'attributes': {}, 'data': <Closed HDF5 dataset>}, 'location': root/processing/NeuroPAL/ImagingVolume/location DatasetBuilder {'attributes': {}, 'data': 'head'}, 'origin_coords': root/processing/NeuroPAL/ImagingVolume/origin_coords DatasetBuilder {'attributes': {}, 'data': <Closed HDF5 dataset>}, 'reference_frame': root/processing/NeuroPAL/ImagingVolume/reference_frame DatasetBuilder {'attributes': {}, 'data': 'origin = posterior, ventral, left'}}, 'links': {'Order_optical_channels': root/processing/NeuroPAL/ImagingVolume/Order_optical_channels LinkBuilder {'builder': root/processing/NeuroPAL/OpticalChannelRefs GroupBuilder {'attributes': {'namespace': 'ndx-multichannel-volume', 'neurodata_type': 'OpticalChannelReferences', 'object_id': '06c883b3-d20d-4a3f-820e-f88debf3cbc5'}, 'groups': {}, 'datasets': {'data': root/processing/NeuroPAL/OpticalChannelRefs/data DatasetBuilder {'attributes': {}, 'data': <StrDataset for Closed HDF5 dataset>}}, 'links': {}}}, 'device': root/processing/NeuroPAL/ImagingVolume/device LinkBuilder {'builder': root/general/devices/Microscope GroupBuilder {'attributes': {'description': 'One-photon microscope Weill', 'manufacturer': 'Leica', 'namespace': 'core', 'neurodata_type': 'Device', 'object_id': 'be613338-8248-418c-886f-7222468f4e78'}, 'groups': {}, 'datasets': {}, 'links': {}}}}}, \"Could not construct ImagingVolume object due to: CustomClassGenerator.set_init.<locals>.__init__: missing argument 'optical_channel_plus'\")",
     "output_type": "error",
     "traceback": [
      "\u001b[0;31m---------------------------------------------------------------------------\u001b[0m",
      "\u001b[0;31mTypeError\u001b[0m                                 Traceback (most recent call last)",
      "File \u001b[0;32m~/anaconda3/envs/nwb/lib/python3.8/site-packages/hdmf/build/objectmapper.py:1248\u001b[0m, in \u001b[0;36mObjectMapper.construct\u001b[0;34m(self, **kwargs)\u001b[0m\n\u001b[1;32m   1247\u001b[0m \u001b[39mtry\u001b[39;00m:\n\u001b[0;32m-> 1248\u001b[0m     obj \u001b[39m=\u001b[39m \u001b[39mself\u001b[39;49m\u001b[39m.\u001b[39;49m__new_container__(\u001b[39mcls\u001b[39;49m, builder\u001b[39m.\u001b[39;49msource, parent, builder\u001b[39m.\u001b[39;49mattributes\u001b[39m.\u001b[39;49mget(\u001b[39mself\u001b[39;49m\u001b[39m.\u001b[39;49m__spec\u001b[39m.\u001b[39;49mid_key()),\n\u001b[1;32m   1249\u001b[0m                                  \u001b[39m*\u001b[39;49m\u001b[39m*\u001b[39;49mkwargs)\n\u001b[1;32m   1250\u001b[0m \u001b[39mexcept\u001b[39;00m \u001b[39mException\u001b[39;00m \u001b[39mas\u001b[39;00m ex:\n",
      "File \u001b[0;32m~/anaconda3/envs/nwb/lib/python3.8/site-packages/hdmf/build/objectmapper.py:1261\u001b[0m, in \u001b[0;36mObjectMapper.__new_container__\u001b[0;34m(self, cls, container_source, parent, object_id, **kwargs)\u001b[0m\n\u001b[1;32m   1259\u001b[0m \u001b[39m# obj has been created and is in construction mode, indicating that the object is being constructed by\u001b[39;00m\n\u001b[1;32m   1260\u001b[0m \u001b[39m# the automatic construct process during read, rather than by the user\u001b[39;00m\n\u001b[0;32m-> 1261\u001b[0m obj\u001b[39m.\u001b[39;49m\u001b[39m__init__\u001b[39;49m(\u001b[39m*\u001b[39;49m\u001b[39m*\u001b[39;49mkwargs)\n\u001b[1;32m   1262\u001b[0m obj\u001b[39m.\u001b[39m_in_construct_mode \u001b[39m=\u001b[39m \u001b[39mFalse\u001b[39;00m  \u001b[39m# reset to False to indicate that the construction of the object is complete\u001b[39;00m\n",
      "File \u001b[0;32m~/anaconda3/envs/nwb/lib/python3.8/site-packages/hdmf/utils.py:645\u001b[0m, in \u001b[0;36mdocval.<locals>.dec.<locals>.func_call\u001b[0;34m(*args, **kwargs)\u001b[0m\n\u001b[1;32m    644\u001b[0m pargs \u001b[39m=\u001b[39m _check_args(args, kwargs)\n\u001b[0;32m--> 645\u001b[0m \u001b[39mreturn\u001b[39;00m func(args[\u001b[39m0\u001b[39;49m], \u001b[39m*\u001b[39;49m\u001b[39m*\u001b[39;49mpargs)\n",
      "File \u001b[0;32m~/anaconda3/envs/nwb/lib/python3.8/site-packages/hdmf/build/classgenerator.py:411\u001b[0m, in \u001b[0;36mMCIClassGenerator.set_init.<locals>.__init__\u001b[0;34m(self, **kwargs)\u001b[0m\n\u001b[1;32m    410\u001b[0m \u001b[39m# call the parent class init without the MCI attribute\u001b[39;00m\n\u001b[0;32m--> 411\u001b[0m previous_init(\u001b[39mself\u001b[39;49m, \u001b[39m*\u001b[39;49m\u001b[39m*\u001b[39;49mkwargs)\n\u001b[1;32m    413\u001b[0m \u001b[39m# call the add method for each MCI attribute\u001b[39;00m\n",
      "File \u001b[0;32m~/anaconda3/envs/nwb/lib/python3.8/site-packages/hdmf/utils.py:644\u001b[0m, in \u001b[0;36mdocval.<locals>.dec.<locals>.func_call\u001b[0;34m(*args, **kwargs)\u001b[0m\n\u001b[1;32m    643\u001b[0m \u001b[39mdef\u001b[39;00m \u001b[39mfunc_call\u001b[39m(\u001b[39m*\u001b[39margs, \u001b[39m*\u001b[39m\u001b[39m*\u001b[39mkwargs):\n\u001b[0;32m--> 644\u001b[0m     pargs \u001b[39m=\u001b[39m _check_args(args, kwargs)\n\u001b[1;32m    645\u001b[0m     \u001b[39mreturn\u001b[39;00m func(args[\u001b[39m0\u001b[39m], \u001b[39m*\u001b[39m\u001b[39m*\u001b[39mpargs)\n",
      "File \u001b[0;32m~/anaconda3/envs/nwb/lib/python3.8/site-packages/hdmf/utils.py:637\u001b[0m, in \u001b[0;36mdocval.<locals>.dec.<locals>._check_args\u001b[0;34m(args, kwargs)\u001b[0m\n\u001b[1;32m    636\u001b[0m         msg \u001b[39m=\u001b[39m \u001b[39m'\u001b[39m\u001b[39m%s\u001b[39;00m\u001b[39m: \u001b[39m\u001b[39m%s\u001b[39;00m\u001b[39m'\u001b[39m \u001b[39m%\u001b[39m (func\u001b[39m.\u001b[39m\u001b[39m__qualname__\u001b[39m, \u001b[39m'\u001b[39m\u001b[39m, \u001b[39m\u001b[39m'\u001b[39m\u001b[39m.\u001b[39mjoin(parse_err))\n\u001b[0;32m--> 637\u001b[0m         \u001b[39mraise\u001b[39;00m ExceptionType(msg)\n\u001b[1;32m    639\u001b[0m \u001b[39mreturn\u001b[39;00m parsed[\u001b[39m'\u001b[39m\u001b[39margs\u001b[39m\u001b[39m'\u001b[39m]\n",
      "\u001b[0;31mTypeError\u001b[0m: CustomClassGenerator.set_init.<locals>.__init__: missing argument 'optical_channel_plus'",
      "\nThe above exception was the direct cause of the following exception:\n",
      "\u001b[0;31mConstructError\u001b[0m                            Traceback (most recent call last)",
      "\u001b[1;32m/Users/danielsprague/FOCO_lab/eats-worm/neuroPAL/process.ipynb Cell 5\u001b[0m in \u001b[0;36m<cell line: 3>\u001b[0;34m()\u001b[0m\n\u001b[1;32m      <a href='vscode-notebook-cell:/Users/danielsprague/FOCO_lab/eats-worm/neuroPAL/process.ipynb#X16sZmlsZQ%3D%3D?line=0'>1</a>\u001b[0m \u001b[39mfrom\u001b[39;00m \u001b[39mpynwb\u001b[39;00m \u001b[39mimport\u001b[39;00m NWBHDF5IO\n\u001b[1;32m      <a href='vscode-notebook-cell:/Users/danielsprague/FOCO_lab/eats-worm/neuroPAL/process.ipynb#X16sZmlsZQ%3D%3D?line=2'>3</a>\u001b[0m \u001b[39mwith\u001b[39;00m NWBHDF5IO(datapath\u001b[39m+\u001b[39m\u001b[39m\"\u001b[39m\u001b[39m/nwb/\u001b[39m\u001b[39m\"\u001b[39m\u001b[39m+\u001b[39m\u001b[39m'\u001b[39m\u001b[39m2022-02-12-w01-NP1.nwb\u001b[39m\u001b[39m'\u001b[39m, mode\u001b[39m=\u001b[39m\u001b[39m'\u001b[39m\u001b[39mr\u001b[39m\u001b[39m'\u001b[39m, load_namespaces\u001b[39m=\u001b[39m\u001b[39mTrue\u001b[39;00m) \u001b[39mas\u001b[39;00m io:\n\u001b[0;32m----> <a href='vscode-notebook-cell:/Users/danielsprague/FOCO_lab/eats-worm/neuroPAL/process.ipynb#X16sZmlsZQ%3D%3D?line=3'>4</a>\u001b[0m     read_nwbfile \u001b[39m=\u001b[39m io\u001b[39m.\u001b[39;49mread()\n\u001b[1;32m      <a href='vscode-notebook-cell:/Users/danielsprague/FOCO_lab/eats-worm/neuroPAL/process.ipynb#X16sZmlsZQ%3D%3D?line=4'>5</a>\u001b[0m     image \u001b[39m=\u001b[39m read_nwbfile\u001b[39m.\u001b[39macquisition[\u001b[39m'\u001b[39m\u001b[39mNeuroPALImage\u001b[39m\u001b[39m'\u001b[39m]\u001b[39m.\u001b[39mdata[:]\n\u001b[1;32m      <a href='vscode-notebook-cell:/Users/danielsprague/FOCO_lab/eats-worm/neuroPAL/process.ipynb#X16sZmlsZQ%3D%3D?line=5'>6</a>\u001b[0m     resolution \u001b[39m=\u001b[39m read_nwbfile\u001b[39m.\u001b[39macquisition[\u001b[39m'\u001b[39m\u001b[39mNeuroPALImage\u001b[39m\u001b[39m'\u001b[39m]\u001b[39m.\u001b[39mresolution[:]\n",
      "File \u001b[0;32m~/anaconda3/envs/nwb/lib/python3.8/site-packages/hdmf/utils.py:645\u001b[0m, in \u001b[0;36mdocval.<locals>.dec.<locals>.func_call\u001b[0;34m(*args, **kwargs)\u001b[0m\n\u001b[1;32m    643\u001b[0m \u001b[39mdef\u001b[39;00m \u001b[39mfunc_call\u001b[39m(\u001b[39m*\u001b[39margs, \u001b[39m*\u001b[39m\u001b[39m*\u001b[39mkwargs):\n\u001b[1;32m    644\u001b[0m     pargs \u001b[39m=\u001b[39m _check_args(args, kwargs)\n\u001b[0;32m--> 645\u001b[0m     \u001b[39mreturn\u001b[39;00m func(args[\u001b[39m0\u001b[39;49m], \u001b[39m*\u001b[39;49m\u001b[39m*\u001b[39;49mpargs)\n",
      "File \u001b[0;32m~/anaconda3/envs/nwb/lib/python3.8/site-packages/pynwb/__init__.py:287\u001b[0m, in \u001b[0;36mNWBHDF5IO.read\u001b[0;34m(self, **kwargs)\u001b[0m\n\u001b[1;32m    284\u001b[0m         \u001b[39mraise\u001b[39;00m \u001b[39mTypeError\u001b[39;00m(\u001b[39m\"\u001b[39m\u001b[39mNWB version \u001b[39m\u001b[39m%s\u001b[39;00m\u001b[39m not supported. PyNWB supports NWB files version 2 and above.\u001b[39m\u001b[39m\"\u001b[39m \u001b[39m%\u001b[39m\n\u001b[1;32m    285\u001b[0m                         \u001b[39mstr\u001b[39m(file_version_str))\n\u001b[1;32m    286\u001b[0m \u001b[39m# read the file\u001b[39;00m\n\u001b[0;32m--> 287\u001b[0m \u001b[39mreturn\u001b[39;00m \u001b[39msuper\u001b[39;49m()\u001b[39m.\u001b[39;49mread(\u001b[39m*\u001b[39;49m\u001b[39m*\u001b[39;49mkwargs)\n",
      "File \u001b[0;32m~/anaconda3/envs/nwb/lib/python3.8/site-packages/hdmf/backends/hdf5/h5tools.py:453\u001b[0m, in \u001b[0;36mHDF5IO.read\u001b[0;34m(self, **kwargs)\u001b[0m\n\u001b[1;32m    450\u001b[0m     \u001b[39mraise\u001b[39;00m UnsupportedOperation(\u001b[39m\"\u001b[39m\u001b[39mCannot read from file \u001b[39m\u001b[39m%s\u001b[39;00m\u001b[39m in mode \u001b[39m\u001b[39m'\u001b[39m\u001b[39m%s\u001b[39;00m\u001b[39m'\u001b[39m\u001b[39m. Please use mode \u001b[39m\u001b[39m'\u001b[39m\u001b[39mr\u001b[39m\u001b[39m'\u001b[39m\u001b[39m, \u001b[39m\u001b[39m'\u001b[39m\u001b[39mr+\u001b[39m\u001b[39m'\u001b[39m\u001b[39m, or \u001b[39m\u001b[39m'\u001b[39m\u001b[39ma\u001b[39m\u001b[39m'\u001b[39m\u001b[39m.\u001b[39m\u001b[39m\"\u001b[39m\n\u001b[1;32m    451\u001b[0m                                \u001b[39m%\u001b[39m (\u001b[39mself\u001b[39m\u001b[39m.\u001b[39msource, \u001b[39mself\u001b[39m\u001b[39m.\u001b[39m__mode))\n\u001b[1;32m    452\u001b[0m \u001b[39mtry\u001b[39;00m:\n\u001b[0;32m--> 453\u001b[0m     \u001b[39mreturn\u001b[39;00m \u001b[39msuper\u001b[39;49m()\u001b[39m.\u001b[39;49mread(\u001b[39m*\u001b[39;49m\u001b[39m*\u001b[39;49mkwargs)\n\u001b[1;32m    454\u001b[0m \u001b[39mexcept\u001b[39;00m UnsupportedOperation \u001b[39mas\u001b[39;00m e:\n\u001b[1;32m    455\u001b[0m     \u001b[39mif\u001b[39;00m \u001b[39mstr\u001b[39m(e) \u001b[39m==\u001b[39m \u001b[39m'\u001b[39m\u001b[39mCannot build data. There are no values.\u001b[39m\u001b[39m'\u001b[39m:  \u001b[39m# pragma: no cover\u001b[39;00m\n",
      "File \u001b[0;32m~/anaconda3/envs/nwb/lib/python3.8/site-packages/hdmf/utils.py:645\u001b[0m, in \u001b[0;36mdocval.<locals>.dec.<locals>.func_call\u001b[0;34m(*args, **kwargs)\u001b[0m\n\u001b[1;32m    643\u001b[0m \u001b[39mdef\u001b[39;00m \u001b[39mfunc_call\u001b[39m(\u001b[39m*\u001b[39margs, \u001b[39m*\u001b[39m\u001b[39m*\u001b[39mkwargs):\n\u001b[1;32m    644\u001b[0m     pargs \u001b[39m=\u001b[39m _check_args(args, kwargs)\n\u001b[0;32m--> 645\u001b[0m     \u001b[39mreturn\u001b[39;00m func(args[\u001b[39m0\u001b[39;49m], \u001b[39m*\u001b[39;49m\u001b[39m*\u001b[39;49mpargs)\n",
      "File \u001b[0;32m~/anaconda3/envs/nwb/lib/python3.8/site-packages/hdmf/backends/io.py:42\u001b[0m, in \u001b[0;36mHDMFIO.read\u001b[0;34m(self, **kwargs)\u001b[0m\n\u001b[1;32m     39\u001b[0m \u001b[39mif\u001b[39;00m \u001b[39mall\u001b[39m(\u001b[39mlen\u001b[39m(v) \u001b[39m==\u001b[39m \u001b[39m0\u001b[39m \u001b[39mfor\u001b[39;00m v \u001b[39min\u001b[39;00m f_builder\u001b[39m.\u001b[39mvalues()):\n\u001b[1;32m     40\u001b[0m     \u001b[39m# TODO also check that the keys are appropriate. print a better error message\u001b[39;00m\n\u001b[1;32m     41\u001b[0m     \u001b[39mraise\u001b[39;00m UnsupportedOperation(\u001b[39m'\u001b[39m\u001b[39mCannot build data. There are no values.\u001b[39m\u001b[39m'\u001b[39m)\n\u001b[0;32m---> 42\u001b[0m container \u001b[39m=\u001b[39m \u001b[39mself\u001b[39;49m\u001b[39m.\u001b[39;49m__manager\u001b[39m.\u001b[39;49mconstruct(f_builder)\n\u001b[1;32m     43\u001b[0m \u001b[39mreturn\u001b[39;00m container\n",
      "File \u001b[0;32m~/anaconda3/envs/nwb/lib/python3.8/site-packages/hdmf/utils.py:645\u001b[0m, in \u001b[0;36mdocval.<locals>.dec.<locals>.func_call\u001b[0;34m(*args, **kwargs)\u001b[0m\n\u001b[1;32m    643\u001b[0m \u001b[39mdef\u001b[39;00m \u001b[39mfunc_call\u001b[39m(\u001b[39m*\u001b[39margs, \u001b[39m*\u001b[39m\u001b[39m*\u001b[39mkwargs):\n\u001b[1;32m    644\u001b[0m     pargs \u001b[39m=\u001b[39m _check_args(args, kwargs)\n\u001b[0;32m--> 645\u001b[0m     \u001b[39mreturn\u001b[39;00m func(args[\u001b[39m0\u001b[39;49m], \u001b[39m*\u001b[39;49m\u001b[39m*\u001b[39;49mpargs)\n",
      "File \u001b[0;32m~/anaconda3/envs/nwb/lib/python3.8/site-packages/hdmf/build/manager.py:280\u001b[0m, in \u001b[0;36mBuildManager.construct\u001b[0;34m(self, **kwargs)\u001b[0m\n\u001b[1;32m    276\u001b[0m     result \u001b[39m=\u001b[39m \u001b[39mself\u001b[39m\u001b[39m.\u001b[39m__type_map\u001b[39m.\u001b[39mconstruct(builder, \u001b[39mself\u001b[39m, parent)\n\u001b[1;32m    277\u001b[0m \u001b[39melse\u001b[39;00m:\n\u001b[1;32m    278\u001b[0m     \u001b[39m# we are at the top of the hierarchy,\u001b[39;00m\n\u001b[1;32m    279\u001b[0m     \u001b[39m# so it must be time to resolve parents\u001b[39;00m\n\u001b[0;32m--> 280\u001b[0m     result \u001b[39m=\u001b[39m \u001b[39mself\u001b[39;49m\u001b[39m.\u001b[39;49m__type_map\u001b[39m.\u001b[39;49mconstruct(builder, \u001b[39mself\u001b[39;49m, \u001b[39mNone\u001b[39;49;00m)\n\u001b[1;32m    281\u001b[0m     \u001b[39mself\u001b[39m\u001b[39m.\u001b[39m__resolve_parents(result)\n\u001b[1;32m    282\u001b[0m \u001b[39mself\u001b[39m\u001b[39m.\u001b[39mprebuilt(result, builder)\n",
      "File \u001b[0;32m~/anaconda3/envs/nwb/lib/python3.8/site-packages/hdmf/utils.py:645\u001b[0m, in \u001b[0;36mdocval.<locals>.dec.<locals>.func_call\u001b[0;34m(*args, **kwargs)\u001b[0m\n\u001b[1;32m    643\u001b[0m \u001b[39mdef\u001b[39;00m \u001b[39mfunc_call\u001b[39m(\u001b[39m*\u001b[39margs, \u001b[39m*\u001b[39m\u001b[39m*\u001b[39mkwargs):\n\u001b[1;32m    644\u001b[0m     pargs \u001b[39m=\u001b[39m _check_args(args, kwargs)\n\u001b[0;32m--> 645\u001b[0m     \u001b[39mreturn\u001b[39;00m func(args[\u001b[39m0\u001b[39;49m], \u001b[39m*\u001b[39;49m\u001b[39m*\u001b[39;49mpargs)\n",
      "File \u001b[0;32m~/anaconda3/envs/nwb/lib/python3.8/site-packages/hdmf/build/manager.py:789\u001b[0m, in \u001b[0;36mTypeMap.construct\u001b[0;34m(self, **kwargs)\u001b[0m\n\u001b[1;32m    787\u001b[0m     \u001b[39mraise\u001b[39;00m \u001b[39mValueError\u001b[39;00m(\u001b[39m'\u001b[39m\u001b[39mNo ObjectMapper found for builder of type \u001b[39m\u001b[39m%s\u001b[39;00m\u001b[39m'\u001b[39m \u001b[39m%\u001b[39m dt)\n\u001b[1;32m    788\u001b[0m \u001b[39melse\u001b[39;00m:\n\u001b[0;32m--> 789\u001b[0m     \u001b[39mreturn\u001b[39;00m obj_mapper\u001b[39m.\u001b[39;49mconstruct(builder, build_manager, parent)\n",
      "File \u001b[0;32m~/anaconda3/envs/nwb/lib/python3.8/site-packages/hdmf/utils.py:645\u001b[0m, in \u001b[0;36mdocval.<locals>.dec.<locals>.func_call\u001b[0;34m(*args, **kwargs)\u001b[0m\n\u001b[1;32m    643\u001b[0m \u001b[39mdef\u001b[39;00m \u001b[39mfunc_call\u001b[39m(\u001b[39m*\u001b[39margs, \u001b[39m*\u001b[39m\u001b[39m*\u001b[39mkwargs):\n\u001b[1;32m    644\u001b[0m     pargs \u001b[39m=\u001b[39m _check_args(args, kwargs)\n\u001b[0;32m--> 645\u001b[0m     \u001b[39mreturn\u001b[39;00m func(args[\u001b[39m0\u001b[39;49m], \u001b[39m*\u001b[39;49m\u001b[39m*\u001b[39;49mpargs)\n",
      "File \u001b[0;32m~/anaconda3/envs/nwb/lib/python3.8/site-packages/hdmf/build/objectmapper.py:1218\u001b[0m, in \u001b[0;36mObjectMapper.construct\u001b[0;34m(self, **kwargs)\u001b[0m\n\u001b[1;32m   1216\u001b[0m \u001b[39mcls\u001b[39m \u001b[39m=\u001b[39m manager\u001b[39m.\u001b[39mget_cls(builder)\n\u001b[1;32m   1217\u001b[0m \u001b[39m# gather all subspecs\u001b[39;00m\n\u001b[0;32m-> 1218\u001b[0m subspecs \u001b[39m=\u001b[39m \u001b[39mself\u001b[39;49m\u001b[39m.\u001b[39;49m__get_subspec_values(builder, \u001b[39mself\u001b[39;49m\u001b[39m.\u001b[39;49mspec, manager)\n\u001b[1;32m   1219\u001b[0m \u001b[39m# get the constructor argument that each specification corresponds to\u001b[39;00m\n\u001b[1;32m   1220\u001b[0m const_args \u001b[39m=\u001b[39m \u001b[39mdict\u001b[39m()\n",
      "File \u001b[0;32m~/anaconda3/envs/nwb/lib/python3.8/site-packages/hdmf/build/objectmapper.py:1147\u001b[0m, in \u001b[0;36mObjectMapper.__get_subspec_values\u001b[0;34m(self, builder, spec, manager)\u001b[0m\n\u001b[1;32m   1145\u001b[0m                 ret[subspec] \u001b[39m=\u001b[39m \u001b[39mself\u001b[39m\u001b[39m.\u001b[39m__flatten(sub_builder, subspec, manager)\n\u001b[1;32m   1146\u001b[0m     \u001b[39m# now process groups and datasets\u001b[39;00m\n\u001b[0;32m-> 1147\u001b[0m     \u001b[39mself\u001b[39;49m\u001b[39m.\u001b[39;49m__get_sub_builders(groups, spec\u001b[39m.\u001b[39;49mgroups, manager, ret)\n\u001b[1;32m   1148\u001b[0m     \u001b[39mself\u001b[39m\u001b[39m.\u001b[39m__get_sub_builders(datasets, spec\u001b[39m.\u001b[39mdatasets, manager, ret)\n\u001b[1;32m   1149\u001b[0m \u001b[39melif\u001b[39;00m \u001b[39misinstance\u001b[39m(spec, DatasetSpec):\n",
      "File \u001b[0;32m~/anaconda3/envs/nwb/lib/python3.8/site-packages/hdmf/build/objectmapper.py:1198\u001b[0m, in \u001b[0;36mObjectMapper.__get_sub_builders\u001b[0;34m(self, sub_builders, subspecs, manager, ret)\u001b[0m\n\u001b[1;32m   1195\u001b[0m     \u001b[39mcontinue\u001b[39;00m\n\u001b[1;32m   1196\u001b[0m \u001b[39mif\u001b[39;00m dt \u001b[39mis\u001b[39;00m \u001b[39mNone\u001b[39;00m:\n\u001b[1;32m   1197\u001b[0m     \u001b[39m# recurse\u001b[39;00m\n\u001b[0;32m-> 1198\u001b[0m     ret\u001b[39m.\u001b[39mupdate(\u001b[39mself\u001b[39;49m\u001b[39m.\u001b[39;49m__get_subspec_values(sub_builder, subspec, manager))\n\u001b[1;32m   1199\u001b[0m \u001b[39melse\u001b[39;00m:\n\u001b[1;32m   1200\u001b[0m     ret[subspec] \u001b[39m=\u001b[39m manager\u001b[39m.\u001b[39mconstruct(sub_builder)\n",
      "File \u001b[0;32m~/anaconda3/envs/nwb/lib/python3.8/site-packages/hdmf/build/objectmapper.py:1147\u001b[0m, in \u001b[0;36mObjectMapper.__get_subspec_values\u001b[0;34m(self, builder, spec, manager)\u001b[0m\n\u001b[1;32m   1145\u001b[0m                 ret[subspec] \u001b[39m=\u001b[39m \u001b[39mself\u001b[39m\u001b[39m.\u001b[39m__flatten(sub_builder, subspec, manager)\n\u001b[1;32m   1146\u001b[0m     \u001b[39m# now process groups and datasets\u001b[39;00m\n\u001b[0;32m-> 1147\u001b[0m     \u001b[39mself\u001b[39;49m\u001b[39m.\u001b[39;49m__get_sub_builders(groups, spec\u001b[39m.\u001b[39;49mgroups, manager, ret)\n\u001b[1;32m   1148\u001b[0m     \u001b[39mself\u001b[39m\u001b[39m.\u001b[39m__get_sub_builders(datasets, spec\u001b[39m.\u001b[39mdatasets, manager, ret)\n\u001b[1;32m   1149\u001b[0m \u001b[39melif\u001b[39;00m \u001b[39misinstance\u001b[39m(spec, DatasetSpec):\n",
      "File \u001b[0;32m~/anaconda3/envs/nwb/lib/python3.8/site-packages/hdmf/build/objectmapper.py:1190\u001b[0m, in \u001b[0;36mObjectMapper.__get_sub_builders\u001b[0;34m(self, sub_builders, subspecs, manager, ret)\u001b[0m\n\u001b[1;32m   1188\u001b[0m     sub_builder \u001b[39m=\u001b[39m builder_dt\u001b[39m.\u001b[39mget(dt)\n\u001b[1;32m   1189\u001b[0m     \u001b[39mif\u001b[39;00m sub_builder \u001b[39mis\u001b[39;00m \u001b[39mnot\u001b[39;00m \u001b[39mNone\u001b[39;00m:\n\u001b[0;32m-> 1190\u001b[0m         sub_builder \u001b[39m=\u001b[39m \u001b[39mself\u001b[39;49m\u001b[39m.\u001b[39;49m__flatten(sub_builder, subspec, manager)\n\u001b[1;32m   1191\u001b[0m         ret[subspec] \u001b[39m=\u001b[39m sub_builder\n\u001b[1;32m   1192\u001b[0m \u001b[39melse\u001b[39;00m:\n",
      "File \u001b[0;32m~/anaconda3/envs/nwb/lib/python3.8/site-packages/hdmf/build/objectmapper.py:1203\u001b[0m, in \u001b[0;36mObjectMapper.__flatten\u001b[0;34m(self, sub_builder, subspec, manager)\u001b[0m\n\u001b[1;32m   1202\u001b[0m \u001b[39mdef\u001b[39;00m \u001b[39m__flatten\u001b[39m(\u001b[39mself\u001b[39m, sub_builder, subspec, manager):\n\u001b[0;32m-> 1203\u001b[0m     tmp \u001b[39m=\u001b[39m [manager\u001b[39m.\u001b[39mconstruct(b) \u001b[39mfor\u001b[39;00m b \u001b[39min\u001b[39;00m sub_builder]\n\u001b[1;32m   1204\u001b[0m     \u001b[39mif\u001b[39;00m \u001b[39mlen\u001b[39m(tmp) \u001b[39m==\u001b[39m \u001b[39m1\u001b[39m \u001b[39mand\u001b[39;00m \u001b[39mnot\u001b[39;00m subspec\u001b[39m.\u001b[39mis_many():\n\u001b[1;32m   1205\u001b[0m         tmp \u001b[39m=\u001b[39m tmp[\u001b[39m0\u001b[39m]\n",
      "File \u001b[0;32m~/anaconda3/envs/nwb/lib/python3.8/site-packages/hdmf/build/objectmapper.py:1203\u001b[0m, in \u001b[0;36m<listcomp>\u001b[0;34m(.0)\u001b[0m\n\u001b[1;32m   1202\u001b[0m \u001b[39mdef\u001b[39;00m \u001b[39m__flatten\u001b[39m(\u001b[39mself\u001b[39m, sub_builder, subspec, manager):\n\u001b[0;32m-> 1203\u001b[0m     tmp \u001b[39m=\u001b[39m [manager\u001b[39m.\u001b[39;49mconstruct(b) \u001b[39mfor\u001b[39;00m b \u001b[39min\u001b[39;00m sub_builder]\n\u001b[1;32m   1204\u001b[0m     \u001b[39mif\u001b[39;00m \u001b[39mlen\u001b[39m(tmp) \u001b[39m==\u001b[39m \u001b[39m1\u001b[39m \u001b[39mand\u001b[39;00m \u001b[39mnot\u001b[39;00m subspec\u001b[39m.\u001b[39mis_many():\n\u001b[1;32m   1205\u001b[0m         tmp \u001b[39m=\u001b[39m tmp[\u001b[39m0\u001b[39m]\n",
      "File \u001b[0;32m~/anaconda3/envs/nwb/lib/python3.8/site-packages/hdmf/utils.py:645\u001b[0m, in \u001b[0;36mdocval.<locals>.dec.<locals>.func_call\u001b[0;34m(*args, **kwargs)\u001b[0m\n\u001b[1;32m    643\u001b[0m \u001b[39mdef\u001b[39;00m \u001b[39mfunc_call\u001b[39m(\u001b[39m*\u001b[39margs, \u001b[39m*\u001b[39m\u001b[39m*\u001b[39mkwargs):\n\u001b[1;32m    644\u001b[0m     pargs \u001b[39m=\u001b[39m _check_args(args, kwargs)\n\u001b[0;32m--> 645\u001b[0m     \u001b[39mreturn\u001b[39;00m func(args[\u001b[39m0\u001b[39;49m], \u001b[39m*\u001b[39;49m\u001b[39m*\u001b[39;49mpargs)\n",
      "File \u001b[0;32m~/anaconda3/envs/nwb/lib/python3.8/site-packages/hdmf/build/manager.py:276\u001b[0m, in \u001b[0;36mBuildManager.construct\u001b[0;34m(self, **kwargs)\u001b[0m\n\u001b[1;32m    274\u001b[0m \u001b[39mif\u001b[39;00m parent_builder \u001b[39mis\u001b[39;00m \u001b[39mnot\u001b[39;00m \u001b[39mNone\u001b[39;00m:\n\u001b[1;32m    275\u001b[0m     parent \u001b[39m=\u001b[39m \u001b[39mself\u001b[39m\u001b[39m.\u001b[39m_get_proxy_builder(parent_builder)\n\u001b[0;32m--> 276\u001b[0m     result \u001b[39m=\u001b[39m \u001b[39mself\u001b[39;49m\u001b[39m.\u001b[39;49m__type_map\u001b[39m.\u001b[39;49mconstruct(builder, \u001b[39mself\u001b[39;49m, parent)\n\u001b[1;32m    277\u001b[0m \u001b[39melse\u001b[39;00m:\n\u001b[1;32m    278\u001b[0m     \u001b[39m# we are at the top of the hierarchy,\u001b[39;00m\n\u001b[1;32m    279\u001b[0m     \u001b[39m# so it must be time to resolve parents\u001b[39;00m\n\u001b[1;32m    280\u001b[0m     result \u001b[39m=\u001b[39m \u001b[39mself\u001b[39m\u001b[39m.\u001b[39m__type_map\u001b[39m.\u001b[39mconstruct(builder, \u001b[39mself\u001b[39m, \u001b[39mNone\u001b[39;00m)\n",
      "File \u001b[0;32m~/anaconda3/envs/nwb/lib/python3.8/site-packages/hdmf/utils.py:645\u001b[0m, in \u001b[0;36mdocval.<locals>.dec.<locals>.func_call\u001b[0;34m(*args, **kwargs)\u001b[0m\n\u001b[1;32m    643\u001b[0m \u001b[39mdef\u001b[39;00m \u001b[39mfunc_call\u001b[39m(\u001b[39m*\u001b[39margs, \u001b[39m*\u001b[39m\u001b[39m*\u001b[39mkwargs):\n\u001b[1;32m    644\u001b[0m     pargs \u001b[39m=\u001b[39m _check_args(args, kwargs)\n\u001b[0;32m--> 645\u001b[0m     \u001b[39mreturn\u001b[39;00m func(args[\u001b[39m0\u001b[39;49m], \u001b[39m*\u001b[39;49m\u001b[39m*\u001b[39;49mpargs)\n",
      "File \u001b[0;32m~/anaconda3/envs/nwb/lib/python3.8/site-packages/hdmf/build/manager.py:789\u001b[0m, in \u001b[0;36mTypeMap.construct\u001b[0;34m(self, **kwargs)\u001b[0m\n\u001b[1;32m    787\u001b[0m     \u001b[39mraise\u001b[39;00m \u001b[39mValueError\u001b[39;00m(\u001b[39m'\u001b[39m\u001b[39mNo ObjectMapper found for builder of type \u001b[39m\u001b[39m%s\u001b[39;00m\u001b[39m'\u001b[39m \u001b[39m%\u001b[39m dt)\n\u001b[1;32m    788\u001b[0m \u001b[39melse\u001b[39;00m:\n\u001b[0;32m--> 789\u001b[0m     \u001b[39mreturn\u001b[39;00m obj_mapper\u001b[39m.\u001b[39;49mconstruct(builder, build_manager, parent)\n",
      "File \u001b[0;32m~/anaconda3/envs/nwb/lib/python3.8/site-packages/hdmf/utils.py:645\u001b[0m, in \u001b[0;36mdocval.<locals>.dec.<locals>.func_call\u001b[0;34m(*args, **kwargs)\u001b[0m\n\u001b[1;32m    643\u001b[0m \u001b[39mdef\u001b[39;00m \u001b[39mfunc_call\u001b[39m(\u001b[39m*\u001b[39margs, \u001b[39m*\u001b[39m\u001b[39m*\u001b[39mkwargs):\n\u001b[1;32m    644\u001b[0m     pargs \u001b[39m=\u001b[39m _check_args(args, kwargs)\n\u001b[0;32m--> 645\u001b[0m     \u001b[39mreturn\u001b[39;00m func(args[\u001b[39m0\u001b[39;49m], \u001b[39m*\u001b[39;49m\u001b[39m*\u001b[39;49mpargs)\n",
      "File \u001b[0;32m~/anaconda3/envs/nwb/lib/python3.8/site-packages/hdmf/build/objectmapper.py:1218\u001b[0m, in \u001b[0;36mObjectMapper.construct\u001b[0;34m(self, **kwargs)\u001b[0m\n\u001b[1;32m   1216\u001b[0m \u001b[39mcls\u001b[39m \u001b[39m=\u001b[39m manager\u001b[39m.\u001b[39mget_cls(builder)\n\u001b[1;32m   1217\u001b[0m \u001b[39m# gather all subspecs\u001b[39;00m\n\u001b[0;32m-> 1218\u001b[0m subspecs \u001b[39m=\u001b[39m \u001b[39mself\u001b[39;49m\u001b[39m.\u001b[39;49m__get_subspec_values(builder, \u001b[39mself\u001b[39;49m\u001b[39m.\u001b[39;49mspec, manager)\n\u001b[1;32m   1219\u001b[0m \u001b[39m# get the constructor argument that each specification corresponds to\u001b[39;00m\n\u001b[1;32m   1220\u001b[0m const_args \u001b[39m=\u001b[39m \u001b[39mdict\u001b[39m()\n",
      "File \u001b[0;32m~/anaconda3/envs/nwb/lib/python3.8/site-packages/hdmf/build/objectmapper.py:1141\u001b[0m, in \u001b[0;36mObjectMapper.__get_subspec_values\u001b[0;34m(self, builder, spec, manager)\u001b[0m\n\u001b[1;32m   1139\u001b[0m \u001b[39mfor\u001b[39;00m subspec \u001b[39min\u001b[39;00m spec\u001b[39m.\u001b[39mlinks:\n\u001b[1;32m   1140\u001b[0m     \u001b[39mif\u001b[39;00m subspec\u001b[39m.\u001b[39mname \u001b[39mis\u001b[39;00m \u001b[39mnot\u001b[39;00m \u001b[39mNone\u001b[39;00m \u001b[39mand\u001b[39;00m subspec\u001b[39m.\u001b[39mname \u001b[39min\u001b[39;00m links:\n\u001b[0;32m-> 1141\u001b[0m         ret[subspec] \u001b[39m=\u001b[39m manager\u001b[39m.\u001b[39;49mconstruct(links[subspec\u001b[39m.\u001b[39;49mname]\u001b[39m.\u001b[39;49mbuilder)\n\u001b[1;32m   1142\u001b[0m     \u001b[39melse\u001b[39;00m:\n\u001b[1;32m   1143\u001b[0m         sub_builder \u001b[39m=\u001b[39m link_dt\u001b[39m.\u001b[39mget(subspec\u001b[39m.\u001b[39mtarget_type)\n",
      "File \u001b[0;32m~/anaconda3/envs/nwb/lib/python3.8/site-packages/hdmf/utils.py:645\u001b[0m, in \u001b[0;36mdocval.<locals>.dec.<locals>.func_call\u001b[0;34m(*args, **kwargs)\u001b[0m\n\u001b[1;32m    643\u001b[0m \u001b[39mdef\u001b[39;00m \u001b[39mfunc_call\u001b[39m(\u001b[39m*\u001b[39margs, \u001b[39m*\u001b[39m\u001b[39m*\u001b[39mkwargs):\n\u001b[1;32m    644\u001b[0m     pargs \u001b[39m=\u001b[39m _check_args(args, kwargs)\n\u001b[0;32m--> 645\u001b[0m     \u001b[39mreturn\u001b[39;00m func(args[\u001b[39m0\u001b[39;49m], \u001b[39m*\u001b[39;49m\u001b[39m*\u001b[39;49mpargs)\n",
      "File \u001b[0;32m~/anaconda3/envs/nwb/lib/python3.8/site-packages/hdmf/build/manager.py:276\u001b[0m, in \u001b[0;36mBuildManager.construct\u001b[0;34m(self, **kwargs)\u001b[0m\n\u001b[1;32m    274\u001b[0m \u001b[39mif\u001b[39;00m parent_builder \u001b[39mis\u001b[39;00m \u001b[39mnot\u001b[39;00m \u001b[39mNone\u001b[39;00m:\n\u001b[1;32m    275\u001b[0m     parent \u001b[39m=\u001b[39m \u001b[39mself\u001b[39m\u001b[39m.\u001b[39m_get_proxy_builder(parent_builder)\n\u001b[0;32m--> 276\u001b[0m     result \u001b[39m=\u001b[39m \u001b[39mself\u001b[39;49m\u001b[39m.\u001b[39;49m__type_map\u001b[39m.\u001b[39;49mconstruct(builder, \u001b[39mself\u001b[39;49m, parent)\n\u001b[1;32m    277\u001b[0m \u001b[39melse\u001b[39;00m:\n\u001b[1;32m    278\u001b[0m     \u001b[39m# we are at the top of the hierarchy,\u001b[39;00m\n\u001b[1;32m    279\u001b[0m     \u001b[39m# so it must be time to resolve parents\u001b[39;00m\n\u001b[1;32m    280\u001b[0m     result \u001b[39m=\u001b[39m \u001b[39mself\u001b[39m\u001b[39m.\u001b[39m__type_map\u001b[39m.\u001b[39mconstruct(builder, \u001b[39mself\u001b[39m, \u001b[39mNone\u001b[39;00m)\n",
      "File \u001b[0;32m~/anaconda3/envs/nwb/lib/python3.8/site-packages/hdmf/utils.py:645\u001b[0m, in \u001b[0;36mdocval.<locals>.dec.<locals>.func_call\u001b[0;34m(*args, **kwargs)\u001b[0m\n\u001b[1;32m    643\u001b[0m \u001b[39mdef\u001b[39;00m \u001b[39mfunc_call\u001b[39m(\u001b[39m*\u001b[39margs, \u001b[39m*\u001b[39m\u001b[39m*\u001b[39mkwargs):\n\u001b[1;32m    644\u001b[0m     pargs \u001b[39m=\u001b[39m _check_args(args, kwargs)\n\u001b[0;32m--> 645\u001b[0m     \u001b[39mreturn\u001b[39;00m func(args[\u001b[39m0\u001b[39;49m], \u001b[39m*\u001b[39;49m\u001b[39m*\u001b[39;49mpargs)\n",
      "File \u001b[0;32m~/anaconda3/envs/nwb/lib/python3.8/site-packages/hdmf/build/manager.py:789\u001b[0m, in \u001b[0;36mTypeMap.construct\u001b[0;34m(self, **kwargs)\u001b[0m\n\u001b[1;32m    787\u001b[0m     \u001b[39mraise\u001b[39;00m \u001b[39mValueError\u001b[39;00m(\u001b[39m'\u001b[39m\u001b[39mNo ObjectMapper found for builder of type \u001b[39m\u001b[39m%s\u001b[39;00m\u001b[39m'\u001b[39m \u001b[39m%\u001b[39m dt)\n\u001b[1;32m    788\u001b[0m \u001b[39melse\u001b[39;00m:\n\u001b[0;32m--> 789\u001b[0m     \u001b[39mreturn\u001b[39;00m obj_mapper\u001b[39m.\u001b[39;49mconstruct(builder, build_manager, parent)\n",
      "File \u001b[0;32m~/anaconda3/envs/nwb/lib/python3.8/site-packages/hdmf/utils.py:645\u001b[0m, in \u001b[0;36mdocval.<locals>.dec.<locals>.func_call\u001b[0;34m(*args, **kwargs)\u001b[0m\n\u001b[1;32m    643\u001b[0m \u001b[39mdef\u001b[39;00m \u001b[39mfunc_call\u001b[39m(\u001b[39m*\u001b[39margs, \u001b[39m*\u001b[39m\u001b[39m*\u001b[39mkwargs):\n\u001b[1;32m    644\u001b[0m     pargs \u001b[39m=\u001b[39m _check_args(args, kwargs)\n\u001b[0;32m--> 645\u001b[0m     \u001b[39mreturn\u001b[39;00m func(args[\u001b[39m0\u001b[39;49m], \u001b[39m*\u001b[39;49m\u001b[39m*\u001b[39;49mpargs)\n",
      "File \u001b[0;32m~/anaconda3/envs/nwb/lib/python3.8/site-packages/hdmf/build/objectmapper.py:1252\u001b[0m, in \u001b[0;36mObjectMapper.construct\u001b[0;34m(self, **kwargs)\u001b[0m\n\u001b[1;32m   1250\u001b[0m \u001b[39mexcept\u001b[39;00m \u001b[39mException\u001b[39;00m \u001b[39mas\u001b[39;00m ex:\n\u001b[1;32m   1251\u001b[0m     msg \u001b[39m=\u001b[39m \u001b[39m'\u001b[39m\u001b[39mCould not construct \u001b[39m\u001b[39m%s\u001b[39;00m\u001b[39m object due to: \u001b[39m\u001b[39m%s\u001b[39;00m\u001b[39m'\u001b[39m \u001b[39m%\u001b[39m (\u001b[39mcls\u001b[39m\u001b[39m.\u001b[39m\u001b[39m__name__\u001b[39m, ex)\n\u001b[0;32m-> 1252\u001b[0m     \u001b[39mraise\u001b[39;00m ConstructError(builder, msg) \u001b[39mfrom\u001b[39;00m \u001b[39mex\u001b[39;00m\n\u001b[1;32m   1253\u001b[0m \u001b[39mreturn\u001b[39;00m obj\n",
      "\u001b[0;31mConstructError\u001b[0m: (root/processing/NeuroPAL/ImagingVolume GroupBuilder {'attributes': {'grid_spacing_unit': 'micrometers', 'namespace': 'ndx-multichannel-volume', 'neurodata_type': 'ImagingVolume', 'object_id': 'd2400987-c85f-42c4-b0a3-b0c2723f91eb', 'origin_coords_unit': 'micrometers'}, 'groups': {'CyOFP1': root/processing/NeuroPAL/ImagingVolume/CyOFP1 GroupBuilder {'attributes': {'namespace': 'ndx-multichannel-volume', 'neurodata_type': 'OpticalChannelPlus', 'object_id': '676a7309-3dc5-4245-b130-c32832f29a94'}, 'groups': {}, 'datasets': {'description': root/processing/NeuroPAL/ImagingVolume/CyOFP1/description DatasetBuilder {'attributes': {}, 'data': '488-605-70m'}, 'emission_lambda': root/processing/NeuroPAL/ImagingVolume/CyOFP1/emission_lambda DatasetBuilder {'attributes': {}, 'data': 605.0}, 'emission_range': root/processing/NeuroPAL/ImagingVolume/CyOFP1/emission_range DatasetBuilder {'attributes': {}, 'data': <Closed HDF5 dataset>}, 'excitation_lambda': root/processing/NeuroPAL/ImagingVolume/CyOFP1/excitation_lambda DatasetBuilder {'attributes': {}, 'data': 488.0}, 'excitation_range': root/processing/NeuroPAL/ImagingVolume/CyOFP1/excitation_range DatasetBuilder {'attributes': {}, 'data': <Closed HDF5 dataset>}}, 'links': {}}, 'GFP-GCaMP': root/processing/NeuroPAL/ImagingVolume/GFP-GCaMP GroupBuilder {'attributes': {'namespace': 'ndx-multichannel-volume', 'neurodata_type': 'OpticalChannelPlus', 'object_id': '4102d08f-22e2-4ca7-a74e-51a60d7f4533'}, 'groups': {}, 'datasets': {'description': root/processing/NeuroPAL/ImagingVolume/GFP-GCaMP/description DatasetBuilder {'attributes': {}, 'data': '488-525-50m'}, 'emission_lambda': root/processing/NeuroPAL/ImagingVolume/GFP-GCaMP/emission_lambda DatasetBuilder {'attributes': {}, 'data': 525.0}, 'emission_range': root/processing/NeuroPAL/ImagingVolume/GFP-GCaMP/emission_range DatasetBuilder {'attributes': {}, 'data': <Closed HDF5 dataset>}, 'excitation_lambda': root/processing/NeuroPAL/ImagingVolume/GFP-GCaMP/excitation_lambda DatasetBuilder {'attributes': {}, 'data': 488.0}, 'excitation_range': root/processing/NeuroPAL/ImagingVolume/GFP-GCaMP/excitation_range DatasetBuilder {'attributes': {}, 'data': <Closed HDF5 dataset>}}, 'links': {}}, 'Tag RGP-T': root/processing/NeuroPAL/ImagingVolume/Tag RGP-T GroupBuilder {'attributes': {'namespace': 'ndx-multichannel-volume', 'neurodata_type': 'OpticalChannelPlus', 'object_id': 'b8ec0bed-c468-468b-9861-5c9223fcee7c'}, 'groups': {}, 'datasets': {'description': root/processing/NeuroPAL/ImagingVolume/Tag RGP-T/description DatasetBuilder {'attributes': {}, 'data': '561-605-70m'}, 'emission_lambda': root/processing/NeuroPAL/ImagingVolume/Tag RGP-T/emission_lambda DatasetBuilder {'attributes': {}, 'data': 605.0}, 'emission_range': root/processing/NeuroPAL/ImagingVolume/Tag RGP-T/emission_range DatasetBuilder {'attributes': {}, 'data': <Closed HDF5 dataset>}, 'excitation_lambda': root/processing/NeuroPAL/ImagingVolume/Tag RGP-T/excitation_lambda DatasetBuilder {'attributes': {}, 'data': 561.0}, 'excitation_range': root/processing/NeuroPAL/ImagingVolume/Tag RGP-T/excitation_range DatasetBuilder {'attributes': {}, 'data': <Closed HDF5 dataset>}}, 'links': {}}, 'mNeptune 2.5': root/processing/NeuroPAL/ImagingVolume/mNeptune 2.5 GroupBuilder {'attributes': {'namespace': 'ndx-multichannel-volume', 'neurodata_type': 'OpticalChannelPlus', 'object_id': 'bf0d8d1a-341e-4f88-8e13-decd9f3ffe7d'}, 'groups': {}, 'datasets': {'description': root/processing/NeuroPAL/ImagingVolume/mNeptune 2.5/description DatasetBuilder {'attributes': {}, 'data': '561-700-75m'}, 'emission_lambda': root/processing/NeuroPAL/ImagingVolume/mNeptune 2.5/emission_lambda DatasetBuilder {'attributes': {}, 'data': 700.0}, 'emission_range': root/processing/NeuroPAL/ImagingVolume/mNeptune 2.5/emission_range DatasetBuilder {'attributes': {}, 'data': <Closed HDF5 dataset>}, 'excitation_lambda': root/processing/NeuroPAL/ImagingVolume/mNeptune 2.5/excitation_lambda DatasetBuilder {'attributes': {}, 'data': 561.0}, 'excitation_range': root/processing/NeuroPAL/ImagingVolume/mNeptune 2.5/excitation_range DatasetBuilder {'attributes': {}, 'data': <Closed HDF5 dataset>}}, 'links': {}}, 'mNeptune 2.5 - high excite': root/processing/NeuroPAL/ImagingVolume/mNeptune 2.5 - high excite GroupBuilder {'attributes': {'namespace': 'ndx-multichannel-volume', 'neurodata_type': 'OpticalChannelPlus', 'object_id': '093aec39-5e77-494e-8f55-870b83e6b648'}, 'groups': {}, 'datasets': {'description': root/processing/NeuroPAL/ImagingVolume/mNeptune 2.5 - high excite/description DatasetBuilder {'attributes': {}, 'data': '639-700-75m'}, 'emission_lambda': root/processing/NeuroPAL/ImagingVolume/mNeptune 2.5 - high excite/emission_lambda DatasetBuilder {'attributes': {}, 'data': 700.0}, 'emission_range': root/processing/NeuroPAL/ImagingVolume/mNeptune 2.5 - high excite/emission_range DatasetBuilder {'attributes': {}, 'data': <Closed HDF5 dataset>}, 'excitation_lambda': root/processing/NeuroPAL/ImagingVolume/mNeptune 2.5 - high excite/excitation_lambda DatasetBuilder {'attributes': {}, 'data': 639.0}, 'excitation_range': root/processing/NeuroPAL/ImagingVolume/mNeptune 2.5 - high excite/excitation_range DatasetBuilder {'attributes': {}, 'data': <Closed HDF5 dataset>}}, 'links': {}}, 'mTagBFP2': root/processing/NeuroPAL/ImagingVolume/mTagBFP2 GroupBuilder {'attributes': {'namespace': 'ndx-multichannel-volume', 'neurodata_type': 'OpticalChannelPlus', 'object_id': '4687941d-fa61-456a-b42a-b4a70b252c27'}, 'groups': {}, 'datasets': {'description': root/processing/NeuroPAL/ImagingVolume/mTagBFP2/description DatasetBuilder {'attributes': {}, 'data': '405-460-50m'}, 'emission_lambda': root/processing/NeuroPAL/ImagingVolume/mTagBFP2/emission_lambda DatasetBuilder {'attributes': {}, 'data': 460.0}, 'emission_range': root/processing/NeuroPAL/ImagingVolume/mTagBFP2/emission_range DatasetBuilder {'attributes': {}, 'data': <Closed HDF5 dataset>}, 'excitation_lambda': root/processing/NeuroPAL/ImagingVolume/mTagBFP2/excitation_lambda DatasetBuilder {'attributes': {}, 'data': 405.0}, 'excitation_range': root/processing/NeuroPAL/ImagingVolume/mTagBFP2/excitation_range DatasetBuilder {'attributes': {}, 'data': <Closed HDF5 dataset>}}, 'links': {}}}, 'datasets': {'description': root/processing/NeuroPAL/ImagingVolume/description DatasetBuilder {'attributes': {}, 'data': 'NeuroPAL image of C elegan brain'}, 'grid_spacing': root/processing/NeuroPAL/ImagingVolume/grid_spacing DatasetBuilder {'attributes': {}, 'data': <Closed HDF5 dataset>}, 'location': root/processing/NeuroPAL/ImagingVolume/location DatasetBuilder {'attributes': {}, 'data': 'head'}, 'origin_coords': root/processing/NeuroPAL/ImagingVolume/origin_coords DatasetBuilder {'attributes': {}, 'data': <Closed HDF5 dataset>}, 'reference_frame': root/processing/NeuroPAL/ImagingVolume/reference_frame DatasetBuilder {'attributes': {}, 'data': 'origin = posterior, ventral, left'}}, 'links': {'Order_optical_channels': root/processing/NeuroPAL/ImagingVolume/Order_optical_channels LinkBuilder {'builder': root/processing/NeuroPAL/OpticalChannelRefs GroupBuilder {'attributes': {'namespace': 'ndx-multichannel-volume', 'neurodata_type': 'OpticalChannelReferences', 'object_id': '06c883b3-d20d-4a3f-820e-f88debf3cbc5'}, 'groups': {}, 'datasets': {'data': root/processing/NeuroPAL/OpticalChannelRefs/data DatasetBuilder {'attributes': {}, 'data': <StrDataset for Closed HDF5 dataset>}}, 'links': {}}}, 'device': root/processing/NeuroPAL/ImagingVolume/device LinkBuilder {'builder': root/general/devices/Microscope GroupBuilder {'attributes': {'description': 'One-photon microscope Weill', 'manufacturer': 'Leica', 'namespace': 'core', 'neurodata_type': 'Device', 'object_id': 'be613338-8248-418c-886f-7222468f4e78'}, 'groups': {}, 'datasets': {}, 'links': {}}}}}, \"Could not construct ImagingVolume object due to: CustomClassGenerator.set_init.<locals>.__init__: missing argument 'optical_channel_plus'\")"
     ]
    }
   ],
   "source": [
    "from pynwb import NWBHDF5IO\n",
    "\n",
    "with NWBHDF5IO(datapath+\"/nwb/\"+'2022-02-12-w01-NP1.nwb', mode='r', load_namespaces=True) as io:\n",
    "    read_nwbfile = io.read()\n",
    "    image = read_nwbfile.acquisition['NeuroPALImage'].data[:]\n",
    "    resolution = read_nwbfile.acquisition['NeuroPALImage'].resolution[:]\n",
    "    channels = read_nwbfile.acquisition['NeuroPALImage'].RGBW_channels[:]\n",
    "    seg = read_nwbfile.processing['NeuroPAL']['VolumeSegmentation'].voxel_mask[:]\n",
    "    im_vol = read_nwbfile.processing['NeuroPAL']['ImagingVolume']\n",
    "    optchans = read_nwbfile.processing['NeuroPAL']['ImagingVolume'].optical_channel_plus[:]\n",
    "    grid_spacing = im_vol.grid_spacing[:]\n",
    "    chan_refs = read_nwbfile.processing['NeuroPAL']['OpticalChannelRefs'].data[:]"
   ]
  },
  {
   "cell_type": "code",
   "execution_count": null,
   "metadata": {},
   "outputs": [],
   "source": []
  },
  {
   "attachments": {},
   "cell_type": "markdown",
   "metadata": {},
   "source": [
    "### Resample data "
   ]
  },
  {
   "cell_type": "code",
   "execution_count": 3,
   "metadata": {},
   "outputs": [
    {
     "ename": "KeyboardInterrupt",
     "evalue": "",
     "output_type": "error",
     "traceback": [
      "\u001b[0;31m---------------------------------------------------------------------------\u001b[0m",
      "\u001b[0;31mKeyboardInterrupt\u001b[0m                         Traceback (most recent call last)",
      "\u001b[1;32m/Users/danielsprague/FOCO_lab/eats-worm/neuroPAL/process.ipynb Cell 8\u001b[0m in \u001b[0;36m<cell line: 22>\u001b[0;34m()\u001b[0m\n\u001b[1;32m     <a href='vscode-notebook-cell:/Users/danielsprague/FOCO_lab/eats-worm/neuroPAL/process.ipynb#W4sZmlsZQ%3D%3D?line=17'>18</a>\u001b[0m RGBW \u001b[39m=\u001b[39m RGBW\u001b[39m.\u001b[39mastype(\u001b[39m'\u001b[39m\u001b[39mint32\u001b[39m\u001b[39m'\u001b[39m)\n\u001b[1;32m     <a href='vscode-notebook-cell:/Users/danielsprague/FOCO_lab/eats-worm/neuroPAL/process.ipynb#W4sZmlsZQ%3D%3D?line=19'>20</a>\u001b[0m newres \u001b[39m=\u001b[39m [\u001b[39m0.35\u001b[39m, \u001b[39m0.35\u001b[39m, \u001b[39m1.2\u001b[39m]\n\u001b[0;32m---> <a href='vscode-notebook-cell:/Users/danielsprague/FOCO_lab/eats-worm/neuroPAL/process.ipynb#W4sZmlsZQ%3D%3D?line=21'>22</a>\u001b[0m new_im \u001b[39m=\u001b[39m res\u001b[39m.\u001b[39;49mzoom_interpolate(newres, oldres, RGBW)\n\u001b[1;32m     <a href='vscode-notebook-cell:/Users/danielsprague/FOCO_lab/eats-worm/neuroPAL/process.ipynb#W4sZmlsZQ%3D%3D?line=23'>24</a>\u001b[0m new_im \u001b[39m=\u001b[39m new_im\u001b[39m.\u001b[39mastype(\u001b[39m'\u001b[39m\u001b[39muint16\u001b[39m\u001b[39m'\u001b[39m)\n\u001b[1;32m     <a href='vscode-notebook-cell:/Users/danielsprague/FOCO_lab/eats-worm/neuroPAL/process.ipynb#W4sZmlsZQ%3D%3D?line=24'>25</a>\u001b[0m new_im \u001b[39m=\u001b[39m np\u001b[39m.\u001b[39mtranspose(new_im, (\u001b[39m2\u001b[39m,\u001b[39m3\u001b[39m,\u001b[39m0\u001b[39m,\u001b[39m1\u001b[39m))\n",
      "File \u001b[0;32m~/FOCO_lab/eats-worm/neuroPAL/process/resample.py:40\u001b[0m, in \u001b[0;36mzoom_interpolate\u001b[0;34m(new_res, old_res, data)\u001b[0m\n\u001b[1;32m     37\u001b[0m yrescale \u001b[39m=\u001b[39m old_res[\u001b[39m1\u001b[39m]\u001b[39m/\u001b[39mnew_res[\u001b[39m1\u001b[39m]\n\u001b[1;32m     38\u001b[0m zrescale \u001b[39m=\u001b[39m old_res[\u001b[39m2\u001b[39m]\u001b[39m/\u001b[39mnew_res[\u001b[39m2\u001b[39m]\n\u001b[0;32m---> 40\u001b[0m newim \u001b[39m=\u001b[39m zoom(data, (xrescale, yrescale, zrescale,\u001b[39m1\u001b[39;49m))\n\u001b[1;32m     42\u001b[0m \u001b[39mreturn\u001b[39;00m newim\n",
      "File \u001b[0;32m~/anaconda3/envs/eats-worm/lib/python3.8/site-packages/scipy/ndimage/_interpolation.py:816\u001b[0m, in \u001b[0;36mzoom\u001b[0;34m(input, zoom, output, order, mode, cval, prefilter, grid_mode)\u001b[0m\n\u001b[1;32m    812\u001b[0m zoom \u001b[39m=\u001b[39m numpy\u001b[39m.\u001b[39mdivide(zoom_nominator, zoom_div,\n\u001b[1;32m    813\u001b[0m                     out\u001b[39m=\u001b[39mnumpy\u001b[39m.\u001b[39mones_like(\u001b[39minput\u001b[39m\u001b[39m.\u001b[39mshape, dtype\u001b[39m=\u001b[39mnumpy\u001b[39m.\u001b[39mfloat64),\n\u001b[1;32m    814\u001b[0m                     where\u001b[39m=\u001b[39mzoom_div \u001b[39m!=\u001b[39m \u001b[39m0\u001b[39m)\n\u001b[1;32m    815\u001b[0m zoom \u001b[39m=\u001b[39m numpy\u001b[39m.\u001b[39mascontiguousarray(zoom)\n\u001b[0;32m--> 816\u001b[0m _nd_image\u001b[39m.\u001b[39;49mzoom_shift(filtered, zoom, \u001b[39mNone\u001b[39;49;00m, output, order, mode, cval, npad,\n\u001b[1;32m    817\u001b[0m                      grid_mode)\n\u001b[1;32m    818\u001b[0m \u001b[39mreturn\u001b[39;00m output\n",
      "\u001b[0;31mKeyboardInterrupt\u001b[0m: "
     ]
    }
   ],
   "source": [
    "from scipy.interpolate import RegularGridInterpolator\n",
    "import tifffile\n",
    "from scipy.ndimage import zoom\n",
    "\n",
    "'''\n",
    "Currently takes ~1 min to run with zoom but seems to have good output.\n",
    "Much faster to run using Matlab GriddedInterpolant, but similar Python\n",
    "function not running efficiently. Zoom uses order 3 spline interpolation.\n",
    "TODO: make this more efficient\n",
    "'''\n",
    "\n",
    "reffile = sio.loadmat(datapath+ '/NP_FOCO_cropped/2022-02-12-w01-NP1/neuropal_1_MMStack_Pos0.ome.mat')\n",
    "\n",
    "data = reffile['data']\n",
    "oldres = np.asarray(reffile['info']['scale'][0][0]).flatten()\n",
    "channels = [0,2,4,1]\n",
    "RGBW = np.squeeze(data[:,:,:,channels])\n",
    "RGBW = RGBW.astype('int32')\n",
    "\n",
    "newres = [0.35, 0.35, 1.2]\n",
    "\n",
    "new_im = res.zoom_interpolate(newres, oldres, RGBW)\n",
    "\n",
    "new_im = new_im.astype('uint16')\n",
    "new_im = np.transpose(new_im, (2,3,0,1))\n",
    "\n",
    "tifffile.imwrite(datapath+ '/python_resample_test.tif', new_im, imagej = True)\n",
    "\n",
    "\n"
   ]
  },
  {
   "attachments": {},
   "cell_type": "markdown",
   "metadata": {},
   "source": [
    "### Match histogram of data"
   ]
  },
  {
   "cell_type": "code",
   "execution_count": 3,
   "metadata": {},
   "outputs": [
    {
     "name": "stderr",
     "output_type": "stream",
     "text": [
      "\n",
      "KeyboardInterrupt\n",
      "\n"
     ]
    }
   ],
   "source": [
    "'''\n",
    "Example code to process through all datasets in NP_FOCO_cropped and match histogram to a reference dataset.\n",
    "In this case, that reference dataset is 11_YAaLR.mat from the original NeuroPAL datasets\n",
    "'''\n",
    "\n",
    "\n",
    "hist_df = pd.DataFrame()\n",
    "\n",
    "reffile = sio.loadmat(datapath+'/NP_paper/all/11_YAaLR.mat')\n",
    "refchannels = reffile['prefs']['RGBW'][0][0]-1\n",
    "refdata = reffile['data']\n",
    "refRGBW = np.squeeze(refdata[:,:,:,refchannels])\n",
    "\n",
    "for folder in os.listdir(datapath+'/NP_foco_cropped'):\n",
    "    if not folder[0:3] == '.DS':\n",
    "        for file in os.listdir(datapath+'/NP_foco_cropped/'+folder):\n",
    "            if file[-4:] == '.mat' and file[-6:] != 'ID.mat':\n",
    "                imfile = sio.loadmat(datapath+'/NP_foco_cropped/'+folder +'/'+file)\n",
    "\n",
    "                data = imfile['data']\n",
    "                channels = [0,2,4,1]\n",
    "                RGBW = np.squeeze(data[:,:,:, channels])\n",
    "                RGBW = RGBW.astype('int32')\n",
    "\n",
    "                RGBW_new = hist.match_histogram(RGBW, refRGBW)\n",
    "\n",
    "                sio.savemat(datapath+'/NP_FOCO_hist_match/'+folder+'/'+'hist_match_image.mat', {'Hist_RGBW':RGBW_new})\n"
   ]
  },
  {
   "cell_type": "code",
   "execution_count": 17,
   "metadata": {},
   "outputs": [],
   "source": [
    "reffile = sio.loadmat(datapath+'/NP_paper/all/11_YAaLR.mat')\n",
    "refchannels = reffile['prefs']['RGBW'][0][0]-1\n",
    "refdata = reffile['data']\n",
    "refRGBW = np.squeeze(refdata[:,:,:,refchannels])\n",
    "\n",
    "imfile = sio.loadmat(datapath+'/NP_foco_Cropped/2022-02-12-w01-NP1/neuropal_1_MMStack_Pos0.ome.mat')\n",
    "\n",
    "data = imfile['data']\n",
    "channels = [0,2,4,1]\n",
    "RGBW = np.squeeze(data[:,:,:,channels])\n",
    "RGBW = RGBW.astype('int32')\n",
    "\n",
    "RGBW_new = hist.match_histogram(RGBW, refRGBW, 4096, 655356)"
   ]
  },
  {
   "cell_type": "code",
   "execution_count": 18,
   "metadata": {},
   "outputs": [
    {
     "name": "stdout",
     "output_type": "stream",
     "text": [
      "(45, 4, 240, 1000)\n"
     ]
    }
   ],
   "source": [
    "import tifffile\n",
    "\n",
    "RGBW_new = RGBW_new.astype('uint16')\n",
    "RGBW_new = np.transpose(RGBW_new, (2,3,0,1))\n",
    "\n",
    "print(RGBW_new.shape)\n",
    "\n",
    "tifffile.imwrite(datapath+ '/hist_match_test.tif', RGBW_new, imagej = True)"
   ]
  },
  {
   "cell_type": "code",
   "execution_count": 10,
   "metadata": {},
   "outputs": [
    {
     "name": "stdout",
     "output_type": "stream",
     "text": [
      "(45, 4, 240, 1000)\n"
     ]
    }
   ],
   "source": [
    "print(RGBW_new.shape)"
   ]
  },
  {
   "cell_type": "code",
   "execution_count": 11,
   "metadata": {},
   "outputs": [
    {
     "name": "stdout",
     "output_type": "stream",
     "text": [
      "uint16\n"
     ]
    }
   ],
   "source": [
    "imfile = sio.loadmat(datapath+'/NP_foco_cropped/2022-02-12-w01-NP1/neuropal_1_MMStack_Pos0.ome.mat')\n",
    "\n",
    "data = imfile['data']\n",
    "print(data.dtype)"
   ]
  },
  {
   "cell_type": "code",
   "execution_count": 13,
   "metadata": {},
   "outputs": [
    {
     "name": "stdout",
     "output_type": "stream",
     "text": [
      "65535\n"
     ]
    }
   ],
   "source": [
    "print(np.ma.minimum_fill_value(data))"
   ]
  },
  {
   "cell_type": "code",
   "execution_count": null,
   "metadata": {},
   "outputs": [],
   "source": []
  }
 ],
 "metadata": {
  "kernelspec": {
   "display_name": "eats-worm",
   "language": "python",
   "name": "python3"
  },
  "language_info": {
   "codemirror_mode": {
    "name": "ipython",
    "version": 3
   },
   "file_extension": ".py",
   "mimetype": "text/x-python",
   "name": "python",
   "nbconvert_exporter": "python",
   "pygments_lexer": "ipython3",
   "version": "3.8.16"
  },
  "orig_nbformat": 4,
  "vscode": {
   "interpreter": {
    "hash": "6afd60bf77dc5a726f39e2ac6e7422177fda28cf9b16e7e6e9b1b6fac6bee6e7"
   }
  }
 },
 "nbformat": 4,
 "nbformat_minor": 2
}
