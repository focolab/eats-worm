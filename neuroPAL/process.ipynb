{
 "cells": [
  {
   "attachments": {},
   "cell_type": "markdown",
   "metadata": {},
   "source": [
    "### Path setup and imports"
   ]
  },
  {
   "cell_type": "code",
   "execution_count": 1,
   "metadata": {},
   "outputs": [],
   "source": [
    "import matlab.engine\n",
    "import pandas as pd\n",
    "import matplotlib.pyplot as plt\n",
    "import numpy as np\n",
    "import scipy.io as sio\n",
    "import os\n",
    "import process.histogram as hist\n",
    "import process.resample as res"
   ]
  },
  {
   "cell_type": "code",
   "execution_count": 2,
   "metadata": {},
   "outputs": [],
   "source": [
    "# Set relevant paths\n",
    "datapath = os.path.join('/Users', 'danielsprague', 'FOCO_lab', 'data')\n"
   ]
  },
  {
   "attachments": {},
   "cell_type": "markdown",
   "metadata": {},
   "source": [
    "### Get data from NWB file"
   ]
  },
  {
   "cell_type": "code",
   "execution_count": 3,
   "metadata": {},
   "outputs": [
    {
     "ename": "KeyError",
     "evalue": "\"'ndx-multichannel-volume' not a namespace\"",
     "output_type": "error",
     "traceback": [
      "\u001b[0;31m---------------------------------------------------------------------------\u001b[0m",
      "\u001b[0;31mKeyError\u001b[0m                                  Traceback (most recent call last)",
      "\u001b[1;32m/Users/danielsprague/FOCO_lab/eats-worm/neuroPAL/process.ipynb Cell 5\u001b[0m in \u001b[0;36m<cell line: 3>\u001b[0;34m()\u001b[0m\n\u001b[1;32m      <a href='vscode-notebook-cell:/Users/danielsprague/FOCO_lab/eats-worm/neuroPAL/process.ipynb#X16sZmlsZQ%3D%3D?line=0'>1</a>\u001b[0m \u001b[39mfrom\u001b[39;00m \u001b[39mpynwb\u001b[39;00m \u001b[39mimport\u001b[39;00m NWBHDF5IO\n\u001b[1;32m      <a href='vscode-notebook-cell:/Users/danielsprague/FOCO_lab/eats-worm/neuroPAL/process.ipynb#X16sZmlsZQ%3D%3D?line=2'>3</a>\u001b[0m \u001b[39mwith\u001b[39;00m NWBHDF5IO(datapath\u001b[39m+\u001b[39m\u001b[39m\"\u001b[39m\u001b[39m/nwb/\u001b[39m\u001b[39m\"\u001b[39m\u001b[39m+\u001b[39m\u001b[39m'\u001b[39m\u001b[39m2022-02-12-w01-NP1.nwb\u001b[39m\u001b[39m'\u001b[39m, mode\u001b[39m=\u001b[39m\u001b[39m'\u001b[39m\u001b[39mr\u001b[39m\u001b[39m'\u001b[39m) \u001b[39mas\u001b[39;00m io:\n\u001b[0;32m----> <a href='vscode-notebook-cell:/Users/danielsprague/FOCO_lab/eats-worm/neuroPAL/process.ipynb#X16sZmlsZQ%3D%3D?line=3'>4</a>\u001b[0m     read_nwbfile \u001b[39m=\u001b[39m io\u001b[39m.\u001b[39;49mread()\n\u001b[1;32m      <a href='vscode-notebook-cell:/Users/danielsprague/FOCO_lab/eats-worm/neuroPAL/process.ipynb#X16sZmlsZQ%3D%3D?line=4'>5</a>\u001b[0m     image \u001b[39m=\u001b[39m read_nwbfile\u001b[39m.\u001b[39macquisition[\u001b[39m'\u001b[39m\u001b[39mNeuroPALImage\u001b[39m\u001b[39m'\u001b[39m]\u001b[39m.\u001b[39mdata[:]\n\u001b[1;32m      <a href='vscode-notebook-cell:/Users/danielsprague/FOCO_lab/eats-worm/neuroPAL/process.ipynb#X16sZmlsZQ%3D%3D?line=5'>6</a>\u001b[0m     resolution \u001b[39m=\u001b[39m read_nwbfile\u001b[39m.\u001b[39macquisition[\u001b[39m'\u001b[39m\u001b[39mNeuroPALImage\u001b[39m\u001b[39m'\u001b[39m]\u001b[39m.\u001b[39mresolution[:]\n",
      "File \u001b[0;32m~/anaconda3/envs/nwb/lib/python3.8/site-packages/hdmf/utils.py:645\u001b[0m, in \u001b[0;36mdocval.<locals>.dec.<locals>.func_call\u001b[0;34m(*args, **kwargs)\u001b[0m\n\u001b[1;32m    643\u001b[0m \u001b[39mdef\u001b[39;00m \u001b[39mfunc_call\u001b[39m(\u001b[39m*\u001b[39margs, \u001b[39m*\u001b[39m\u001b[39m*\u001b[39mkwargs):\n\u001b[1;32m    644\u001b[0m     pargs \u001b[39m=\u001b[39m _check_args(args, kwargs)\n\u001b[0;32m--> 645\u001b[0m     \u001b[39mreturn\u001b[39;00m func(args[\u001b[39m0\u001b[39;49m], \u001b[39m*\u001b[39;49m\u001b[39m*\u001b[39;49mpargs)\n",
      "File \u001b[0;32m~/anaconda3/envs/nwb/lib/python3.8/site-packages/pynwb/__init__.py:287\u001b[0m, in \u001b[0;36mNWBHDF5IO.read\u001b[0;34m(self, **kwargs)\u001b[0m\n\u001b[1;32m    284\u001b[0m         \u001b[39mraise\u001b[39;00m \u001b[39mTypeError\u001b[39;00m(\u001b[39m\"\u001b[39m\u001b[39mNWB version \u001b[39m\u001b[39m%s\u001b[39;00m\u001b[39m not supported. PyNWB supports NWB files version 2 and above.\u001b[39m\u001b[39m\"\u001b[39m \u001b[39m%\u001b[39m\n\u001b[1;32m    285\u001b[0m                         \u001b[39mstr\u001b[39m(file_version_str))\n\u001b[1;32m    286\u001b[0m \u001b[39m# read the file\u001b[39;00m\n\u001b[0;32m--> 287\u001b[0m \u001b[39mreturn\u001b[39;00m \u001b[39msuper\u001b[39;49m()\u001b[39m.\u001b[39;49mread(\u001b[39m*\u001b[39;49m\u001b[39m*\u001b[39;49mkwargs)\n",
      "File \u001b[0;32m~/anaconda3/envs/nwb/lib/python3.8/site-packages/hdmf/backends/hdf5/h5tools.py:453\u001b[0m, in \u001b[0;36mHDF5IO.read\u001b[0;34m(self, **kwargs)\u001b[0m\n\u001b[1;32m    450\u001b[0m     \u001b[39mraise\u001b[39;00m UnsupportedOperation(\u001b[39m\"\u001b[39m\u001b[39mCannot read from file \u001b[39m\u001b[39m%s\u001b[39;00m\u001b[39m in mode \u001b[39m\u001b[39m'\u001b[39m\u001b[39m%s\u001b[39;00m\u001b[39m'\u001b[39m\u001b[39m. Please use mode \u001b[39m\u001b[39m'\u001b[39m\u001b[39mr\u001b[39m\u001b[39m'\u001b[39m\u001b[39m, \u001b[39m\u001b[39m'\u001b[39m\u001b[39mr+\u001b[39m\u001b[39m'\u001b[39m\u001b[39m, or \u001b[39m\u001b[39m'\u001b[39m\u001b[39ma\u001b[39m\u001b[39m'\u001b[39m\u001b[39m.\u001b[39m\u001b[39m\"\u001b[39m\n\u001b[1;32m    451\u001b[0m                                \u001b[39m%\u001b[39m (\u001b[39mself\u001b[39m\u001b[39m.\u001b[39msource, \u001b[39mself\u001b[39m\u001b[39m.\u001b[39m__mode))\n\u001b[1;32m    452\u001b[0m \u001b[39mtry\u001b[39;00m:\n\u001b[0;32m--> 453\u001b[0m     \u001b[39mreturn\u001b[39;00m \u001b[39msuper\u001b[39;49m()\u001b[39m.\u001b[39;49mread(\u001b[39m*\u001b[39;49m\u001b[39m*\u001b[39;49mkwargs)\n\u001b[1;32m    454\u001b[0m \u001b[39mexcept\u001b[39;00m UnsupportedOperation \u001b[39mas\u001b[39;00m e:\n\u001b[1;32m    455\u001b[0m     \u001b[39mif\u001b[39;00m \u001b[39mstr\u001b[39m(e) \u001b[39m==\u001b[39m \u001b[39m'\u001b[39m\u001b[39mCannot build data. There are no values.\u001b[39m\u001b[39m'\u001b[39m:  \u001b[39m# pragma: no cover\u001b[39;00m\n",
      "File \u001b[0;32m~/anaconda3/envs/nwb/lib/python3.8/site-packages/hdmf/utils.py:645\u001b[0m, in \u001b[0;36mdocval.<locals>.dec.<locals>.func_call\u001b[0;34m(*args, **kwargs)\u001b[0m\n\u001b[1;32m    643\u001b[0m \u001b[39mdef\u001b[39;00m \u001b[39mfunc_call\u001b[39m(\u001b[39m*\u001b[39margs, \u001b[39m*\u001b[39m\u001b[39m*\u001b[39mkwargs):\n\u001b[1;32m    644\u001b[0m     pargs \u001b[39m=\u001b[39m _check_args(args, kwargs)\n\u001b[0;32m--> 645\u001b[0m     \u001b[39mreturn\u001b[39;00m func(args[\u001b[39m0\u001b[39;49m], \u001b[39m*\u001b[39;49m\u001b[39m*\u001b[39;49mpargs)\n",
      "File \u001b[0;32m~/anaconda3/envs/nwb/lib/python3.8/site-packages/hdmf/backends/io.py:42\u001b[0m, in \u001b[0;36mHDMFIO.read\u001b[0;34m(self, **kwargs)\u001b[0m\n\u001b[1;32m     39\u001b[0m \u001b[39mif\u001b[39;00m \u001b[39mall\u001b[39m(\u001b[39mlen\u001b[39m(v) \u001b[39m==\u001b[39m \u001b[39m0\u001b[39m \u001b[39mfor\u001b[39;00m v \u001b[39min\u001b[39;00m f_builder\u001b[39m.\u001b[39mvalues()):\n\u001b[1;32m     40\u001b[0m     \u001b[39m# TODO also check that the keys are appropriate. print a better error message\u001b[39;00m\n\u001b[1;32m     41\u001b[0m     \u001b[39mraise\u001b[39;00m UnsupportedOperation(\u001b[39m'\u001b[39m\u001b[39mCannot build data. There are no values.\u001b[39m\u001b[39m'\u001b[39m)\n\u001b[0;32m---> 42\u001b[0m container \u001b[39m=\u001b[39m \u001b[39mself\u001b[39;49m\u001b[39m.\u001b[39;49m__manager\u001b[39m.\u001b[39;49mconstruct(f_builder)\n\u001b[1;32m     43\u001b[0m \u001b[39mreturn\u001b[39;00m container\n",
      "File \u001b[0;32m~/anaconda3/envs/nwb/lib/python3.8/site-packages/hdmf/utils.py:645\u001b[0m, in \u001b[0;36mdocval.<locals>.dec.<locals>.func_call\u001b[0;34m(*args, **kwargs)\u001b[0m\n\u001b[1;32m    643\u001b[0m \u001b[39mdef\u001b[39;00m \u001b[39mfunc_call\u001b[39m(\u001b[39m*\u001b[39margs, \u001b[39m*\u001b[39m\u001b[39m*\u001b[39mkwargs):\n\u001b[1;32m    644\u001b[0m     pargs \u001b[39m=\u001b[39m _check_args(args, kwargs)\n\u001b[0;32m--> 645\u001b[0m     \u001b[39mreturn\u001b[39;00m func(args[\u001b[39m0\u001b[39;49m], \u001b[39m*\u001b[39;49m\u001b[39m*\u001b[39;49mpargs)\n",
      "File \u001b[0;32m~/anaconda3/envs/nwb/lib/python3.8/site-packages/hdmf/build/manager.py:280\u001b[0m, in \u001b[0;36mBuildManager.construct\u001b[0;34m(self, **kwargs)\u001b[0m\n\u001b[1;32m    276\u001b[0m     result \u001b[39m=\u001b[39m \u001b[39mself\u001b[39m\u001b[39m.\u001b[39m__type_map\u001b[39m.\u001b[39mconstruct(builder, \u001b[39mself\u001b[39m, parent)\n\u001b[1;32m    277\u001b[0m \u001b[39melse\u001b[39;00m:\n\u001b[1;32m    278\u001b[0m     \u001b[39m# we are at the top of the hierarchy,\u001b[39;00m\n\u001b[1;32m    279\u001b[0m     \u001b[39m# so it must be time to resolve parents\u001b[39;00m\n\u001b[0;32m--> 280\u001b[0m     result \u001b[39m=\u001b[39m \u001b[39mself\u001b[39;49m\u001b[39m.\u001b[39;49m__type_map\u001b[39m.\u001b[39;49mconstruct(builder, \u001b[39mself\u001b[39;49m, \u001b[39mNone\u001b[39;49;00m)\n\u001b[1;32m    281\u001b[0m     \u001b[39mself\u001b[39m\u001b[39m.\u001b[39m__resolve_parents(result)\n\u001b[1;32m    282\u001b[0m \u001b[39mself\u001b[39m\u001b[39m.\u001b[39mprebuilt(result, builder)\n",
      "File \u001b[0;32m~/anaconda3/envs/nwb/lib/python3.8/site-packages/hdmf/utils.py:645\u001b[0m, in \u001b[0;36mdocval.<locals>.dec.<locals>.func_call\u001b[0;34m(*args, **kwargs)\u001b[0m\n\u001b[1;32m    643\u001b[0m \u001b[39mdef\u001b[39;00m \u001b[39mfunc_call\u001b[39m(\u001b[39m*\u001b[39margs, \u001b[39m*\u001b[39m\u001b[39m*\u001b[39mkwargs):\n\u001b[1;32m    644\u001b[0m     pargs \u001b[39m=\u001b[39m _check_args(args, kwargs)\n\u001b[0;32m--> 645\u001b[0m     \u001b[39mreturn\u001b[39;00m func(args[\u001b[39m0\u001b[39;49m], \u001b[39m*\u001b[39;49m\u001b[39m*\u001b[39;49mpargs)\n",
      "File \u001b[0;32m~/anaconda3/envs/nwb/lib/python3.8/site-packages/hdmf/build/manager.py:789\u001b[0m, in \u001b[0;36mTypeMap.construct\u001b[0;34m(self, **kwargs)\u001b[0m\n\u001b[1;32m    787\u001b[0m     \u001b[39mraise\u001b[39;00m \u001b[39mValueError\u001b[39;00m(\u001b[39m'\u001b[39m\u001b[39mNo ObjectMapper found for builder of type \u001b[39m\u001b[39m%s\u001b[39;00m\u001b[39m'\u001b[39m \u001b[39m%\u001b[39m dt)\n\u001b[1;32m    788\u001b[0m \u001b[39melse\u001b[39;00m:\n\u001b[0;32m--> 789\u001b[0m     \u001b[39mreturn\u001b[39;00m obj_mapper\u001b[39m.\u001b[39;49mconstruct(builder, build_manager, parent)\n",
      "File \u001b[0;32m~/anaconda3/envs/nwb/lib/python3.8/site-packages/hdmf/utils.py:645\u001b[0m, in \u001b[0;36mdocval.<locals>.dec.<locals>.func_call\u001b[0;34m(*args, **kwargs)\u001b[0m\n\u001b[1;32m    643\u001b[0m \u001b[39mdef\u001b[39;00m \u001b[39mfunc_call\u001b[39m(\u001b[39m*\u001b[39margs, \u001b[39m*\u001b[39m\u001b[39m*\u001b[39mkwargs):\n\u001b[1;32m    644\u001b[0m     pargs \u001b[39m=\u001b[39m _check_args(args, kwargs)\n\u001b[0;32m--> 645\u001b[0m     \u001b[39mreturn\u001b[39;00m func(args[\u001b[39m0\u001b[39;49m], \u001b[39m*\u001b[39;49m\u001b[39m*\u001b[39;49mpargs)\n",
      "File \u001b[0;32m~/anaconda3/envs/nwb/lib/python3.8/site-packages/hdmf/build/objectmapper.py:1218\u001b[0m, in \u001b[0;36mObjectMapper.construct\u001b[0;34m(self, **kwargs)\u001b[0m\n\u001b[1;32m   1216\u001b[0m \u001b[39mcls\u001b[39m \u001b[39m=\u001b[39m manager\u001b[39m.\u001b[39mget_cls(builder)\n\u001b[1;32m   1217\u001b[0m \u001b[39m# gather all subspecs\u001b[39;00m\n\u001b[0;32m-> 1218\u001b[0m subspecs \u001b[39m=\u001b[39m \u001b[39mself\u001b[39;49m\u001b[39m.\u001b[39;49m__get_subspec_values(builder, \u001b[39mself\u001b[39;49m\u001b[39m.\u001b[39;49mspec, manager)\n\u001b[1;32m   1219\u001b[0m \u001b[39m# get the constructor argument that each specification corresponds to\u001b[39;00m\n\u001b[1;32m   1220\u001b[0m const_args \u001b[39m=\u001b[39m \u001b[39mdict\u001b[39m()\n",
      "File \u001b[0;32m~/anaconda3/envs/nwb/lib/python3.8/site-packages/hdmf/build/objectmapper.py:1147\u001b[0m, in \u001b[0;36mObjectMapper.__get_subspec_values\u001b[0;34m(self, builder, spec, manager)\u001b[0m\n\u001b[1;32m   1145\u001b[0m                 ret[subspec] \u001b[39m=\u001b[39m \u001b[39mself\u001b[39m\u001b[39m.\u001b[39m__flatten(sub_builder, subspec, manager)\n\u001b[1;32m   1146\u001b[0m     \u001b[39m# now process groups and datasets\u001b[39;00m\n\u001b[0;32m-> 1147\u001b[0m     \u001b[39mself\u001b[39;49m\u001b[39m.\u001b[39;49m__get_sub_builders(groups, spec\u001b[39m.\u001b[39;49mgroups, manager, ret)\n\u001b[1;32m   1148\u001b[0m     \u001b[39mself\u001b[39m\u001b[39m.\u001b[39m__get_sub_builders(datasets, spec\u001b[39m.\u001b[39mdatasets, manager, ret)\n\u001b[1;32m   1149\u001b[0m \u001b[39melif\u001b[39;00m \u001b[39misinstance\u001b[39m(spec, DatasetSpec):\n",
      "File \u001b[0;32m~/anaconda3/envs/nwb/lib/python3.8/site-packages/hdmf/build/objectmapper.py:1198\u001b[0m, in \u001b[0;36mObjectMapper.__get_sub_builders\u001b[0;34m(self, sub_builders, subspecs, manager, ret)\u001b[0m\n\u001b[1;32m   1195\u001b[0m     \u001b[39mcontinue\u001b[39;00m\n\u001b[1;32m   1196\u001b[0m \u001b[39mif\u001b[39;00m dt \u001b[39mis\u001b[39;00m \u001b[39mNone\u001b[39;00m:\n\u001b[1;32m   1197\u001b[0m     \u001b[39m# recurse\u001b[39;00m\n\u001b[0;32m-> 1198\u001b[0m     ret\u001b[39m.\u001b[39mupdate(\u001b[39mself\u001b[39;49m\u001b[39m.\u001b[39;49m__get_subspec_values(sub_builder, subspec, manager))\n\u001b[1;32m   1199\u001b[0m \u001b[39melse\u001b[39;00m:\n\u001b[1;32m   1200\u001b[0m     ret[subspec] \u001b[39m=\u001b[39m manager\u001b[39m.\u001b[39mconstruct(sub_builder)\n",
      "File \u001b[0;32m~/anaconda3/envs/nwb/lib/python3.8/site-packages/hdmf/build/objectmapper.py:1147\u001b[0m, in \u001b[0;36mObjectMapper.__get_subspec_values\u001b[0;34m(self, builder, spec, manager)\u001b[0m\n\u001b[1;32m   1145\u001b[0m                 ret[subspec] \u001b[39m=\u001b[39m \u001b[39mself\u001b[39m\u001b[39m.\u001b[39m__flatten(sub_builder, subspec, manager)\n\u001b[1;32m   1146\u001b[0m     \u001b[39m# now process groups and datasets\u001b[39;00m\n\u001b[0;32m-> 1147\u001b[0m     \u001b[39mself\u001b[39;49m\u001b[39m.\u001b[39;49m__get_sub_builders(groups, spec\u001b[39m.\u001b[39;49mgroups, manager, ret)\n\u001b[1;32m   1148\u001b[0m     \u001b[39mself\u001b[39m\u001b[39m.\u001b[39m__get_sub_builders(datasets, spec\u001b[39m.\u001b[39mdatasets, manager, ret)\n\u001b[1;32m   1149\u001b[0m \u001b[39melif\u001b[39;00m \u001b[39misinstance\u001b[39m(spec, DatasetSpec):\n",
      "File \u001b[0;32m~/anaconda3/envs/nwb/lib/python3.8/site-packages/hdmf/build/objectmapper.py:1176\u001b[0m, in \u001b[0;36mObjectMapper.__get_sub_builders\u001b[0;34m(self, sub_builders, subspecs, manager, ret)\u001b[0m\n\u001b[1;32m   1174\u001b[0m     \u001b[39mif\u001b[39;00m dt \u001b[39mis\u001b[39;00m \u001b[39mNone\u001b[39;00m \u001b[39mor\u001b[39;00m ns \u001b[39mis\u001b[39;00m \u001b[39mNone\u001b[39;00m:\n\u001b[1;32m   1175\u001b[0m         \u001b[39mcontinue\u001b[39;00m\n\u001b[0;32m-> 1176\u001b[0m     \u001b[39mfor\u001b[39;00m parent_dt \u001b[39min\u001b[39;00m manager\u001b[39m.\u001b[39;49mnamespace_catalog\u001b[39m.\u001b[39;49mget_hierarchy(ns, dt):\n\u001b[1;32m   1177\u001b[0m         builder_dt\u001b[39m.\u001b[39msetdefault(parent_dt, \u001b[39mlist\u001b[39m())\u001b[39m.\u001b[39mappend(g)\n\u001b[1;32m   1178\u001b[0m \u001b[39mfor\u001b[39;00m subspec \u001b[39min\u001b[39;00m subspecs:\n\u001b[1;32m   1179\u001b[0m     \u001b[39m# first get data type for the spec\u001b[39;00m\n",
      "File \u001b[0;32m~/anaconda3/envs/nwb/lib/python3.8/site-packages/hdmf/utils.py:645\u001b[0m, in \u001b[0;36mdocval.<locals>.dec.<locals>.func_call\u001b[0;34m(*args, **kwargs)\u001b[0m\n\u001b[1;32m    643\u001b[0m \u001b[39mdef\u001b[39;00m \u001b[39mfunc_call\u001b[39m(\u001b[39m*\u001b[39margs, \u001b[39m*\u001b[39m\u001b[39m*\u001b[39mkwargs):\n\u001b[1;32m    644\u001b[0m     pargs \u001b[39m=\u001b[39m _check_args(args, kwargs)\n\u001b[0;32m--> 645\u001b[0m     \u001b[39mreturn\u001b[39;00m func(args[\u001b[39m0\u001b[39;49m], \u001b[39m*\u001b[39;49m\u001b[39m*\u001b[39;49mpargs)\n",
      "File \u001b[0;32m~/anaconda3/envs/nwb/lib/python3.8/site-packages/hdmf/spec/namespace.py:328\u001b[0m, in \u001b[0;36mNamespaceCatalog.get_hierarchy\u001b[0;34m(self, **kwargs)\u001b[0m\n\u001b[1;32m    326\u001b[0m spec_ns \u001b[39m=\u001b[39m \u001b[39mself\u001b[39m\u001b[39m.\u001b[39m__namespaces\u001b[39m.\u001b[39mget(namespace)\n\u001b[1;32m    327\u001b[0m \u001b[39mif\u001b[39;00m spec_ns \u001b[39mis\u001b[39;00m \u001b[39mNone\u001b[39;00m:\n\u001b[0;32m--> 328\u001b[0m     \u001b[39mraise\u001b[39;00m \u001b[39mKeyError\u001b[39;00m(\u001b[39m\"\u001b[39m\u001b[39m'\u001b[39m\u001b[39m%s\u001b[39;00m\u001b[39m'\u001b[39m\u001b[39m not a namespace\u001b[39m\u001b[39m\"\u001b[39m \u001b[39m%\u001b[39m namespace)\n\u001b[1;32m    329\u001b[0m \u001b[39mreturn\u001b[39;00m spec_ns\u001b[39m.\u001b[39mget_hierarchy(data_type)\n",
      "\u001b[0;31mKeyError\u001b[0m: \"'ndx-multichannel-volume' not a namespace\""
     ]
    }
   ],
   "source": [
    "from pynwb import NWBHDF5IO\n",
    "\n",
    "with NWBHDF5IO(datapath+\"/nwb/\"+'2022-02-12-w01-NP1.nwb', mode='r', load_namespaces=True) as io:\n",
    "    read_nwbfile = io.read()\n",
    "    image = read_nwbfile.acquisition['NeuroPALImage'].data[:]\n",
    "    resolution = read_nwbfile.acquisition['NeuroPALImage'].resolution[:]\n",
    "    channels = read_nwbfile.acquisition['NeuroPALImage'].RGBW_channels[:]\n",
    "    seg = read_nwbfile.processing['NeuroPAL']['VolumeSegmentation'].voxel_mask[:]\n",
    "    im_vol = read_nwbfile.processing['NeuroPAL']['ImagingVolume']\n",
    "    optchans = read_nwbfile.processing['NeuroPAL']['ImagingVolume'].optical_channel_plus[:]\n",
    "    grid_spacing = im_vol.grid_spacing[:]\n",
    "    chan_refs = read_nwbfile.processing['NeuroPAL']['OpticalChannelRefs'].data[:]"
   ]
  },
  {
   "attachments": {},
   "cell_type": "markdown",
   "metadata": {},
   "source": [
    "### Resample data "
   ]
  },
  {
   "cell_type": "code",
   "execution_count": 5,
   "metadata": {},
   "outputs": [],
   "source": [
    "from scipy.interpolate import RegularGridInterpolator\n",
    "import tifffile\n",
    "from scipy.ndimage import zoom\n",
    "\n",
    "'''\n",
    "Currently takes ~1 min to run with zoom but seems to have good output.\n",
    "Much faster to run using Matlab GriddedInterpolant, but similar Python\n",
    "function not running efficiently. Zoom uses order 3 spline interpolation.\n",
    "TODO: make this more efficient\n",
    "'''\n",
    "\n",
    "reffile = sio.loadmat(datapath+ '/NP_FOCO_cropped/2022-02-12-w01-NP1/neuropal_1_MMStack_Pos0.ome.mat')\n",
    "\n",
    "data = reffile['data']\n",
    "oldres = np.asarray(reffile['info']['scale'][0][0]).flatten()\n",
    "channels = [0,2,4,1]\n",
    "RGBW = np.squeeze(data[:,:,:,channels])\n",
    "RGBW = RGBW.astype('int32')\n",
    "\n",
    "newres = [0.35, 0.35, 1.2]\n",
    "\n",
    "new_im = res.zoom_interpolate(newres, oldres, RGBW)\n",
    "\n",
    "new_im = new_im.astype('uint16')\n",
    "new_im = np.transpose(new_im, (2,3,0,1))\n",
    "\n",
    "tifffile.imwrite(datapath+ '/python_resample_test.tif', new_im, imagej = True)\n",
    "\n",
    "\n"
   ]
  },
  {
   "attachments": {},
   "cell_type": "markdown",
   "metadata": {},
   "source": [
    "### Match histogram of data"
   ]
  },
  {
   "cell_type": "code",
   "execution_count": null,
   "metadata": {},
   "outputs": [],
   "source": [
    "'''\n",
    "Example code to process through all datasets in NP_FOCO_cropped and match histogram to a reference dataset.\n",
    "In this case, that reference dataset is 11_YAaLR.mat from the original NeuroPAL datasets\n",
    "'''\n",
    "\n",
    "\n",
    "hist_df = pd.DataFrame()\n",
    "\n",
    "reffile = sio.loadmat(datapath+'/NP_paper/all/11_YAaLR.mat')\n",
    "refchannels = reffile['prefs']['RGBW'][0][0]-1\n",
    "refdata = reffile['data']\n",
    "refRGBW = np.squeeze(refdata[:,:,:,refchannels])\n",
    "\n",
    "for folder in os.listdir(datapath+'/NP_foco_cropped'):\n",
    "    if not folder[0:3] == '.DS':\n",
    "        for file in os.listdir(datapath+'/NP_foco_cropped/'+folder):\n",
    "            if file[-4:] == '.mat' and file[-6:] != 'ID.mat':\n",
    "                imfile = sio.loadmat(datapath+'/NP_foco_cropped/'+folder +'/'+file)\n",
    "\n",
    "                data = imfile['data']\n",
    "                channels = [0,2,4,1]\n",
    "                RGBW = np.squeeze(data[:,:,:, channels])\n",
    "                RGBW = RGBW.astype('int32')\n",
    "\n",
    "                RGBW_new = hist.match_histogram(RGBW, refRGBW, 4096, 65536)\n",
    "\n",
    "                sio.savemat(datapath+'/NP_FOCO_hist_match/'+folder+'/'+'hist_match_image.mat', {'Hist_RGBW':RGBW_new})\n"
   ]
  }
 ],
 "metadata": {
  "kernelspec": {
   "display_name": "nwb",
   "language": "python",
   "name": "python3"
  },
  "language_info": {
   "codemirror_mode": {
    "name": "ipython",
    "version": 3
   },
   "file_extension": ".py",
   "mimetype": "text/x-python",
   "name": "python",
   "nbconvert_exporter": "python",
   "pygments_lexer": "ipython3",
   "version": "3.8.16"
  },
  "orig_nbformat": 4,
  "vscode": {
   "interpreter": {
    "hash": "350f9b7359cb9055cd887767acae0b1839a3c0bff8851a59ae54bc63048a16eb"
   }
  }
 },
 "nbformat": 4,
 "nbformat_minor": 2
}
