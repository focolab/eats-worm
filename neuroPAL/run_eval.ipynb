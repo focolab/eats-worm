{
 "cells": [
  {
   "attachments": {},
   "cell_type": "markdown",
   "metadata": {},
   "source": [
    "### Setup and imports"
   ]
  },
  {
   "cell_type": "code",
   "execution_count": 1,
   "metadata": {},
   "outputs": [],
   "source": [
    "import numpy as np\n",
    "import matplotlib.pyplot as plt\n",
    "import pandas as pd\n",
    "import eval.eval as ev\n",
    "import process.file as f\n",
    "import process.atlas as atl\n",
    "import utils.utils as uti\n",
    "import visualize.visualize as vis\n",
    "import os \n",
    "import scipy\n",
    "from scipy import io as sio, ndimage\n",
    "import tifffile"
   ]
  },
  {
   "cell_type": "code",
   "execution_count": null,
   "metadata": {},
   "outputs": [],
   "source": [
    "'''\n",
    "Change datapath to wherever your data lives\n",
    "'''\n",
    "datapath = os.path.join('/Users', 'danielsprague', 'FOCO_lab', 'data')"
   ]
  },
  {
   "cell_type": "code",
   "execution_count": null,
   "metadata": {},
   "outputs": [],
   "source": [
    "atlas = atl()\n",
    "neuron_dict = atlas.create_dictionary()\n",
    "df_atlas = atlas.get_df()"
   ]
  },
  {
   "attachments": {},
   "cell_type": "markdown",
   "metadata": {},
   "source": [
    "### Visualizing positional alignment"
   ]
  },
  {
   "cell_type": "code",
   "execution_count": null,
   "metadata": {},
   "outputs": [],
   "source": [
    "%matplotlib inline\n",
    "\n",
    "'''\n",
    "Primary options for alignment visualization.\n",
    "'''\n",
    "\n",
    "df_data = f.proc_FOCO(datapath+'NP_FOCO_cropped/2022-02-12-w01-NP1')\n",
    "vis.plot_RGB_super(atlas.df, atlas.sigma, df_data)\n",
    "vis.plot_atlas_unrolled_superimpose(atlas.df, df_data)\n",
    "vis.plot_atlas_2d_views(atlas.df, atlas.sigma, df_data)"
   ]
  },
  {
   "cell_type": "code",
   "execution_count": null,
   "metadata": {},
   "outputs": [],
   "source": [
    "%matplotlib inline\n",
    "\n",
    "'''\n",
    "Can take in any number of datasets that you want to compare.\n",
    "Choose RGB_super to display only color information, unroll_super to display\n",
    "only position information, and all to display all visualization plots.\n",
    "Will output series of plots interspersed with accuracy information.\n",
    "'''\n",
    "\n",
    "def plot_compare_datasets(atlas, datasets, plots='all'):\n",
    "\n",
    "    for folder in os.listdir(datasets[0]):\n",
    "        print(folder)\n",
    "        if folder =='.DS_Store':\n",
    "            continue\n",
    "        for dataset in datasets:\n",
    "            print(dataset)\n",
    "            df_data = f.proc_FOCO(dataset +'/'+folder)\n",
    "            cost_xyz, cost_rgb = uti.calc_costs(atlas.df, atlas.sigma, df_data)\n",
    "            per_ID, per_correct, per_top2, correctID, correcttop2 = uti.check_accuracy(df_data)\n",
    "            print('total alignment cost:' + str(cost_xyz+cost_rgb))\n",
    "            print('percent accuracy:' + str(per_correct))\n",
    "\n",
    "            if plots == 'RGB_super':\n",
    "                vis.plot_RGB_super(atlas.df, atlas.sigma, df_data)\n",
    "            elif plots == 'unroll_super':\n",
    "                vis.plot_unrolled_superimpose(atlas.df, df_data)\n",
    "            elif plots == 'all':\n",
    "                vis.plot_all(atlas.df, atlas.sigma, df_data)"
   ]
  },
  {
   "cell_type": "code",
   "execution_count": null,
   "metadata": {},
   "outputs": [],
   "source": [
    "plot_compare_datasets(atlas, ['data/NP_FOCO_cropped', 'data/NP_FOCO_hist_med', 'data/NP_FOCO_hist_match'], plots='RGB_super')"
   ]
  },
  {
   "attachments": {},
   "cell_type": "markdown",
   "metadata": {},
   "source": [
    "### Visualizing inaccurately colored neurons"
   ]
  },
  {
   "cell_type": "code",
   "execution_count": null,
   "metadata": {},
   "outputs": [],
   "source": [
    "df_data = f.proc_FOCO(datapath+'NP_FOCO_cropped/2022-02-12-w01-NP1')\n",
    "vis.plot_unrolled_acc(atlas.df, df_data)"
   ]
  },
  {
   "attachments": {},
   "cell_type": "markdown",
   "metadata": {},
   "source": [
    "### Comparing accuracy of different approaches"
   ]
  },
  {
   "cell_type": "markdown",
   "metadata": {},
   "source": []
  }
 ],
 "metadata": {
  "kernelspec": {
   "display_name": "alignment",
   "language": "python",
   "name": "python3"
  },
  "language_info": {
   "codemirror_mode": {
    "name": "ipython",
    "version": 3
   },
   "file_extension": ".py",
   "mimetype": "text/x-python",
   "name": "python",
   "nbconvert_exporter": "python",
   "pygments_lexer": "ipython3",
   "version": "3.8.15"
  },
  "orig_nbformat": 4,
  "vscode": {
   "interpreter": {
    "hash": "9a246cbeb7e7d64baab736c5e4f8a8cf6205ec6202ebfe668ed4dad2c6630795"
   }
  }
 },
 "nbformat": 4,
 "nbformat_minor": 2
}
