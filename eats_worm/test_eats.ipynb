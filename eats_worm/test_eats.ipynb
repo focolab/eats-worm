{
 "cells": [
  {
   "cell_type": "code",
   "execution_count": 2,
   "metadata": {},
   "outputs": [],
   "source": [
    "import os\n",
    "from multifiletiff import *\n",
    "from improc.segfunctions import *\n",
    "import glob\n",
    "import json\n",
    "import tifffile\n"
   ]
  },
  {
   "cell_type": "code",
   "execution_count": 14,
   "metadata": {},
   "outputs": [],
   "source": [
    "datapath = '/Users/danielsprague/FOCO_lab/data/NP_FOCO_cropped/2022-02-12-w01-NP1'\n",
    "output_dir = '/Users/danielsprague/FOCO_lab/NP_FOCO_cropped/test_eats_NP'"
   ]
  },
  {
   "cell_type": "code",
   "execution_count": 15,
   "metadata": {},
   "outputs": [],
   "source": [
    "im = MultiFileTiff(datapath, output_dir=output_dir, offset=0, numz=45, numc=4, regen=False)"
   ]
  },
  {
   "cell_type": "code",
   "execution_count": 30,
   "metadata": {},
   "outputs": [
    {
     "ename": "TypeError",
     "evalue": "list indices must be integers or slices, not tuple",
     "output_type": "error",
     "traceback": [
      "\u001b[0;31m---------------------------------------------------------------------------\u001b[0m",
      "\u001b[0;31mTypeError\u001b[0m                                 Traceback (most recent call last)",
      "\u001b[1;32m/Users/danielsprague/FOCO_lab/eats-worm/eats_worm/test_eats.ipynb Cell 4\u001b[0m in \u001b[0;36m<cell line: 1>\u001b[0;34m()\u001b[0m\n\u001b[0;32m----> <a href='vscode-notebook-cell:/Users/danielsprague/FOCO_lab/eats-worm/eats_worm/test_eats.ipynb#W3sZmlsZQ%3D%3D?line=0'>1</a>\u001b[0m \u001b[39mprint\u001b[39m(im\u001b[39m.\u001b[39;49mget_t(\u001b[39m0\u001b[39;49m, channel\u001b[39m=\u001b[39;49m(\u001b[39m0\u001b[39;49m,\u001b[39m2\u001b[39;49m,\u001b[39m4\u001b[39;49m,\u001b[39m1\u001b[39;49m))\u001b[39m.\u001b[39mshape)\n",
      "File \u001b[0;32m~/FOCO_lab/eats-worm/eats_worm/multifiletiff.py:441\u001b[0m, in \u001b[0;36mMultiFileTiff.get_t\u001b[0;34m(self, *args, **kwargs)\u001b[0m\n\u001b[1;32m    438\u001b[0m \u001b[39melse\u001b[39;00m:\n\u001b[1;32m    439\u001b[0m     \u001b[39mif\u001b[39;00m t_in:\n\u001b[1;32m    440\u001b[0m         \u001b[39m#self.t = ti\u001b[39;00m\n\u001b[0;32m--> 441\u001b[0m         \u001b[39mreturn\u001b[39;00m \u001b[39mself\u001b[39;49m\u001b[39m.\u001b[39;49mget_frames(\u001b[39mself\u001b[39;49m\u001b[39m.\u001b[39;49mframes \u001b[39m+\u001b[39;49m (ti) \u001b[39m*\u001b[39;49m \u001b[39mself\u001b[39;49m\u001b[39m.\u001b[39;49mnumz, channel \u001b[39m=\u001b[39;49m channel, suppress_output \u001b[39m=\u001b[39;49m sup)\n\u001b[1;32m    442\u001b[0m     \u001b[39melse\u001b[39;00m:\n\u001b[1;32m    443\u001b[0m         \u001b[39mself\u001b[39m\u001b[39m.\u001b[39mt \u001b[39m+\u001b[39m\u001b[39m=\u001b[39m \u001b[39m1\u001b[39m\n",
      "File \u001b[0;32m~/FOCO_lab/eats-worm/eats_worm/multifiletiff.py:346\u001b[0m, in \u001b[0;36mMultiFileTiff.get_frames\u001b[0;34m(self, frames, channel, suppress_output)\u001b[0m\n\u001b[1;32m    335\u001b[0m \u001b[39m'''\u001b[39;00m\n\u001b[1;32m    336\u001b[0m \u001b[39mworkers = max(multiprocessing.cpu_count() // 2, 1)\u001b[39;00m\n\u001b[1;32m    337\u001b[0m \u001b[39mwith ThreadPoolExecutor(max_workers=workers) as executor: \u001b[39;00m\n\u001b[0;32m   (...)\u001b[0m\n\u001b[1;32m    343\u001b[0m \u001b[39m            pass\u001b[39;00m\n\u001b[1;32m    344\u001b[0m \u001b[39m'''\u001b[39;00m\n\u001b[1;32m    345\u001b[0m \u001b[39mfor\u001b[39;00m i \u001b[39min\u001b[39;00m \u001b[39mrange\u001b[39m(\u001b[39mlen\u001b[39m(frames)):\n\u001b[0;32m--> 346\u001b[0m     returnim[i] \u001b[39m=\u001b[39m \u001b[39mself\u001b[39;49m\u001b[39m.\u001b[39;49mget_frame(frames[i], channel \u001b[39m=\u001b[39;49m channel)\n\u001b[1;32m    347\u001b[0m \u001b[39m#returnim = np.array(returnim)\u001b[39;00m\n\u001b[1;32m    348\u001b[0m \u001b[39mreturn\u001b[39;00m returnim\n",
      "File \u001b[0;32m~/FOCO_lab/eats-worm/eats_worm/multifiletiff.py:307\u001b[0m, in \u001b[0;36mMultiFileTiff.get_frame\u001b[0;34m(self, frame, channel)\u001b[0m\n\u001b[1;32m    305\u001b[0m \u001b[39mfor\u001b[39;00m filecounter, pagecounter \u001b[39min\u001b[39;00m \u001b[39mself\u001b[39m\u001b[39m.\u001b[39mindexing[frame]:\n\u001b[1;32m    306\u001b[0m     channels\u001b[39m.\u001b[39mappend(\u001b[39mself\u001b[39m\u001b[39m.\u001b[39mtf[filecounter]\u001b[39m.\u001b[39mpages[pagecounter]\u001b[39m.\u001b[39masarray())\n\u001b[0;32m--> 307\u001b[0m \u001b[39mreturn\u001b[39;00m channels[channel]\n",
      "\u001b[0;31mTypeError\u001b[0m: list indices must be integers or slices, not tuple"
     ]
    }
   ],
   "source": []
  },
  {
   "cell_type": "code",
   "execution_count": 16,
   "metadata": {},
   "outputs": [],
   "source": [
    "tif = im.tf[0]"
   ]
  },
  {
   "cell_type": "code",
   "execution_count": 25,
   "metadata": {},
   "outputs": [
    {
     "name": "stdout",
     "output_type": "stream",
     "text": [
      "(6, 45, 240, 1000)\n"
     ]
    }
   ],
   "source": [
    "print(tif.asarray().shape)"
   ]
  },
  {
   "cell_type": "code",
   "execution_count": 24,
   "metadata": {},
   "outputs": [
    {
     "name": "stdout",
     "output_type": "stream",
     "text": [
      "(4, 45, 240, 1000)\n"
     ]
    }
   ],
   "source": [
    "tif_new = tifffile.TiffFile('../../data/test_eats_NP/extractor-objects/processed_data.tif')\n",
    "print(tif_new.asarray().shape)"
   ]
  },
  {
   "cell_type": "code",
   "execution_count": 27,
   "metadata": {},
   "outputs": [
    {
     "name": "stdout",
     "output_type": "stream",
     "text": [
      "(6, 45, 240, 1000)\n"
     ]
    }
   ],
   "source": [
    "tif_old = tifffile.TiffFile(datapath+ '/neuropal_1_MMStack_Pos0.ome.tif')\n",
    "print(tif_old.asarray().shape)"
   ]
  },
  {
   "cell_type": "code",
   "execution_count": 28,
   "metadata": {},
   "outputs": [
    {
     "name": "stdout",
     "output_type": "stream",
     "text": [
      "(45, 4, 240, 1000)\n"
     ]
    }
   ],
   "source": [
    "tif_match =  tifffile.TiffFile('/Users/danielsprague/FOCO_lab/data/NP_FOCO_hist_match/2022-02-12-w01-NP1/hist_match_test.tif')\n",
    "print(tif_match.asarray().shape)"
   ]
  },
  {
   "cell_type": "code",
   "execution_count": null,
   "metadata": {},
   "outputs": [],
   "source": []
  }
 ],
 "metadata": {
  "kernelspec": {
   "display_name": "eats-worm",
   "language": "python",
   "name": "python3"
  },
  "language_info": {
   "codemirror_mode": {
    "name": "ipython",
    "version": 3
   },
   "file_extension": ".py",
   "mimetype": "text/x-python",
   "name": "python",
   "nbconvert_exporter": "python",
   "pygments_lexer": "ipython3",
   "version": "3.8.16"
  },
  "orig_nbformat": 4,
  "vscode": {
   "interpreter": {
    "hash": "6afd60bf77dc5a726f39e2ac6e7422177fda28cf9b16e7e6e9b1b6fac6bee6e7"
   }
  }
 },
 "nbformat": 4,
 "nbformat_minor": 2
}
